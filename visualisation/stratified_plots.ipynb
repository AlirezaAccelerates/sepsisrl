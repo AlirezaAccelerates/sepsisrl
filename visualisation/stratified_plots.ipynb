{
 "cells": [
  {
   "cell_type": "code",
   "execution_count": 105,
   "metadata": {
    "collapsed": true
   },
   "outputs": [],
   "source": [
    "# Make plots of the deviation in treatment vs mortality, stratified for different subcohorts of patients\n",
    "# those with high SOFA: extract points where SOFA > 15\n",
    "# those with low SOFA: extract points where SOFA < 5\n",
    "# those with middling SOFA: between 5 and 15\n",
    "# Plot variation over time?"
   ]
  },
  {
   "cell_type": "code",
   "execution_count": 106,
   "metadata": {
    "collapsed": true
   },
   "outputs": [],
   "source": [
    "%matplotlib inline\n",
    "import pandas as pd\n",
    "import numpy as np\n",
    "import cPickle as pickle\n",
    "import matplotlib.pyplot as plt"
   ]
  },
  {
   "cell_type": "code",
   "execution_count": 107,
   "metadata": {
    "collapsed": true
   },
   "outputs": [],
   "source": [
    "df_orig = pd.read_csv('../data/MKdataset07Feb17.csv')"
   ]
  },
  {
   "cell_type": "code",
   "execution_count": 108,
   "metadata": {
    "collapsed": true
   },
   "outputs": [],
   "source": [
    "df_train = pd.read_csv('../data/rl_train_data_final_cont.csv')"
   ]
  },
  {
   "cell_type": "code",
   "execution_count": 109,
   "metadata": {
    "collapsed": true
   },
   "outputs": [],
   "source": [
    "df_test = pd.read_csv('../data/rl_test_data_final_cont.csv')"
   ]
  },
  {
   "cell_type": "code",
   "execution_count": 110,
   "metadata": {
    "collapsed": true
   },
   "outputs": [],
   "source": [
    "df_train_orig = df_orig[df_orig['icustayid'].isin(df_train['icustayid'].unique())]"
   ]
  },
  {
   "cell_type": "code",
   "execution_count": 111,
   "metadata": {
    "collapsed": true
   },
   "outputs": [],
   "source": [
    "df_test_orig = df_orig[df_orig['icustayid'].isin(df_test['icustayid'].unique())]"
   ]
  },
  {
   "cell_type": "code",
   "execution_count": 112,
   "metadata": {},
   "outputs": [
    {
     "data": {
      "text/html": [
       "<div>\n",
       "<style>\n",
       "    .dataframe thead tr:only-child th {\n",
       "        text-align: right;\n",
       "    }\n",
       "\n",
       "    .dataframe thead th {\n",
       "        text-align: left;\n",
       "    }\n",
       "\n",
       "    .dataframe tbody tr th {\n",
       "        vertical-align: top;\n",
       "    }\n",
       "</style>\n",
       "<table border=\"1\" class=\"dataframe\">\n",
       "  <thead>\n",
       "    <tr style=\"text-align: right;\">\n",
       "      <th></th>\n",
       "      <th>bloc</th>\n",
       "      <th>icustayid</th>\n",
       "      <th>charttime</th>\n",
       "      <th>gender</th>\n",
       "      <th>age</th>\n",
       "      <th>elixhauser</th>\n",
       "      <th>re_admission</th>\n",
       "      <th>died_in_hosp</th>\n",
       "      <th>mortality_90d</th>\n",
       "      <th>Weight_kg</th>\n",
       "      <th>...</th>\n",
       "      <th>median_dose_vaso</th>\n",
       "      <th>max_dose_vaso</th>\n",
       "      <th>input_total_tev</th>\n",
       "      <th>input_4hourly_tev</th>\n",
       "      <th>output_total</th>\n",
       "      <th>output_4hourly</th>\n",
       "      <th>cumulated_balance_tev</th>\n",
       "      <th>vaso_input</th>\n",
       "      <th>iv_input</th>\n",
       "      <th>reward</th>\n",
       "    </tr>\n",
       "  </thead>\n",
       "  <tbody>\n",
       "    <tr>\n",
       "      <th>0</th>\n",
       "      <td>0.000000</td>\n",
       "      <td>33</td>\n",
       "      <td>7214126400</td>\n",
       "      <td>0.0</td>\n",
       "      <td>0.669454</td>\n",
       "      <td>0.357143</td>\n",
       "      <td>0.0</td>\n",
       "      <td>1</td>\n",
       "      <td>1</td>\n",
       "      <td>0.247458</td>\n",
       "      <td>...</td>\n",
       "      <td>0.0</td>\n",
       "      <td>0.0</td>\n",
       "      <td>0.883180</td>\n",
       "      <td>0.838839</td>\n",
       "      <td>0.834329</td>\n",
       "      <td>0.776672</td>\n",
       "      <td>0.585147</td>\n",
       "      <td>0.0</td>\n",
       "      <td>4.0</td>\n",
       "      <td>-0.025</td>\n",
       "    </tr>\n",
       "    <tr>\n",
       "      <th>1</th>\n",
       "      <td>0.222560</td>\n",
       "      <td>33</td>\n",
       "      <td>7214140800</td>\n",
       "      <td>0.0</td>\n",
       "      <td>0.669454</td>\n",
       "      <td>0.357143</td>\n",
       "      <td>0.0</td>\n",
       "      <td>1</td>\n",
       "      <td>1</td>\n",
       "      <td>0.247458</td>\n",
       "      <td>...</td>\n",
       "      <td>0.0</td>\n",
       "      <td>0.0</td>\n",
       "      <td>0.888664</td>\n",
       "      <td>0.848773</td>\n",
       "      <td>0.839133</td>\n",
       "      <td>0.797009</td>\n",
       "      <td>0.592405</td>\n",
       "      <td>0.0</td>\n",
       "      <td>4.0</td>\n",
       "      <td>-0.025</td>\n",
       "    </tr>\n",
       "    <tr>\n",
       "      <th>2</th>\n",
       "      <td>0.356608</td>\n",
       "      <td>33</td>\n",
       "      <td>7214155200</td>\n",
       "      <td>0.0</td>\n",
       "      <td>0.669454</td>\n",
       "      <td>0.357143</td>\n",
       "      <td>0.0</td>\n",
       "      <td>1</td>\n",
       "      <td>1</td>\n",
       "      <td>0.247458</td>\n",
       "      <td>...</td>\n",
       "      <td>0.0</td>\n",
       "      <td>0.0</td>\n",
       "      <td>0.894069</td>\n",
       "      <td>0.854142</td>\n",
       "      <td>0.842937</td>\n",
       "      <td>0.779852</td>\n",
       "      <td>0.601449</td>\n",
       "      <td>0.0</td>\n",
       "      <td>4.0</td>\n",
       "      <td>-0.025</td>\n",
       "    </tr>\n",
       "    <tr>\n",
       "      <th>3</th>\n",
       "      <td>0.452837</td>\n",
       "      <td>33</td>\n",
       "      <td>7214169600</td>\n",
       "      <td>0.0</td>\n",
       "      <td>0.669454</td>\n",
       "      <td>0.357143</td>\n",
       "      <td>0.0</td>\n",
       "      <td>1</td>\n",
       "      <td>1</td>\n",
       "      <td>0.247458</td>\n",
       "      <td>...</td>\n",
       "      <td>0.0</td>\n",
       "      <td>0.0</td>\n",
       "      <td>0.898397</td>\n",
       "      <td>0.839183</td>\n",
       "      <td>0.845526</td>\n",
       "      <td>0.746598</td>\n",
       "      <td>0.609910</td>\n",
       "      <td>0.0</td>\n",
       "      <td>4.0</td>\n",
       "      <td>-0.025</td>\n",
       "    </tr>\n",
       "    <tr>\n",
       "      <th>4</th>\n",
       "      <td>0.527957</td>\n",
       "      <td>33</td>\n",
       "      <td>7214184000</td>\n",
       "      <td>0.0</td>\n",
       "      <td>0.669454</td>\n",
       "      <td>0.357143</td>\n",
       "      <td>0.0</td>\n",
       "      <td>1</td>\n",
       "      <td>1</td>\n",
       "      <td>0.247458</td>\n",
       "      <td>...</td>\n",
       "      <td>0.0</td>\n",
       "      <td>0.0</td>\n",
       "      <td>0.901804</td>\n",
       "      <td>0.821399</td>\n",
       "      <td>0.848365</td>\n",
       "      <td>0.758993</td>\n",
       "      <td>0.615787</td>\n",
       "      <td>0.0</td>\n",
       "      <td>4.0</td>\n",
       "      <td>-0.625</td>\n",
       "    </tr>\n",
       "  </tbody>\n",
       "</table>\n",
       "<p>5 rows × 60 columns</p>\n",
       "</div>"
      ],
      "text/plain": [
       "       bloc  icustayid   charttime  gender       age  elixhauser  \\\n",
       "0  0.000000         33  7214126400     0.0  0.669454    0.357143   \n",
       "1  0.222560         33  7214140800     0.0  0.669454    0.357143   \n",
       "2  0.356608         33  7214155200     0.0  0.669454    0.357143   \n",
       "3  0.452837         33  7214169600     0.0  0.669454    0.357143   \n",
       "4  0.527957         33  7214184000     0.0  0.669454    0.357143   \n",
       "\n",
       "   re_admission  died_in_hosp  mortality_90d  Weight_kg   ...    \\\n",
       "0           0.0             1              1   0.247458   ...     \n",
       "1           0.0             1              1   0.247458   ...     \n",
       "2           0.0             1              1   0.247458   ...     \n",
       "3           0.0             1              1   0.247458   ...     \n",
       "4           0.0             1              1   0.247458   ...     \n",
       "\n",
       "   median_dose_vaso  max_dose_vaso  input_total_tev  input_4hourly_tev  \\\n",
       "0               0.0            0.0         0.883180           0.838839   \n",
       "1               0.0            0.0         0.888664           0.848773   \n",
       "2               0.0            0.0         0.894069           0.854142   \n",
       "3               0.0            0.0         0.898397           0.839183   \n",
       "4               0.0            0.0         0.901804           0.821399   \n",
       "\n",
       "   output_total  output_4hourly  cumulated_balance_tev  vaso_input  iv_input  \\\n",
       "0      0.834329        0.776672               0.585147         0.0       4.0   \n",
       "1      0.839133        0.797009               0.592405         0.0       4.0   \n",
       "2      0.842937        0.779852               0.601449         0.0       4.0   \n",
       "3      0.845526        0.746598               0.609910         0.0       4.0   \n",
       "4      0.848365        0.758993               0.615787         0.0       4.0   \n",
       "\n",
       "   reward  \n",
       "0  -0.025  \n",
       "1  -0.025  \n",
       "2  -0.025  \n",
       "3  -0.025  \n",
       "4  -0.625  \n",
       "\n",
       "[5 rows x 60 columns]"
      ]
     },
     "execution_count": 112,
     "metadata": {},
     "output_type": "execute_result"
    }
   ],
   "source": [
    "df_test.head()"
   ]
  },
  {
   "cell_type": "code",
   "execution_count": 113,
   "metadata": {},
   "outputs": [
    {
     "data": {
      "text/html": [
       "<div>\n",
       "<style>\n",
       "    .dataframe thead tr:only-child th {\n",
       "        text-align: right;\n",
       "    }\n",
       "\n",
       "    .dataframe thead th {\n",
       "        text-align: left;\n",
       "    }\n",
       "\n",
       "    .dataframe tbody tr th {\n",
       "        vertical-align: top;\n",
       "    }\n",
       "</style>\n",
       "<table border=\"1\" class=\"dataframe\">\n",
       "  <thead>\n",
       "    <tr style=\"text-align: right;\">\n",
       "      <th></th>\n",
       "      <th>bloc</th>\n",
       "      <th>icustayid</th>\n",
       "      <th>charttime</th>\n",
       "      <th>gender</th>\n",
       "      <th>age</th>\n",
       "      <th>elixhauser</th>\n",
       "      <th>re_admission</th>\n",
       "      <th>died_in_hosp</th>\n",
       "      <th>mortality_90d</th>\n",
       "      <th>Weight_kg</th>\n",
       "      <th>...</th>\n",
       "      <th>mechvent</th>\n",
       "      <th>SOFA</th>\n",
       "      <th>SIRS</th>\n",
       "      <th>median_dose_vaso</th>\n",
       "      <th>max_dose_vaso</th>\n",
       "      <th>input_total_tev</th>\n",
       "      <th>input_4hourly_tev</th>\n",
       "      <th>output_total</th>\n",
       "      <th>output_4hourly</th>\n",
       "      <th>cumulated_balance_tev</th>\n",
       "    </tr>\n",
       "  </thead>\n",
       "  <tbody>\n",
       "    <tr>\n",
       "      <th>41</th>\n",
       "      <td>1</td>\n",
       "      <td>33</td>\n",
       "      <td>7214126400</td>\n",
       "      <td>0</td>\n",
       "      <td>24524.747419</td>\n",
       "      <td>5.0</td>\n",
       "      <td>0</td>\n",
       "      <td>1</td>\n",
       "      <td>1</td>\n",
       "      <td>73.0</td>\n",
       "      <td>...</td>\n",
       "      <td>1</td>\n",
       "      <td>2</td>\n",
       "      <td>1</td>\n",
       "      <td>0.0</td>\n",
       "      <td>0.0</td>\n",
       "      <td>10794.791767</td>\n",
       "      <td>725.000000</td>\n",
       "      <td>5686.0</td>\n",
       "      <td>300.0</td>\n",
       "      <td>5108.791767</td>\n",
       "    </tr>\n",
       "    <tr>\n",
       "      <th>42</th>\n",
       "      <td>2</td>\n",
       "      <td>33</td>\n",
       "      <td>7214140800</td>\n",
       "      <td>0</td>\n",
       "      <td>24524.747419</td>\n",
       "      <td>5.0</td>\n",
       "      <td>0</td>\n",
       "      <td>1</td>\n",
       "      <td>1</td>\n",
       "      <td>73.0</td>\n",
       "      <td>...</td>\n",
       "      <td>1</td>\n",
       "      <td>2</td>\n",
       "      <td>1</td>\n",
       "      <td>0.0</td>\n",
       "      <td>0.0</td>\n",
       "      <td>11600.277233</td>\n",
       "      <td>805.485467</td>\n",
       "      <td>6056.0</td>\n",
       "      <td>370.0</td>\n",
       "      <td>5544.277233</td>\n",
       "    </tr>\n",
       "    <tr>\n",
       "      <th>43</th>\n",
       "      <td>3</td>\n",
       "      <td>33</td>\n",
       "      <td>7214155200</td>\n",
       "      <td>0</td>\n",
       "      <td>24524.747419</td>\n",
       "      <td>5.0</td>\n",
       "      <td>0</td>\n",
       "      <td>1</td>\n",
       "      <td>1</td>\n",
       "      <td>73.0</td>\n",
       "      <td>...</td>\n",
       "      <td>1</td>\n",
       "      <td>2</td>\n",
       "      <td>1</td>\n",
       "      <td>0.0</td>\n",
       "      <td>0.0</td>\n",
       "      <td>12452.925233</td>\n",
       "      <td>852.648000</td>\n",
       "      <td>6366.0</td>\n",
       "      <td>310.0</td>\n",
       "      <td>6086.925233</td>\n",
       "    </tr>\n",
       "    <tr>\n",
       "      <th>44</th>\n",
       "      <td>4</td>\n",
       "      <td>33</td>\n",
       "      <td>7214169600</td>\n",
       "      <td>0</td>\n",
       "      <td>24524.747419</td>\n",
       "      <td>5.0</td>\n",
       "      <td>0</td>\n",
       "      <td>1</td>\n",
       "      <td>1</td>\n",
       "      <td>73.0</td>\n",
       "      <td>...</td>\n",
       "      <td>1</td>\n",
       "      <td>2</td>\n",
       "      <td>1</td>\n",
       "      <td>0.0</td>\n",
       "      <td>0.0</td>\n",
       "      <td>13180.573233</td>\n",
       "      <td>727.648000</td>\n",
       "      <td>6586.0</td>\n",
       "      <td>220.0</td>\n",
       "      <td>6594.573233</td>\n",
       "    </tr>\n",
       "    <tr>\n",
       "      <th>45</th>\n",
       "      <td>5</td>\n",
       "      <td>33</td>\n",
       "      <td>7214184000</td>\n",
       "      <td>0</td>\n",
       "      <td>24524.747419</td>\n",
       "      <td>5.0</td>\n",
       "      <td>0</td>\n",
       "      <td>1</td>\n",
       "      <td>1</td>\n",
       "      <td>73.0</td>\n",
       "      <td>...</td>\n",
       "      <td>1</td>\n",
       "      <td>2</td>\n",
       "      <td>1</td>\n",
       "      <td>0.0</td>\n",
       "      <td>0.0</td>\n",
       "      <td>13783.221233</td>\n",
       "      <td>602.648000</td>\n",
       "      <td>6836.0</td>\n",
       "      <td>250.0</td>\n",
       "      <td>6947.221233</td>\n",
       "    </tr>\n",
       "  </tbody>\n",
       "</table>\n",
       "<p>5 rows × 57 columns</p>\n",
       "</div>"
      ],
      "text/plain": [
       "    bloc  icustayid   charttime  gender           age  elixhauser  \\\n",
       "41     1         33  7214126400       0  24524.747419         5.0   \n",
       "42     2         33  7214140800       0  24524.747419         5.0   \n",
       "43     3         33  7214155200       0  24524.747419         5.0   \n",
       "44     4         33  7214169600       0  24524.747419         5.0   \n",
       "45     5         33  7214184000       0  24524.747419         5.0   \n",
       "\n",
       "    re_admission  died_in_hosp  mortality_90d  Weight_kg  \\\n",
       "41             0             1              1       73.0   \n",
       "42             0             1              1       73.0   \n",
       "43             0             1              1       73.0   \n",
       "44             0             1              1       73.0   \n",
       "45             0             1              1       73.0   \n",
       "\n",
       "            ...            mechvent  SOFA  SIRS  median_dose_vaso  \\\n",
       "41          ...                   1     2     1               0.0   \n",
       "42          ...                   1     2     1               0.0   \n",
       "43          ...                   1     2     1               0.0   \n",
       "44          ...                   1     2     1               0.0   \n",
       "45          ...                   1     2     1               0.0   \n",
       "\n",
       "    max_dose_vaso  input_total_tev  input_4hourly_tev  output_total  \\\n",
       "41            0.0     10794.791767         725.000000        5686.0   \n",
       "42            0.0     11600.277233         805.485467        6056.0   \n",
       "43            0.0     12452.925233         852.648000        6366.0   \n",
       "44            0.0     13180.573233         727.648000        6586.0   \n",
       "45            0.0     13783.221233         602.648000        6836.0   \n",
       "\n",
       "    output_4hourly  cumulated_balance_tev  \n",
       "41           300.0            5108.791767  \n",
       "42           370.0            5544.277233  \n",
       "43           310.0            6086.925233  \n",
       "44           220.0            6594.573233  \n",
       "45           250.0            6947.221233  \n",
       "\n",
       "[5 rows x 57 columns]"
      ]
     },
     "execution_count": 113,
     "metadata": {},
     "output_type": "execute_result"
    }
   ],
   "source": [
    "df_test_orig.head()"
   ]
  },
  {
   "cell_type": "code",
   "execution_count": 114,
   "metadata": {
    "collapsed": true
   },
   "outputs": [],
   "source": [
    "#  Extract out the interventions from the training dataset and find the medians for each dosage - these\n",
    "#  represent the continuous analog of the chosen actions"
   ]
  },
  {
   "cell_type": "code",
   "execution_count": 115,
   "metadata": {},
   "outputs": [
    {
     "data": {
      "text/html": [
       "<div>\n",
       "<style>\n",
       "    .dataframe thead tr:only-child th {\n",
       "        text-align: right;\n",
       "    }\n",
       "\n",
       "    .dataframe thead th {\n",
       "        text-align: left;\n",
       "    }\n",
       "\n",
       "    .dataframe tbody tr th {\n",
       "        vertical-align: top;\n",
       "    }\n",
       "</style>\n",
       "<table border=\"1\" class=\"dataframe\">\n",
       "  <thead>\n",
       "    <tr style=\"text-align: right;\">\n",
       "      <th></th>\n",
       "      <th>max_dose_vaso</th>\n",
       "      <th>input_4hourly_tev</th>\n",
       "    </tr>\n",
       "  </thead>\n",
       "  <tbody>\n",
       "    <tr>\n",
       "      <th>0</th>\n",
       "      <td>0.0</td>\n",
       "      <td>2100.0</td>\n",
       "    </tr>\n",
       "    <tr>\n",
       "      <th>1</th>\n",
       "      <td>0.0</td>\n",
       "      <td>1999.0</td>\n",
       "    </tr>\n",
       "    <tr>\n",
       "      <th>2</th>\n",
       "      <td>0.0</td>\n",
       "      <td>105.0</td>\n",
       "    </tr>\n",
       "    <tr>\n",
       "      <th>3</th>\n",
       "      <td>0.0</td>\n",
       "      <td>60.0</td>\n",
       "    </tr>\n",
       "    <tr>\n",
       "      <th>4</th>\n",
       "      <td>0.0</td>\n",
       "      <td>60.0</td>\n",
       "    </tr>\n",
       "  </tbody>\n",
       "</table>\n",
       "</div>"
      ],
      "text/plain": [
       "   max_dose_vaso  input_4hourly_tev\n",
       "0            0.0             2100.0\n",
       "1            0.0             1999.0\n",
       "2            0.0              105.0\n",
       "3            0.0               60.0\n",
       "4            0.0               60.0"
      ]
     },
     "execution_count": 115,
     "metadata": {},
     "output_type": "execute_result"
    }
   ],
   "source": [
    "interventions = df_train_orig[[\"max_dose_vaso\", \"input_4hourly_tev\"]]\n",
    "interventions.head()"
   ]
  },
  {
   "cell_type": "code",
   "execution_count": 116,
   "metadata": {
    "collapsed": true
   },
   "outputs": [],
   "source": [
    "adjusted_vaso = interventions[\"max_dose_vaso\"][interventions[\"max_dose_vaso\"] >0]\n",
    "adjusted_iv = interventions[\"input_4hourly_tev\"][interventions[\"input_4hourly_tev\"]>0]"
   ]
  },
  {
   "cell_type": "code",
   "execution_count": 117,
   "metadata": {
    "collapsed": true
   },
   "outputs": [],
   "source": [
    "vaso_vals = [0]\n",
    "vaso_vals.extend(adjusted_vaso.quantile([0.125,0.375,0.625,0.875]))\n",
    "iv_vals = [0]\n",
    "iv_vals.extend(adjusted_iv.quantile([0.125,0.375,0.625,0.875]))"
   ]
  },
  {
   "cell_type": "code",
   "execution_count": 118,
   "metadata": {
    "collapsed": true
   },
   "outputs": [],
   "source": [
    "def sliding_mean(data_array, window=1):\n",
    "    new_list = []\n",
    "    for i in range(len(data_array)):\n",
    "        indices = range(max(i - window + 1, 0),\n",
    "                        min(i + window + 1, len(data_array)))\n",
    "        avg = 0\n",
    "        for j in indices:\n",
    "            avg += data_array[j]\n",
    "        avg /= float(len(indices))\n",
    "        new_list.append(avg)     \n",
    "    return np.array(new_list)"
   ]
  },
  {
   "cell_type": "code",
   "execution_count": 119,
   "metadata": {
    "collapsed": true
   },
   "outputs": [],
   "source": [
    "#  Next two cells - can change to load the correct phys/agent actions we want in the plots"
   ]
  },
  {
   "cell_type": "code",
   "execution_count": 120,
   "metadata": {
    "collapsed": true
   },
   "outputs": [],
   "source": [
    "phys_actions = pickle.load(open( \"../continuous/sarsa_phys/phys_actions_test.p\", \"rb\" ))"
   ]
  },
  {
   "cell_type": "code",
   "execution_count": 121,
   "metadata": {
    "collapsed": true
   },
   "outputs": [],
   "source": [
    "autoencode_actions = pickle.load(open( \"../continuous/dqn_normal/dqn_normal_actions_test.p\", \"rb\" ))\n",
    "deeprl2_actions = pickle.load(open( \"../continuous/dqn_normal/dqn_normal_actions_test.p\", \"rb\" ))"
   ]
  },
  {
   "cell_type": "code",
   "execution_count": 122,
   "metadata": {},
   "outputs": [
    {
     "name": "stderr",
     "output_type": "stream",
     "text": [
      "/usr/local/lib/python2.7/dist-packages/ipykernel_launcher.py:2: SettingWithCopyWarning: \n",
      "A value is trying to be set on a copy of a slice from a DataFrame.\n",
      "Try using .loc[row_indexer,col_indexer] = value instead\n",
      "\n",
      "See the caveats in the documentation: http://pandas.pydata.org/pandas-docs/stable/indexing.html#indexing-view-versus-copy\n",
      "  \n",
      "/usr/local/lib/python2.7/dist-packages/ipykernel_launcher.py:3: SettingWithCopyWarning: \n",
      "A value is trying to be set on a copy of a slice from a DataFrame.\n",
      "Try using .loc[row_indexer,col_indexer] = value instead\n",
      "\n",
      "See the caveats in the documentation: http://pandas.pydata.org/pandas-docs/stable/indexing.html#indexing-view-versus-copy\n",
      "  This is separate from the ipykernel package so we can avoid doing imports until\n",
      "/usr/local/lib/python2.7/dist-packages/ipykernel_launcher.py:4: SettingWithCopyWarning: \n",
      "A value is trying to be set on a copy of a slice from a DataFrame.\n",
      "Try using .loc[row_indexer,col_indexer] = value instead\n",
      "\n",
      "See the caveats in the documentation: http://pandas.pydata.org/pandas-docs/stable/indexing.html#indexing-view-versus-copy\n",
      "  after removing the cwd from sys.path.\n"
     ]
    }
   ],
   "source": [
    "# Add in the actions selected to the df_test_orig dataframe. This helps with the stratified analysis afterwards\n",
    "df_test_orig['autoencode_actions'] = autoencode_actions\n",
    "df_test_orig['deeprl2_actions'] = deeprl2_actions\n",
    "df_test_orig['phys_actions'] = phys_actions"
   ]
  },
  {
   "cell_type": "code",
   "execution_count": 123,
   "metadata": {
    "collapsed": true
   },
   "outputs": [],
   "source": [
    "# Perform stratification based on what we're looking for. Uncomment the fields that are unwanted.\n",
    "\n",
    "# Low SOFA\n",
    "# df_test_orig = df_test_orig[df_test_orig['SOFA'] <= 5]\n",
    "\n",
    "# # Middling SOFA\n",
    "# df_test_orig = df_test_orig[df_test_orig['SOFA'] > 5]\n",
    "# df_test_orig = df_test_orig[df_test_orig['SOFA'] < 15]\n",
    "\n",
    "# # High SOFA\n",
    "df_test_orig = df_test_orig[df_test_orig['SOFA'] >= 15]"
   ]
  },
  {
   "cell_type": "code",
   "execution_count": 124,
   "metadata": {
    "collapsed": true
   },
   "outputs": [],
   "source": [
    "# Now re-select the phys_actions, autoencode_actions, and deeprl2_actions based on the statified dataset\n",
    "autoencode_actions = df_test_orig['autoencode_actions'].values\n",
    "deeprl2_actions = df_test_orig['deeprl2_actions'].values\n",
    "phys_actions = df_test_orig['phys_actions'].values"
   ]
  },
  {
   "cell_type": "code",
   "execution_count": 125,
   "metadata": {
    "scrolled": true
   },
   "outputs": [
    {
     "data": {
      "text/plain": [
       "<matplotlib.text.Text at 0x7fce548ba1d0>"
      ]
     },
     "execution_count": 125,
     "metadata": {},
     "output_type": "execute_result"
    },
    {
     "data": {
      "image/png": "[encoded data removed]",
      "text/plain": [
       "<matplotlib.figure.Figure at 0x7fcdec3bc550>"
      ]
     },
     "metadata": {},
     "output_type": "display_data"
    }
   ],
   "source": [
    "_ = plt.hist(phys_actions, bins=25)\n",
    "plt.title(\"Actions selected by physician\")\n",
    "plt.xlabel(\"Action number\")\n",
    "plt.ylabel(\"Frequency\")"
   ]
  },
  {
   "cell_type": "code",
   "execution_count": 126,
   "metadata": {
    "collapsed": true
   },
   "outputs": [],
   "source": [
    "inv_action_map = {}\n",
    "count = 0\n",
    "for i in range(5):\n",
    "    for j in range(5):\n",
    "        inv_action_map[count] = [i,j]\n",
    "        count += 1"
   ]
  },
  {
   "cell_type": "code",
   "execution_count": 127,
   "metadata": {
    "collapsed": true
   },
   "outputs": [],
   "source": [
    "phys_actions_tuple = [None for i in range(len(phys_actions))]\n",
    "deeprl2_actions_tuple = [None for i in range(len(phys_actions))]\n",
    "autoencode_actions_tuple = [None for i in range(len(phys_actions))]                                          \n",
    "\n",
    "for i in range(len(phys_actions)):\n",
    "    phys_actions_tuple[i] = inv_action_map[phys_actions[i]]\n",
    "    deeprl2_actions_tuple[i] = inv_action_map[deeprl2_actions[i]]\n",
    "    autoencode_actions_tuple[i] = inv_action_map[autoencode_actions[i]]"
   ]
  },
  {
   "cell_type": "code",
   "execution_count": 128,
   "metadata": {
    "collapsed": true
   },
   "outputs": [],
   "source": [
    "phys_actions_tuple = np.array(phys_actions_tuple)\n",
    "deeprl2_actions_tuple = np.array(deeprl2_actions_tuple)\n",
    "autoencode_actions_tuple = np.array(autoencode_actions_tuple)"
   ]
  },
  {
   "cell_type": "code",
   "execution_count": 129,
   "metadata": {
    "collapsed": true
   },
   "outputs": [],
   "source": [
    "phys_actions_iv = phys_actions_tuple[:,0]\n",
    "phys_actions_vaso = phys_actions_tuple[:,1]\n",
    "hist, x_edges, y_edges = np.histogram2d(phys_actions_iv, phys_actions_vaso, bins=5)"
   ]
  },
  {
   "cell_type": "code",
   "execution_count": 130,
   "metadata": {
    "collapsed": true
   },
   "outputs": [],
   "source": [
    "deeprl2_actions_iv = deeprl2_actions_tuple[:,0]\n",
    "deeprl2_actions_vaso = deeprl2_actions_tuple[:,1]\n",
    "hist2, _, _ = np.histogram2d(deeprl2_actions_iv, deeprl2_actions_vaso, bins=5)"
   ]
  },
  {
   "cell_type": "code",
   "execution_count": 131,
   "metadata": {
    "collapsed": true
   },
   "outputs": [],
   "source": [
    "autoencode_actions_iv = autoencode_actions_tuple[:,0]\n",
    "autoencode_actions_vaso = autoencode_actions_tuple[:,1]\n",
    "hist3, _, _ = np.histogram2d(autoencode_actions_iv, autoencode_actions_vaso, bins=5)"
   ]
  },
  {
   "cell_type": "code",
   "execution_count": 132,
   "metadata": {
    "collapsed": true
   },
   "outputs": [],
   "source": [
    "x_edges = np.arange(-0.5,5)\n",
    "y_edges = np.arange(-0.5,5)"
   ]
  },
  {
   "cell_type": "code",
   "execution_count": 133,
   "metadata": {},
   "outputs": [
    {
     "data": {
      "image/png": "[encoded data removed]",
      "text/plain": [
       "<matplotlib.figure.Figure at 0x7fcdec165890>"
      ]
     },
     "metadata": {},
     "output_type": "display_data"
    }
   ],
   "source": [
    "f, (ax1, ax2, ax3) = plt.subplots(1, 3, figsize=(16,4))\n",
    "ax1.imshow(np.flipud(hist), cmap=\"Blues\",extent=[x_edges[0], x_edges[-1],  y_edges[0],y_edges[-1]])\n",
    "ax2.imshow(np.flipud(hist2), cmap=\"OrRd\", extent=[x_edges[0], x_edges[-1],  y_edges[0],y_edges[-1]])\n",
    "ax3.imshow(np.flipud(hist3), cmap=\"Greens\", extent=[x_edges[0], x_edges[-1],  y_edges[0],y_edges[-1]])\n",
    "\n",
    "# ax1.grid(color='b', linestyle='-', linewidth=1)\n",
    "# ax2.grid(color='r', linestyle='-', linewidth=1)\n",
    "# ax3.grid(color='g', linestyle='-', linewidth=1)\n",
    "\n",
    "# Major ticks\n",
    "ax1.set_xticks(np.arange(0, 5, 1));\n",
    "ax1.set_yticks(np.arange(0, 5, 1));\n",
    "ax2.set_xticks(np.arange(0, 5, 1));\n",
    "ax2.set_yticks(np.arange(0, 5, 1));\n",
    "ax3.set_xticks(np.arange(0, 5, 1));\n",
    "ax3.set_yticks(np.arange(0, 5, 1));\n",
    "\n",
    "# Labels for major ticks\n",
    "ax1.set_xticklabels(np.arange(0, 5, 1));\n",
    "ax1.set_yticklabels(np.arange(0, 5, 1));\n",
    "ax2.set_xticklabels(np.arange(0, 5, 1));\n",
    "ax2.set_yticklabels(np.arange(0, 5, 1));\n",
    "ax3.set_xticklabels(np.arange(0, 5, 1));\n",
    "ax3.set_yticklabels(np.arange(0, 5, 1));\n",
    "\n",
    "# Minor ticks\n",
    "ax1.set_xticks(np.arange(-.5, 5, 1), minor=True);\n",
    "ax1.set_yticks(np.arange(-.5, 5, 1), minor=True);\n",
    "ax2.set_xticks(np.arange(-.5, 5, 1), minor=True);\n",
    "ax2.set_yticks(np.arange(-.5, 5, 1), minor=True);\n",
    "ax3.set_xticks(np.arange(-.5, 5, 1), minor=True);\n",
    "ax3.set_yticks(np.arange(-.5, 5, 1), minor=True);\n",
    "\n",
    "# Gridlines based on minor ticks\n",
    "ax1.grid(which='minor', color='b', linestyle='-', linewidth=1)\n",
    "ax2.grid(which='minor', color='r', linestyle='-', linewidth=1)\n",
    "ax3.grid(which='minor', color='g', linestyle='-', linewidth=1)\n",
    "\n",
    "im1 = ax1.pcolormesh(x_edges, y_edges, hist, cmap='Blues')\n",
    "f.colorbar(im1, ax=ax1, label = \"Action counts\")\n",
    "\n",
    "im2 = ax2.pcolormesh(x_edges, y_edges, hist2, cmap='OrRd')\n",
    "f.colorbar(im2, ax=ax2, label = \"Action counts\")\n",
    "\n",
    "im3 = ax3.pcolormesh(x_edges, y_edges, hist3, cmap='Greens')\n",
    "f.colorbar(im3, ax=ax3, label = \"Action counts\")\n",
    "\n",
    "ax1.set_ylabel('IV fluid dose')\n",
    "ax2.set_ylabel('IV fluid dose')\n",
    "ax3.set_ylabel('IV fluid dose')\n",
    "ax1.set_xlabel('Vasopressor dose')\n",
    "ax2.set_xlabel('Vasopressor dose')\n",
    "ax3.set_xlabel('Vasopressor dose')\n",
    "\n",
    "ax1.set_title(\"Physician policy\")\n",
    "ax2.set_title(\"Q-Network (Sparse Rewards) policy\")\n",
    "ax3.set_title(\"Q-Network (Shaped Rewards) policy\")\n",
    "plt.tight_layout()"
   ]
  },
  {
   "cell_type": "code",
   "execution_count": 134,
   "metadata": {
    "scrolled": true
   },
   "outputs": [
    {
     "data": {
      "image/png": "[encoded data removed]",
      "text/plain": [
       "<matplotlib.figure.Figure at 0x7fcde40c9450>"
      ]
     },
     "metadata": {},
     "output_type": "display_data"
    }
   ],
   "source": [
    "f, (ax1, ax2, ax3) = plt.subplots(1, 3, sharey=True, figsize=(12,4))\n",
    "ax1.hist(phys_actions, bins=50)\n",
    "ax1.set_title(\"Physician Actions\", fontsize = 10)\n",
    "ax2.hist(deeprl2_actions, bins=50, color='r')\n",
    "ax2.set_title(\"Q-Network Actions\", fontsize = 10)\n",
    "ax3.hist(autoencode_actions, bins=50, color='g')\n",
    "ax3.set_title(\"Autoencode Q-Network Actions\", fontsize = 10)\n",
    "f.text(0.5, -0.03, 'Action number', ha='center', fontsize=15)\n",
    "f.text(-0.02, 0.5, 'Frequency', va='center', rotation='vertical', fontsize = 15)\n",
    "# ax2.hist(autoencode_actions, bins=25, color ='g')\n",
    "plt.tight_layout()\n"
   ]
  },
  {
   "cell_type": "code",
   "execution_count": 135,
   "metadata": {
    "collapsed": true
   },
   "outputs": [],
   "source": [
    "def make_df_diff(op_actions):\n",
    "    op_vaso_med = []\n",
    "    op_iv_med = []\n",
    "    for action in op_actions:\n",
    "        iv,vaso = inv_action_map[action]\n",
    "        op_vaso_med.append(vaso_vals[vaso])\n",
    "        op_iv_med.append(iv_vals[iv])\n",
    "    iv_diff = np.array(op_iv_med) - np.array(df_test_orig['input_4hourly_tev'])\n",
    "    vaso_diff = np.array(op_vaso_med) - np.array(df_test_orig['max_dose_vaso'])\n",
    "    df_diff = pd.DataFrame()\n",
    "    df_diff['mort'] = np.array(df_test_orig['died_in_hosp'])\n",
    "    df_diff['iv_diff'] = iv_diff\n",
    "    df_diff['vaso_diff'] = vaso_diff\n",
    "    return df_diff"
   ]
  },
  {
   "cell_type": "code",
   "execution_count": 136,
   "metadata": {
    "collapsed": true
   },
   "outputs": [],
   "source": [
    "from scipy.stats import sem\n",
    "def make_iv_plot_data(df_diff):\n",
    "    bin_medians_iv = []\n",
    "    mort_iv = []\n",
    "    mort_std_iv= []\n",
    "    i = -800\n",
    "    while i <= 900:\n",
    "        count =df_diff.loc[(df_diff['iv_diff']>i-50) & (df_diff['iv_diff']<i+50)]\n",
    "        try:\n",
    "            res = sum(count['mort'])/float(len(count))\n",
    "            if len(count) >=2:\n",
    "                bin_medians_iv.append(i)\n",
    "                mort_iv.append(res)\n",
    "                mort_std_iv.append(sem(count['mort']))\n",
    "        except ZeroDivisionError:\n",
    "            pass\n",
    "        i += 100\n",
    "    return bin_medians_iv, mort_iv, mort_std_iv"
   ]
  },
  {
   "cell_type": "code",
   "execution_count": 137,
   "metadata": {
    "collapsed": true
   },
   "outputs": [],
   "source": [
    "from scipy.stats import sem\n",
    "def make_vaso_plot_data(df_diff):\n",
    "    bin_medians_vaso = []\n",
    "    mort_vaso= []\n",
    "    mort_std_vaso= []\n",
    "    i = -0.6\n",
    "    while i <= 0.8:\n",
    "        count =df_diff.loc[(df_diff['vaso_diff']>i-0.05) & (df_diff['vaso_diff']<i+0.05)]\n",
    "        try:\n",
    "            res = sum(count['mort'])/float(len(count))\n",
    "            if len(count) >=2:\n",
    "                bin_medians_vaso.append(i)\n",
    "                mort_vaso.append(res)\n",
    "                mort_std_vaso.append(sem(count['mort']))\n",
    "        except ZeroDivisionError:\n",
    "            pass\n",
    "        i += 0.1\n",
    "    return bin_medians_vaso, mort_vaso, mort_std_vaso"
   ]
  },
  {
   "cell_type": "code",
   "execution_count": 138,
   "metadata": {
    "collapsed": true
   },
   "outputs": [],
   "source": [
    "df_diff_autoencode = make_df_diff(autoencode_actions)\n",
    "df_diff_deeprl2 = make_df_diff(deeprl2_actions)"
   ]
  },
  {
   "cell_type": "code",
   "execution_count": 139,
   "metadata": {
    "collapsed": true
   },
   "outputs": [],
   "source": [
    "bin_med_iv_auto, mort_iv_auto, mort_std_iv_auto = make_iv_plot_data(df_diff_autoencode)\n",
    "bin_med_iv_deep, mort_iv_deep, mort_std_iv_deep = make_iv_plot_data(df_diff_deeprl2)\n",
    "bin_med_vaso_auto, mort_vaso_auto, mort_std_vaso_auto = make_vaso_plot_data(df_diff_autoencode)\n",
    "bin_med_vaso_deep, mort_vaso_deep, mort_std_vaso_deep = make_vaso_plot_data(df_diff_deeprl2)"
   ]
  },
  {
   "cell_type": "code",
   "execution_count": 140,
   "metadata": {
    "scrolled": false
   },
   "outputs": [
    {
     "data": {
      "text/plain": [
       "<matplotlib.text.Text at 0x7fce54bb7b50>"
      ]
     },
     "execution_count": 140,
     "metadata": {},
     "output_type": "execute_result"
    },
    {
     "data": {
      "image/png": "[encoded data removed]",
      "text/plain": [
       "<matplotlib.figure.Figure at 0x7fce543029d0>"
      ]
     },
     "metadata": {},
     "output_type": "display_data"
    }
   ],
   "source": [
    "f, ((ax1, ax2), (ax3, ax4)) = plt.subplots(2, 2, sharex='col', sharey='row', figsize = (7.5,5))\n",
    "ax1.plot(bin_med_vaso_deep, sliding_mean(mort_vaso_deep), color='r')\n",
    "ax1.fill_between(bin_med_vaso_deep, sliding_mean(mort_vaso_deep) - 1*mort_std_vaso_deep,  \n",
    "                 sliding_mean(mort_vaso_deep) + 1*mort_std_vaso_deep, color='tomato')\n",
    "ax1.set_title('Q-Network (Sparse Rewards) - Vasopressors')\n",
    "x_r = [i/10.0 for i in range(-6,10,2)]\n",
    "y_r = [i/20.0 for i in range(0,20,1)]\n",
    "ax1.set_xticks(x_r)\n",
    "ax1.set_yticks(y_r)\n",
    "ax1.grid()\n",
    "\n",
    "ax2.plot(bin_med_iv_deep, sliding_mean(mort_iv_deep), color='r')\n",
    "ax2.fill_between(bin_med_iv_deep, sliding_mean(mort_iv_deep) - 1*mort_std_iv_deep,  \n",
    "                 sliding_mean(mort_iv_deep) + 1*mort_std_iv_deep, color='tomato')\n",
    "ax2.set_title('Q-Network (Sparse Rewards) - IV fluids')\n",
    "x_iv = [i for i in range(-800,900,400)]\n",
    "ax2.set_xticks(x_iv)\n",
    "ax2.grid()\n",
    "\n",
    "ax3.plot(bin_med_vaso_auto, sliding_mean(mort_vaso_auto), color='g')\n",
    "ax3.fill_between(bin_med_vaso_auto, sliding_mean(mort_vaso_auto) - 1*mort_std_vaso_auto,  \n",
    "                 sliding_mean(mort_vaso_auto) + 1*mort_std_vaso_auto, color='palegreen')\n",
    "y_auto = [i/20.0 for i in range(0,21,1)]\n",
    "ax3.set_yticks(y_auto)\n",
    "ax3.set_title('Q-Network (Shaped Rewards) - Vasopressors')\n",
    "ax3.grid()\n",
    "\n",
    "ax4.plot(bin_med_iv_auto, sliding_mean(mort_iv_auto), color='g')\n",
    "ax4.fill_between(bin_med_iv_auto, sliding_mean(mort_iv_auto) - 1*mort_std_iv_auto,  \n",
    "                 sliding_mean(mort_iv_auto) + 1*mort_std_iv_auto, color='palegreen')\n",
    "ax4.set_title('Q-Network (Shaped Rewards) - IV Fluids')\n",
    "ax4.grid()\n",
    "plt.tight_layout()\n",
    "f.text(0.225, -0.03, 'Difference between optimal and physician vasopressor dose', ha='center', fontsize=10)\n",
    "f.text(0.775, -0.03, 'Difference between optimal and physician IV dose', ha='center', fontsize=10)\n",
    "f.text(-0.02, 0.5, 'Observed Mortality', va='center', rotation='vertical', fontsize = 10)"
   ]
  },
  {
   "cell_type": "code",
   "execution_count": null,
   "metadata": {
    "collapsed": true
   },
   "outputs": [],
   "source": []
  },
  {
   "cell_type": "code",
   "execution_count": null,
   "metadata": {
    "collapsed": true
   },
   "outputs": [],
   "source": []
  }
 ],
 "metadata": {
  "kernelspec": {
   "display_name": "Python 2",
   "language": "python",
   "name": "python2"
  },
  "language_info": {
   "codemirror_mode": {
    "name": "ipython",
    "version": 2
   },
   "file_extension": ".py",
   "mimetype": "text/x-python",
   "name": "python",
   "nbconvert_exporter": "python",
   "pygments_lexer": "ipython2",
   "version": "2.7.6"
  }
 },
 "nbformat": 4,
 "nbformat_minor": 2
}
