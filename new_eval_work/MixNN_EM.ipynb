{
 "cells": [
  {
   "cell_type": "code",
   "execution_count": 4,
   "metadata": {
    "collapsed": true
   },
   "outputs": [],
   "source": [
    "%matplotlib inline\n",
    "import matplotlib.pyplot as plt\n",
    "import tensorflow as tf\n",
    "import numpy as np\n",
    "import math\n",
    "import os\n",
    "import random\n",
    "import numpy as np\n",
    "import pandas as pd\n",
    "from pandas import DataFrame\n",
    "import cPickle as pickle\n",
    "import math\n",
    "import copy"
   ]
  },
  {
   "cell_type": "code",
   "execution_count": 5,
   "metadata": {
    "collapsed": true
   },
   "outputs": [],
   "source": [
    "os.environ['CUDA_VISIBLE_DEVICES'] = '0'"
   ]
  },
  {
   "cell_type": "code",
   "execution_count": 6,
   "metadata": {},
   "outputs": [
    {
     "name": "stdout",
     "output_type": "stream",
     "text": [
      "['Albumin', 'Arterial_BE', 'Arterial_lactate', 'Arterial_pH', 'BUN', 'CO2_mEqL', 'Calcium', 'Chloride', 'Creatinine', 'DiaBP', 'FiO2_1', 'GCS', 'Glucose', 'HCO3', 'HR', 'Hb', 'INR', 'Ionised_Ca', 'Magnesium', 'MeanBP', 'PT', 'PTT', 'PaO2_FiO2', 'Platelets_count', 'Potassium', 'RR', 'SGOT', 'SGPT', 'SIRS', 'SOFA', 'Shock_Index', 'Sodium', 'SpO2', 'SysBP', 'Temp_C', 'Total_bili', 'WBC_count', 'Weight_kg', 'age', 'elixhauser', 'gender', 'mechvent', 'output_4hourly', 'output_total', 'paCO2', 'paO2', 're_admission', 'bloc']\n",
      "48\n"
     ]
    }
   ],
   "source": [
    "with open('../data/state_features.txt') as f:\n",
    "    state_features = f.read().split()\n",
    "print (state_features)\n",
    "print len(state_features)"
   ]
  },
  {
   "cell_type": "code",
   "execution_count": 7,
   "metadata": {
    "collapsed": true
   },
   "outputs": [],
   "source": [
    "df = pd.read_csv('../data/rl_train_data_final_cont.csv')"
   ]
  },
  {
   "cell_type": "code",
   "execution_count": 8,
   "metadata": {
    "scrolled": false
   },
   "outputs": [
    {
     "data": {
      "text/html": [
       "<div>\n",
       "<style>\n",
       "    .dataframe thead tr:only-child th {\n",
       "        text-align: right;\n",
       "    }\n",
       "\n",
       "    .dataframe thead th {\n",
       "        text-align: left;\n",
       "    }\n",
       "\n",
       "    .dataframe tbody tr th {\n",
       "        vertical-align: top;\n",
       "    }\n",
       "</style>\n",
       "<table border=\"1\" class=\"dataframe\">\n",
       "  <thead>\n",
       "    <tr style=\"text-align: right;\">\n",
       "      <th></th>\n",
       "      <th>bloc</th>\n",
       "      <th>icustayid</th>\n",
       "      <th>charttime</th>\n",
       "      <th>gender</th>\n",
       "      <th>age</th>\n",
       "      <th>elixhauser</th>\n",
       "      <th>re_admission</th>\n",
       "      <th>died_in_hosp</th>\n",
       "      <th>mortality_90d</th>\n",
       "      <th>Weight_kg</th>\n",
       "      <th>...</th>\n",
       "      <th>median_dose_vaso</th>\n",
       "      <th>max_dose_vaso</th>\n",
       "      <th>input_total_tev</th>\n",
       "      <th>input_4hourly_tev</th>\n",
       "      <th>output_total</th>\n",
       "      <th>output_4hourly</th>\n",
       "      <th>cumulated_balance_tev</th>\n",
       "      <th>vaso_input</th>\n",
       "      <th>iv_input</th>\n",
       "      <th>reward</th>\n",
       "    </tr>\n",
       "  </thead>\n",
       "  <tbody>\n",
       "    <tr>\n",
       "      <th>0</th>\n",
       "      <td>0.000000</td>\n",
       "      <td>3</td>\n",
       "      <td>7245052800</td>\n",
       "      <td>0.0</td>\n",
       "      <td>0.412568</td>\n",
       "      <td>0.0</td>\n",
       "      <td>0.0</td>\n",
       "      <td>0</td>\n",
       "      <td>1</td>\n",
       "      <td>0.262712</td>\n",
       "      <td>...</td>\n",
       "      <td>0.0</td>\n",
       "      <td>0.0</td>\n",
       "      <td>0.797351</td>\n",
       "      <td>0.939195</td>\n",
       "      <td>0.589916</td>\n",
       "      <td>0.750908</td>\n",
       "      <td>0.554500</td>\n",
       "      <td>0.0</td>\n",
       "      <td>4.0</td>\n",
       "      <td>0.125000</td>\n",
       "    </tr>\n",
       "    <tr>\n",
       "      <th>1</th>\n",
       "      <td>0.222560</td>\n",
       "      <td>3</td>\n",
       "      <td>7245067200</td>\n",
       "      <td>0.0</td>\n",
       "      <td>0.412568</td>\n",
       "      <td>0.0</td>\n",
       "      <td>0.0</td>\n",
       "      <td>0</td>\n",
       "      <td>1</td>\n",
       "      <td>0.262712</td>\n",
       "      <td>...</td>\n",
       "      <td>0.0</td>\n",
       "      <td>0.0</td>\n",
       "      <td>0.831780</td>\n",
       "      <td>0.934543</td>\n",
       "      <td>0.674384</td>\n",
       "      <td>0.819589</td>\n",
       "      <td>0.580033</td>\n",
       "      <td>0.0</td>\n",
       "      <td>4.0</td>\n",
       "      <td>0.657321</td>\n",
       "    </tr>\n",
       "    <tr>\n",
       "      <th>2</th>\n",
       "      <td>0.356608</td>\n",
       "      <td>3</td>\n",
       "      <td>7245081600</td>\n",
       "      <td>0.0</td>\n",
       "      <td>0.412568</td>\n",
       "      <td>0.0</td>\n",
       "      <td>0.0</td>\n",
       "      <td>0</td>\n",
       "      <td>1</td>\n",
       "      <td>0.262712</td>\n",
       "      <td>...</td>\n",
       "      <td>0.0</td>\n",
       "      <td>0.0</td>\n",
       "      <td>0.833222</td>\n",
       "      <td>0.656575</td>\n",
       "      <td>0.765423</td>\n",
       "      <td>0.939329</td>\n",
       "      <td>0.555033</td>\n",
       "      <td>0.0</td>\n",
       "      <td>2.0</td>\n",
       "      <td>1.367788</td>\n",
       "    </tr>\n",
       "    <tr>\n",
       "      <th>3</th>\n",
       "      <td>0.452837</td>\n",
       "      <td>3</td>\n",
       "      <td>7245096000</td>\n",
       "      <td>0.0</td>\n",
       "      <td>0.412568</td>\n",
       "      <td>0.0</td>\n",
       "      <td>0.0</td>\n",
       "      <td>0</td>\n",
       "      <td>1</td>\n",
       "      <td>0.262712</td>\n",
       "      <td>...</td>\n",
       "      <td>0.0</td>\n",
       "      <td>0.0</td>\n",
       "      <td>0.834033</td>\n",
       "      <td>0.603831</td>\n",
       "      <td>0.783597</td>\n",
       "      <td>0.847073</td>\n",
       "      <td>0.545700</td>\n",
       "      <td>0.0</td>\n",
       "      <td>2.0</td>\n",
       "      <td>1.199099</td>\n",
       "    </tr>\n",
       "    <tr>\n",
       "      <th>4</th>\n",
       "      <td>0.527957</td>\n",
       "      <td>3</td>\n",
       "      <td>7245110400</td>\n",
       "      <td>0.0</td>\n",
       "      <td>0.412568</td>\n",
       "      <td>0.0</td>\n",
       "      <td>0.0</td>\n",
       "      <td>0</td>\n",
       "      <td>1</td>\n",
       "      <td>0.262712</td>\n",
       "      <td>...</td>\n",
       "      <td>0.0</td>\n",
       "      <td>0.0</td>\n",
       "      <td>0.834836</td>\n",
       "      <td>0.603831</td>\n",
       "      <td>0.794059</td>\n",
       "      <td>0.811583</td>\n",
       "      <td>0.539533</td>\n",
       "      <td>0.0</td>\n",
       "      <td>2.0</td>\n",
       "      <td>1.057596</td>\n",
       "    </tr>\n",
       "  </tbody>\n",
       "</table>\n",
       "<p>5 rows × 60 columns</p>\n",
       "</div>"
      ],
      "text/plain": [
       "       bloc  icustayid   charttime  gender       age  elixhauser  \\\n",
       "0  0.000000          3  7245052800     0.0  0.412568         0.0   \n",
       "1  0.222560          3  7245067200     0.0  0.412568         0.0   \n",
       "2  0.356608          3  7245081600     0.0  0.412568         0.0   \n",
       "3  0.452837          3  7245096000     0.0  0.412568         0.0   \n",
       "4  0.527957          3  7245110400     0.0  0.412568         0.0   \n",
       "\n",
       "   re_admission  died_in_hosp  mortality_90d  Weight_kg    ...     \\\n",
       "0           0.0             0              1   0.262712    ...      \n",
       "1           0.0             0              1   0.262712    ...      \n",
       "2           0.0             0              1   0.262712    ...      \n",
       "3           0.0             0              1   0.262712    ...      \n",
       "4           0.0             0              1   0.262712    ...      \n",
       "\n",
       "   median_dose_vaso  max_dose_vaso  input_total_tev  input_4hourly_tev  \\\n",
       "0               0.0            0.0         0.797351           0.939195   \n",
       "1               0.0            0.0         0.831780           0.934543   \n",
       "2               0.0            0.0         0.833222           0.656575   \n",
       "3               0.0            0.0         0.834033           0.603831   \n",
       "4               0.0            0.0         0.834836           0.603831   \n",
       "\n",
       "   output_total  output_4hourly  cumulated_balance_tev  vaso_input  iv_input  \\\n",
       "0      0.589916        0.750908               0.554500         0.0       4.0   \n",
       "1      0.674384        0.819589               0.580033         0.0       4.0   \n",
       "2      0.765423        0.939329               0.555033         0.0       2.0   \n",
       "3      0.783597        0.847073               0.545700         0.0       2.0   \n",
       "4      0.794059        0.811583               0.539533         0.0       2.0   \n",
       "\n",
       "     reward  \n",
       "0  0.125000  \n",
       "1  0.657321  \n",
       "2  1.367788  \n",
       "3  1.199099  \n",
       "4  1.057596  \n",
       "\n",
       "[5 rows x 60 columns]"
      ]
     },
     "execution_count": 8,
     "metadata": {},
     "output_type": "execute_result"
    }
   ],
   "source": [
    "df.head()"
   ]
  },
  {
   "cell_type": "code",
   "execution_count": 9,
   "metadata": {
    "collapsed": true
   },
   "outputs": [],
   "source": [
    "val_df = pd.read_csv('../data/rl_val_data_final_cont.csv')"
   ]
  },
  {
   "cell_type": "code",
   "execution_count": 10,
   "metadata": {
    "collapsed": true
   },
   "outputs": [],
   "source": [
    "test_df = pd.read_csv('../data/rl_test_data_final_cont.csv')"
   ]
  },
  {
   "cell_type": "code",
   "execution_count": 11,
   "metadata": {
    "collapsed": true
   },
   "outputs": [],
   "source": [
    "# define an action mapping - how to get an id representing the action from the (iv,vaso) tuple\n",
    "action_map = {}\n",
    "count = 0\n",
    "for iv in range(5):\n",
    "    for vaso in range(5):\n",
    "        action_map[(iv,vaso)] = count\n",
    "        count += 1"
   ]
  },
  {
   "cell_type": "code",
   "execution_count": 12,
   "metadata": {
    "collapsed": true
   },
   "outputs": [],
   "source": [
    "inv_action_map = {}\n",
    "for iv in range(5):\n",
    "    for vaso in range(5):\n",
    "        inv_action_map[5*iv+vaso] = [iv,vaso]    "
   ]
  },
  {
   "cell_type": "code",
   "execution_count": 13,
   "metadata": {
    "collapsed": true
   },
   "outputs": [],
   "source": [
    "# Extract features (state vector) and labels (action taken) out of the dataframe for train \n",
    "# and val sets\n",
    "def preproc(df_in, iv_bins = 5):\n",
    "    df = df_in.copy()\n",
    "    actions_raw = df[['iv_input', 'vaso_input']].values\n",
    "    keep_arr = np.loadtxt('../data/state_features.txt', dtype=str)\n",
    "    df = df[keep_arr]\n",
    "    actions_proc = (iv_bins*actions_raw[:, 0] + actions_raw[:, 1]).astype(int)\n",
    "    hist = np.histogram(actions_proc, 25)\n",
    "    actions_proc = pd.get_dummies(actions_proc).values\n",
    "    #print(hist) just to check\n",
    "    return df.values, actions_proc"
   ]
  },
  {
   "cell_type": "code",
   "execution_count": 14,
   "metadata": {
    "collapsed": true
   },
   "outputs": [],
   "source": [
    "def batch_sample(batch_size, features, labels):\n",
    "    idx = np.random.choice(np.arange(len(features)), batch_size)\n",
    "    return (np.vstack(features[idx]), np.vstack(labels[idx]))"
   ]
  },
  {
   "cell_type": "code",
   "execution_count": 15,
   "metadata": {
    "collapsed": true
   },
   "outputs": [],
   "source": [
    "train_feat, train_labels = preproc(df)\n",
    "val_feat, val_labels = preproc(val_df)\n",
    "test_feat, test_labels = preproc(test_df)"
   ]
  },
  {
   "cell_type": "code",
   "execution_count": 16,
   "metadata": {
    "collapsed": true
   },
   "outputs": [],
   "source": [
    "feature_length = len(train_feat[0])\n",
    "batch_size = 64\n",
    "num_actions = 25\n",
    "num_steps = 35000\n",
    "num_mix_comp = 5\n",
    "hidden_size = 64\n",
    "# we learn parameters for each of the mix components and the mixing probabilities\n",
    "num_outputs = num_actions*num_mix_comp + num_mix_comp"
   ]
  },
  {
   "cell_type": "code",
   "execution_count": 28,
   "metadata": {
    "collapsed": true
   },
   "outputs": [],
   "source": [
    "class MixNN():\n",
    "    def __init__(self):\n",
    "        self.states = tf.placeholder(tf.float32, shape = [None, feature_length])\n",
    "        \n",
    "        self.actions = tf.placeholder(tf.float32, shape = [None, num_actions])\n",
    "        \n",
    "        self.old_posterior = tf.placeholder(tf.float32, shape = [None, num_mix_comp])\n",
    "        \n",
    "        self.phase = tf.placeholder(tf.bool)\n",
    "        \n",
    "        self.states3d = tf.tile(tf.expand_dims(self.states, axis=2), [1, 1, num_mix_comp])\n",
    "        \n",
    "        self.actions3d = tf.tile(tf.expand_dims(self.actions, axis=2), [1, 1, num_mix_comp])\n",
    "        \n",
    "        # this first part computes p(z|s), of dimension (bs, num_mix_comps)\n",
    "        self.mixcomp_prob = self.mixcomp_net(self.states)\n",
    "\n",
    "        # this next part computes p(a|s,z)\n",
    "        self.mix_1 = tf.nn.relu(self.nn_mix_layer(self.states3d,feature_length,hidden_size, \"mix_layer1\"))\n",
    "        self.mix_2 = tf.nn.relu(self.nn_mix_layer(self.mix_1,hidden_size,hidden_size, \"mix_layer2\"))\n",
    "        self.mix_unnorm = self.nn_mix_layer(self.mix_1,hidden_size,num_actions, \"mix_layer3\")\n",
    "        self.mix_cond_prob = tf.nn.softmax(self.mix_unnorm, dim=1) # this is of dimension (bs,num_act, mix_comp)\n",
    "\n",
    "        \n",
    "        # generate p(a, z | s) for analysis, where a is ALL actions\n",
    "        #Firstly tile the mix probabilites. Currently it's of shape (bs, num_mix_comps). \n",
    "        #Convert to (bs, num_act, num_mix_comp)\n",
    "        self.expanded_mix_prob = tf.tile(tf.expand_dims(self.mixcomp_prob, axis=1), [1, num_actions,1])\n",
    "        \n",
    "        self.joint_prob = self.expanded_mix_prob * self.mix_cond_prob\n",
    "        \n",
    "        # generate p(a_vec|s) by summing out 2 dimension. a_vec is a vector of ALL actions.\n",
    "        # should be of dimension (bs,num_actions)\n",
    "        self.lik_as_vec = tf.reduce_sum(self.joint_prob, axis=2)\n",
    "        \n",
    "        # select the actions actually taken\n",
    "        self.vec = tf.tile(tf.expand_dims(self.actions, axis=2), [1,1,num_mix_comp])           \n",
    "        \n",
    "        # this is batchsize*num_actions*num_mix_comp. Sum out the num_actions dimension, which is zeroed out\n",
    "        # due to multiplication by one hot self.vec, to get tensor of shape bs*num_mix_comp\n",
    "        self.prob_actions_taken = tf.reduce_sum(self.vec*self.mix_cond_prob, axis=1) \n",
    "               \n",
    "        # form the joint prob term of components and actions actually taken\n",
    "        self.aux_joint = self.prob_actions_taken*self.mixcomp_prob\n",
    "        \n",
    "        # get the posterior for the current param setting: p(z|a,s), which is the E step of EM\n",
    "        self.post_cur_params = tf.divide(self.aux_joint, tf.expand_dims(tf.reduce_sum(self.aux_joint, axis=1),1))\n",
    "        \n",
    "        # FORM AUX FUNC FOR M STEP\n",
    "        # firstly get log aux joint\n",
    "        self.log_aux_joint = tf.log(self.aux_joint)\n",
    "        \n",
    "        # multiply by OLD posterior, passed in as placeholder, and then reduce_sum\n",
    "        self.aux = tf.reduce_sum(self.log_aux_joint * self.old_posterior)\n",
    "        self.loss = -1*self.aux\n",
    "        \n",
    "        # also create one using current posterior as an example\n",
    "        self.loss_cur_post = -1 * tf.reduce_sum(self.log_aux_joint * self.post_cur_params)\n",
    "\n",
    "        self.update_ops = tf.get_collection(tf.GraphKeys.UPDATE_OPS)\n",
    "        with tf.control_dependencies(self.update_ops):\n",
    "            self.train_step = tf.train.AdamOptimizer().minimize(self.loss)\n",
    "    \n",
    "    def mixcomp_net(self, inp):\n",
    "        fc_1_mixcomp = tf.contrib.layers.fully_connected(inp, 128, activation_fn=tf.nn.relu)\n",
    "        bn_1_mixcomp = tf.contrib.layers.batch_norm(fc_1_mixcomp, center=True, scale=True, is_training=self.phase)\n",
    "        fc_2_mixcomp = tf.contrib.layers.fully_connected(bn_1_mixcomp , 128, activation_fn=tf.nn.relu)\n",
    "        bn_2_mixcomp = tf.contrib.layers.batch_norm(fc_2_mixcomp, center=True, scale=True, is_training=self.phase)\n",
    "        mixcomp_logit = tf.contrib.layers.fully_connected(bn_2_mixcomp , num_mix_comp, activation_fn=None)\n",
    "        return tf.nn.softmax(mixcomp_logit)\n",
    "\n",
    "    def nn_mix_layer(self, inp, d_in, d_out, scope):\n",
    "        # inp is of size (batchsize,d_in,num_mix)\n",
    "        # output produced is of size (batchsize, d_out, num_mix).\n",
    "        # no activation added, so this works for last layer too\n",
    "        W = tf.get_variable(str(scope) + \"Wmix\",shape = [d_in, d_out, num_mix_comp], \n",
    "                            initializer = tf.contrib.layers.xavier_initializer())\n",
    "        b = tf.get_variable(str(scope)+\"bmix\", shape = [d_out, num_mix_comp])\n",
    "        # might need a tf.tile here for biases\n",
    "        processed_inp = tf.einsum(\"ilk,ljk->ijk\", inp, W) + b\n",
    "        return processed_inp"
   ]
  },
  {
   "cell_type": "code",
   "execution_count": 29,
   "metadata": {
    "collapsed": true
   },
   "outputs": [],
   "source": [
    "config = tf.ConfigProto()\n",
    "config.gpu_options.allow_growth = True  # Don't use all GPUs \n",
    "config.allow_soft_placement = True  # Enable manual control"
   ]
  },
  {
   "cell_type": "code",
   "execution_count": 34,
   "metadata": {
    "collapsed": true
   },
   "outputs": [],
   "source": [
    "def get_probs_for_analysis(dataset, sess, mdl):\n",
    "    # get p(a_vec| s) for each entry in dataset -- this sums over the mixture components\n",
    "    # get p(a_vec| s, z^(k)) for each entry in the dataset for each mix component -- 3D tensor\n",
    "    if dataset == 'train':\n",
    "        features, labels = train_feat,train_labels\n",
    "    elif dataset == 'val':\n",
    "        features, labels = val_feat,val_labels\n",
    "    elif dataset == 'test':\n",
    "        features, labels = test_feat,test_labels\n",
    "    \n",
    "    j = 0\n",
    "    \n",
    "    marginal_lik_vec = []\n",
    "    conditional_lik_vec = []\n",
    "    \n",
    "    while (j < len(features)):\n",
    "        feat = None\n",
    "        lbls = None\n",
    "        if len(features) - j < batch_size:\n",
    "            feat = features[j:]\n",
    "            lbls = labels[j:]\n",
    "        else:\n",
    "            feat = features[j:j+batch_size]\n",
    "            lbls = labels[j:j+batch_size]\n",
    "        feat = feat.reshape(len(feat), feature_length)\n",
    "        acs = lbls.reshape(len(lbls), num_actions)\n",
    "        if j % 10000 == 0: \n",
    "            print('Processing indx: ', j )\n",
    "        \n",
    "        batch_marg_lik_vec, batch_cond_lik_vec = sess.run([mdl.lik_as_vec, mdl.mix_cond_prob], \n",
    "                          feed_dict={mdl.states : feat, mdl.actions: acs, mdl.phase: 0})\n",
    "        \n",
    "        marginal_lik_vec.append(batch_marg_lik_vec)\n",
    "        conditional_lik_vec.append(batch_cond_lik_vec)\n",
    "        \n",
    "        if len(features) - j < batch_size:\n",
    "            j = len(features)\n",
    "        else:\n",
    "            j += batch_size\n",
    "    \n",
    "    marginal_lik_vec = np.vstack([arr for arr in marginal_lik_vec])\n",
    "    conditional_lik_vec = np.vstack([arr for arr in conditional_lik_vec])\n",
    "    return marginal_lik_vec, conditional_lik_vec"
   ]
  },
  {
   "cell_type": "code",
   "execution_count": 35,
   "metadata": {
    "collapsed": true
   },
   "outputs": [],
   "source": [
    "def get_posterior(dataset, sess, mdl):\n",
    "    if dataset == 'train':\n",
    "        features, labels = train_feat,train_labels\n",
    "    elif dataset == 'val':\n",
    "        features, labels = val_feat,val_labels\n",
    "    elif dataset == 'test':\n",
    "        features, labels = test_feat,test_labels\n",
    "    \n",
    "    j = 0\n",
    "    \n",
    "    posterior = []\n",
    "    \n",
    "    while (j < len(features)):\n",
    "        feat = None\n",
    "        lbls = None\n",
    "        if len(features) - j < batch_size:\n",
    "            feat = features[j:]\n",
    "            lbls = labels[j:]\n",
    "        else:\n",
    "            feat = features[j:j+batch_size]\n",
    "            lbls = labels[j:j+batch_size]\n",
    "        feat = feat.reshape(len(feat), feature_length)\n",
    "        acs = lbls.reshape(len(lbls), num_actions)\n",
    "        if j % 10000 == 0: \n",
    "            print('Processing indx: ', j )\n",
    "        \n",
    "        post = sess.run(mdl.post_cur_params, \n",
    "                          feed_dict={mdl.states : feat, mdl.actions: acs, mdl.phase: 0})\n",
    "        \n",
    "        posterior.append(post)\n",
    "\n",
    "        if len(features) - j < batch_size:\n",
    "            j = len(features)\n",
    "        else:\n",
    "            j += batch_size\n",
    "    \n",
    "    posterior = np.vstack([arr for arr in posterior])\n",
    "\n",
    "    return posterior\n"
   ]
  },
  {
   "cell_type": "code",
   "execution_count": 36,
   "metadata": {
    "collapsed": true
   },
   "outputs": [],
   "source": [
    "# Runs eval step.\n",
    "# Do we want to use current posterior or old posterior? cur is probably better...\n",
    "def run_eval(dataset,sess, mdl):\n",
    "    if dataset == 'train':\n",
    "        features, labels = train_feat,train_labels\n",
    "    elif dataset == 'val':\n",
    "        features, labels = val_feat,val_labels\n",
    "    elif dataset == 'test':\n",
    "        features, labels = test_feat,test_labels\n",
    "\n",
    "    total_loss = 0\n",
    "    j = 0\n",
    "    while (j < len(features)):\n",
    "        feat = None\n",
    "        lbls = None\n",
    "        if len(features) - j < batch_size:\n",
    "            feat = features[j:-1]\n",
    "            lbls = labels[j:-1]\n",
    "        else:\n",
    "            feat = features[j:j+batch_size]\n",
    "            lbls = labels[j:j+batch_size]\n",
    "        feat = feat.reshape(len(feat), feature_length)\n",
    "        acs = lbls.reshape(len(lbls), num_actions)\n",
    "        if j % 10000 == 0: \n",
    "            print('Processing val set indx: ', j )\n",
    "        loss = sess.run(mdl.loss_cur_post, \n",
    "                          feed_dict={mdl.states : feat, mdl.actions: acs, mdl.phase: 0})\n",
    "        total_loss += loss\n",
    "        if len(features) - j < batch_size:\n",
    "            j = len(features)\n",
    "        else:\n",
    "            j += batch_size\n",
    "    return total_loss\n",
    "    "
   ]
  },
  {
   "cell_type": "code",
   "execution_count": 39,
   "metadata": {
    "scrolled": true
   },
   "outputs": [
    {
     "name": "stdout",
     "output_type": "stream",
     "text": [
      "Running default init\n",
      "Init done\n",
      "('Processing indx: ', 0)\n",
      "('Processing indx: ', 40000)\n",
      "('Processing indx: ', 80000)\n",
      "('Processing indx: ', 120000)\n",
      "('Processing indx: ', 160000)\n",
      "Saved Model, epoch 1 E step is 0\n",
      "Average training loss per batch is 230.100825874 E step is 0\n",
      "('Processing val set indx: ', 0)\n",
      "Avg val loss at epoch end is 221.683648761 E step is 0\n",
      "Saved Model, epoch 2 E step is 0\n",
      "Average training loss per batch is 218.473985817 E step is 0\n",
      "('Processing val set indx: ', 0)\n",
      "Avg val loss at epoch end is 216.892398415 E step is 0\n",
      "Saved Model, epoch 3 E step is 0\n",
      "Average training loss per batch is 215.366445803 E step is 0\n",
      "('Processing val set indx: ', 0)\n",
      "Avg val loss at epoch end is 215.935971277 E step is 0\n",
      "Saved Model, epoch 4 E step is 0\n",
      "Average training loss per batch is 213.730769258 E step is 0\n",
      "('Processing val set indx: ', 0)\n",
      "Avg val loss at epoch end is 213.663858675 E step is 0\n",
      "Saved Model, epoch 5 E step is 0\n",
      "Average training loss per batch is 212.722217228 E step is 0\n",
      "('Processing val set indx: ', 0)\n",
      "Avg val loss at epoch end is 213.44342532 E step is 0\n",
      "('Processing indx: ', 0)\n",
      "('Processing indx: ', 40000)\n",
      "('Processing indx: ', 80000)\n",
      "('Processing indx: ', 120000)\n",
      "('Processing indx: ', 160000)\n",
      "Saved Model, epoch 1 E step is 1\n",
      "Average training loss per batch is 211.493863653 E step is 1\n",
      "('Processing val set indx: ', 0)\n",
      "Avg val loss at epoch end is 211.404881446 E step is 1\n",
      "Saved Model, epoch 2 E step is 1\n",
      "Average training loss per batch is 210.8192566 E step is 1\n",
      "('Processing val set indx: ', 0)\n",
      "Avg val loss at epoch end is 211.359162378 E step is 1\n",
      "Saved Model, epoch 3 E step is 1\n",
      "Average training loss per batch is 210.249108689 E step is 1\n",
      "('Processing val set indx: ', 0)\n",
      "Avg val loss at epoch end is 211.448788108 E step is 1\n",
      "Saved Model, epoch 4 E step is 1\n",
      "Average training loss per batch is 209.818313613 E step is 1\n",
      "('Processing val set indx: ', 0)\n",
      "Avg val loss at epoch end is 211.154010423 E step is 1\n",
      "Saved Model, epoch 5 E step is 1\n",
      "Average training loss per batch is 209.437362615 E step is 1\n",
      "('Processing val set indx: ', 0)\n",
      "Avg val loss at epoch end is 210.359029654 E step is 1\n",
      "('Processing indx: ', 0)\n",
      "('Processing indx: ', 40000)\n",
      "('Processing indx: ', 80000)\n",
      "('Processing indx: ', 120000)\n",
      "('Processing indx: ', 160000)\n",
      "Saved Model, epoch 1 E step is 2\n",
      "Average training loss per batch is 208.082958482 E step is 2\n",
      "('Processing val set indx: ', 0)\n",
      "Avg val loss at epoch end is 209.629124149 E step is 2\n",
      "Saved Model, epoch 2 E step is 2\n",
      "Average training loss per batch is 207.710394775 E step is 2\n",
      "('Processing val set indx: ', 0)\n",
      "Avg val loss at epoch end is 209.20631558 E step is 2\n",
      "Saved Model, epoch 3 E step is 2\n",
      "Average training loss per batch is 207.415324682 E step is 2\n",
      "('Processing val set indx: ', 0)\n",
      "Avg val loss at epoch end is 209.1472017 E step is 2\n",
      "Saved Model, epoch 4 E step is 2\n",
      "Average training loss per batch is 207.188359556 E step is 2\n",
      "('Processing val set indx: ', 0)\n",
      "Avg val loss at epoch end is 208.353126633 E step is 2\n",
      "Saved Model, epoch 5 E step is 2\n",
      "Average training loss per batch is 206.984646334 E step is 2\n",
      "('Processing val set indx: ', 0)\n",
      "Avg val loss at epoch end is 207.85400192 E step is 2\n",
      "('Processing indx: ', 0)\n",
      "('Processing indx: ', 40000)\n",
      "('Processing indx: ', 80000)\n",
      "('Processing indx: ', 120000)\n",
      "('Processing indx: ', 160000)\n",
      "Saved Model, epoch 1 E step is 3\n",
      "Average training loss per batch is 205.295737179 E step is 3\n",
      "('Processing val set indx: ', 0)\n",
      "Avg val loss at epoch end is 207.29060631 E step is 3\n",
      "Saved Model, epoch 2 E step is 3\n",
      "Average training loss per batch is 204.993549401 E step is 3\n",
      "('Processing val set indx: ', 0)\n",
      "Avg val loss at epoch end is 206.317884596 E step is 3\n",
      "Saved Model, epoch 3 E step is 3\n",
      "Average training loss per batch is 204.792443476 E step is 3\n",
      "('Processing val set indx: ', 0)\n",
      "Avg val loss at epoch end is 206.137137705 E step is 3\n",
      "Saved Model, epoch 4 E step is 3\n",
      "Average training loss per batch is 204.615040647 E step is 3\n",
      "('Processing val set indx: ', 0)\n",
      "Avg val loss at epoch end is 205.628991094 E step is 3\n",
      "Saved Model, epoch 5 E step is 3\n",
      "Average training loss per batch is 204.430161423 E step is 3\n",
      "('Processing val set indx: ', 0)\n",
      "Avg val loss at epoch end is 205.57588138 E step is 3\n",
      "('Processing indx: ', 0)\n",
      "('Processing indx: ', 40000)\n",
      "('Processing indx: ', 80000)\n",
      "('Processing indx: ', 120000)\n",
      "('Processing indx: ', 160000)\n",
      "Saved Model, epoch 1 E step is 4\n",
      "Average training loss per batch is 202.462308772 E step is 4\n",
      "('Processing val set indx: ', 0)\n",
      "Avg val loss at epoch end is 203.904425696 E step is 4\n",
      "Saved Model, epoch 2 E step is 4\n",
      "Average training loss per batch is 202.253304122 E step is 4\n",
      "('Processing val set indx: ', 0)\n",
      "Avg val loss at epoch end is 204.092934489 E step is 4\n",
      "Saved Model, epoch 3 E step is 4\n",
      "Average training loss per batch is 202.07952977 E step is 4\n",
      "('Processing val set indx: ', 0)\n",
      "Avg val loss at epoch end is 204.340980893 E step is 4\n",
      "Saved Model, epoch 4 E step is 4\n",
      "Average training loss per batch is 201.938086275 E step is 4\n",
      "('Processing val set indx: ', 0)\n",
      "Avg val loss at epoch end is 203.652540493 E step is 4\n",
      "Saved Model, epoch 5 E step is 4\n",
      "Average training loss per batch is 201.823459469 E step is 4\n",
      "('Processing val set indx: ', 0)\n",
      "Avg val loss at epoch end is 203.253087238 E step is 4\n",
      "('Processing indx: ', 0)\n",
      "('Processing indx: ', 40000)\n",
      "('Processing indx: ', 80000)\n",
      "('Processing indx: ', 120000)\n",
      "('Processing indx: ', 160000)\n",
      "Saved Model, epoch 1 E step is 5\n",
      "Average training loss per batch is 199.506844324 E step is 5\n",
      "('Processing val set indx: ', 0)\n",
      "Avg val loss at epoch end is 202.082486388 E step is 5\n",
      "Saved Model, epoch 2 E step is 5\n",
      "Average training loss per batch is 199.314182252 E step is 5\n",
      "('Processing val set indx: ', 0)\n",
      "Avg val loss at epoch end is 201.530403443 E step is 5\n",
      "Saved Model, epoch 3 E step is 5\n",
      "Average training loss per batch is 199.170185725 E step is 5\n",
      "('Processing val set indx: ', 0)\n",
      "Avg val loss at epoch end is 200.496416395 E step is 5\n",
      "Saved Model, epoch 4 E step is 5\n",
      "Average training loss per batch is 199.045191092 E step is 5\n",
      "('Processing val set indx: ', 0)\n",
      "Avg val loss at epoch end is 201.08429731 E step is 5\n",
      "Saved Model, epoch 5 E step is 5\n",
      "Average training loss per batch is 198.973264868 E step is 5\n",
      "('Processing val set indx: ', 0)\n",
      "Avg val loss at epoch end is 201.633503202 E step is 5\n",
      "('Processing indx: ', 0)\n"
     ]
    }
   ],
   "source": [
    "# Idea when training:\n",
    "# Init posteriors (E step)\n",
    "# run M step for j epochs\n",
    "# re-estimate post (E)\n",
    "# run M step for j epochs\n",
    "# repeat until convergence on val set (?) \n",
    "\n",
    "batch_size = 64\n",
    "num_epochs = 5 # number of epochs to run M step for before re-estimating posteriors\n",
    "num_E_steps = 6 # how many times to re-estimate E\n",
    "load_model = False #Whether to load a saved model.\n",
    "save_dir = \"./MixNN_EM/\"\n",
    "save_path = \"./MixNN_EM/ckpt\"#The path to save our model to\n",
    "tf.reset_default_graph()\n",
    "mdl = MixNN()\n",
    "do_analysis = False\n",
    "\n",
    "saver = tf.train.Saver(tf.global_variables())\n",
    "\n",
    "init = tf.global_variables_initializer()\n",
    "\n",
    "trainables = tf.trainable_variables()\n",
    "\n",
    "#Make a path for our model to be saved in.\n",
    "if not os.path.exists(save_dir):\n",
    "    os.makedirs(save_dir)\n",
    "\n",
    "with tf.Session(config=config) as sess:\n",
    "    if load_model == True:\n",
    "        print('Trying to load model...')\n",
    "        try:\n",
    "            restorer = tf.train.import_meta_graph(save_path + '.meta')\n",
    "            restorer.restore(sess, tf.train.latest_checkpoint(save_dir))\n",
    "            print \"Model restored\"\n",
    "        except IOError:\n",
    "            print \"No previous model found, running default init\"\n",
    "            sess.run(init)\n",
    "    else:\n",
    "        print(\"Running default init\")\n",
    "        sess.run(init)\n",
    "    print(\"Init done\")\n",
    "    \n",
    "\n",
    "    for e_step in range(num_E_steps):\n",
    "        if do_analysis:\n",
    "            marginal_lik, cond_lik = get_probs_for_analysis('val', sess, mdl)\n",
    "            break\n",
    "        # start by initialising the posterior \n",
    "        posterior = get_posterior('train', sess, mdl)\n",
    "\n",
    "        for j in range(1,num_epochs+1):\n",
    "            net_loss = 0.0\n",
    "            inds = np.random.permutation(train_feat.shape[0])\n",
    "            start_idx = 0\n",
    "            end_idx = 0\n",
    "            while start_idx < len(train_feat):\n",
    "                end_idx = min(len(train_feat), start_idx+batch_size)\n",
    "                batch_inds = inds[start_idx:end_idx]\n",
    "                x_batch = train_feat[batch_inds]\n",
    "                y_batch = train_labels[batch_inds]\n",
    "                post_batch = posterior[batch_inds]\n",
    "\n",
    "                # train using the batch\n",
    "                _,loss = sess.run([mdl.train_step,mdl.loss], \\\n",
    "                feed_dict={mdl.states:x_batch,\n",
    "                           mdl.actions:y_batch,\n",
    "                           mdl.old_posterior:post_batch,\n",
    "                           mdl.phase:True})\n",
    "\n",
    "                # update net loss\n",
    "                net_loss += loss\n",
    "\n",
    "                # increment start index to inds\n",
    "                start_idx += batch_size\n",
    "\n",
    "            saver.save(sess,save_path)\n",
    "            print(\"Saved Model, epoch \" + str(j) + \" E step is \" + str(e_step))\n",
    "\n",
    "            av_loss = net_loss/(len(train_feat)/float(batch_size))\n",
    "            print(\"Average training loss per batch is \" + str(av_loss) + \" E step is \" + str(e_step))\n",
    "            net_loss = 0.0\n",
    "\n",
    "            eval_loss = run_eval(\"val\", sess, mdl)/(len(val_feat)/float(batch_size))\n",
    "\n",
    "            print (\"Avg val loss at epoch end is \" + str(eval_loss) + \" E step is \" + str(e_step))\n",
    "    \n",
    "    marginal_lik, cond_lik = get_probs_for_analysis('val', sess, mdl)\n",
    "\n",
    "   "
   ]
  },
  {
   "cell_type": "code",
   "execution_count": 59,
   "metadata": {},
   "outputs": [],
   "source": [
    "np.save('./MixNN_EM/marginal_lik_val.npy', marginal_lik)\n",
    "np.save('./MixNN_EM/cond_lik_val.npy', cond_lik)"
   ]
  },
  {
   "cell_type": "code",
   "execution_count": null,
   "metadata": {
    "collapsed": true
   },
   "outputs": [],
   "source": [
    "# FIRSTLY, ARGMAX PLOTS"
   ]
  },
  {
   "cell_type": "code",
   "execution_count": 40,
   "metadata": {
    "collapsed": true
   },
   "outputs": [],
   "source": [
    "# get the argmaxes for the first analysis\n",
    "actions_chosen = np.argmax(marginal_lik, axis=1)\n",
    "val_labels_asvec = np.argmax(val_labels, axis=1)\n",
    "mix_actions_chosen = np.argmax(cond_lik, axis=1)"
   ]
  },
  {
   "cell_type": "code",
   "execution_count": 55,
   "metadata": {},
   "outputs": [
    {
     "name": "stdout",
     "output_type": "stream",
     "text": [
      "0.357136987427\n"
     ]
    }
   ],
   "source": [
    "print sum(actions_chosen == val_labels_asvec)/float(len(val_labels_asvec))"
   ]
  },
  {
   "cell_type": "code",
   "execution_count": 41,
   "metadata": {},
   "outputs": [
    {
     "data": {
      "text/plain": [
       "<matplotlib.axes._subplots.AxesSubplot at 0x7f499968f7d0>"
      ]
     },
     "execution_count": 41,
     "metadata": {},
     "output_type": "execute_result"
    },
    {
     "data": {
      "image/png": "[encoded data removed]",
      "text/plain": [
       "<matplotlib.figure.Figure at 0x7f4999d2c050>"
      ]
     },
     "metadata": {},
     "output_type": "display_data"
    }
   ],
   "source": [
    "pd.Series(actions_chosen).hist(bins=25)"
   ]
  },
  {
   "cell_type": "code",
   "execution_count": 42,
   "metadata": {},
   "outputs": [
    {
     "data": {
      "text/plain": [
       "<matplotlib.axes._subplots.AxesSubplot at 0x7f499969b610>"
      ]
     },
     "execution_count": 42,
     "metadata": {},
     "output_type": "execute_result"
    },
    {
     "data": {
      "image/png": "[encoded data removed]",
      "text/plain": [
       "<matplotlib.figure.Figure at 0x7f49900cbb90>"
      ]
     },
     "metadata": {},
     "output_type": "display_data"
    }
   ],
   "source": [
    "pd.Series(val_labels_asvec).hist(bins=25)"
   ]
  },
  {
   "cell_type": "code",
   "execution_count": 43,
   "metadata": {},
   "outputs": [
    {
     "name": "stdout",
     "output_type": "stream",
     "text": [
      "7482\n"
     ]
    },
    {
     "data": {
      "image/png": "[encoded data removed]",
      "text/plain": [
       "<matplotlib.figure.Figure at 0x7f495c0e6ad0>"
      ]
     },
     "metadata": {},
     "output_type": "display_data"
    },
    {
     "name": "stdout",
     "output_type": "stream",
     "text": [
      "8066\n"
     ]
    },
    {
     "data": {
      "image/png": "[encoded data removed]",
      "text/plain": [
       "<matplotlib.figure.Figure at 0x7f495c2cac10>"
      ]
     },
     "metadata": {},
     "output_type": "display_data"
    },
    {
     "name": "stdout",
     "output_type": "stream",
     "text": [
      "7763\n"
     ]
    },
    {
     "data": {
      "image/png": "[encoded data removed]",
      "text/plain": [
       "<matplotlib.figure.Figure at 0x7f497c2df490>"
      ]
     },
     "metadata": {},
     "output_type": "display_data"
    },
    {
     "name": "stdout",
     "output_type": "stream",
     "text": [
      "8329\n"
     ]
    },
    {
     "data": {
      "image/png": "[encoded data removed]",
      "text/plain": [
       "<matplotlib.figure.Figure at 0x7f497c1a1b10>"
      ]
     },
     "metadata": {},
     "output_type": "display_data"
    },
    {
     "name": "stdout",
     "output_type": "stream",
     "text": [
      "8033\n"
     ]
    },
    {
     "data": {
      "image/png": "[encoded data removed]",
      "text/plain": [
       "<matplotlib.figure.Figure at 0x7f495c2c66d0>"
      ]
     },
     "metadata": {},
     "output_type": "display_data"
    }
   ],
   "source": [
    "for i in range(num_mix_comp):\n",
    "    pd.Series(mix_actions_chosen[:,i]).hist(bins=25)\n",
    "    print sum(mix_actions_chosen[:,i] == val_labels_asvec)\n",
    "    plt.show()"
   ]
  },
  {
   "cell_type": "code",
   "execution_count": 45,
   "metadata": {
    "collapsed": true
   },
   "outputs": [],
   "source": [
    "# get the means for the second analysis\n",
    "ml_mean = np.mean(marginal_lik, axis=0)\n",
    "cl_mean = np.mean(cond_lik, axis=0)"
   ]
  },
  {
   "cell_type": "code",
   "execution_count": 46,
   "metadata": {},
   "outputs": [
    {
     "data": {
      "image/png": "[encoded data removed]",
      "text/plain": [
       "<matplotlib.figure.Figure at 0x7f499968bfd0>"
      ]
     },
     "metadata": {},
     "output_type": "display_data"
    }
   ],
   "source": [
    "_ = plt.bar(range(25), ml_mean)"
   ]
  },
  {
   "cell_type": "code",
   "execution_count": 48,
   "metadata": {
    "scrolled": false
   },
   "outputs": [
    {
     "data": {
      "image/png": "[encoded data removed]",
      "text/plain": [
       "<matplotlib.figure.Figure at 0x7f495c323a50>"
      ]
     },
     "metadata": {},
     "output_type": "display_data"
    },
    {
     "data": {
      "image/png": "[encoded data removed]",
      "text/plain": [
       "<matplotlib.figure.Figure at 0x7f494432c090>"
      ]
     },
     "metadata": {},
     "output_type": "display_data"
    },
    {
     "data": {
      "image/png": "[encoded data removed]",
      "text/plain": [
       "<matplotlib.figure.Figure at 0x7f4944040250>"
      ]
     },
     "metadata": {},
     "output_type": "display_data"
    },
    {
     "data": {
      "image/png": "[encoded data removed]",
      "text/plain": [
       "<matplotlib.figure.Figure at 0x7f4944380f90>"
      ]
     },
     "metadata": {},
     "output_type": "display_data"
    },
    {
     "data": {
      "image/png": "[encoded data removed]",
      "text/plain": [
       "<matplotlib.figure.Figure at 0x7f493c22fb50>"
      ]
     },
     "metadata": {},
     "output_type": "display_data"
    }
   ],
   "source": [
    "for i in range(num_mix_comp):\n",
    "    _ = plt.bar(range(25), cl_mean[:,i])\n",
    "    plt.show()"
   ]
  },
  {
   "cell_type": "code",
   "execution_count": 49,
   "metadata": {
    "collapsed": true
   },
   "outputs": [],
   "source": [
    "# the ones above are for all patients.\n",
    "# Now consider when we stratify by severity -- select entries that have SOFA scores in certain ranges\n",
    "# consider the argmax actions\n",
    "df_orig = pd.read_csv('../data/MKdataset07Feb17.csv')\n",
    "df_orig_val = df_orig.loc[df_orig['icustayid'].isin(val_df['icustayid'].unique())]\n",
    "del df_orig"
   ]
  },
  {
   "cell_type": "code",
   "execution_count": 50,
   "metadata": {
    "collapsed": true
   },
   "outputs": [],
   "source": [
    "low_sofa = np.array(df_orig_val['SOFA'] <= 5)\n",
    "med_sofa = np.array(df_orig_val['SOFA'] > 5)\n",
    "med_sofa[(df_orig_val['SOFA']) > 15] = False\n",
    "high_sofa = np.array(df_orig_val['SOi do love hii do love hiFA'] > 15)"
   ]
  },
  {
   "cell_type": "code",
   "execution_count": 51,
   "metadata": {
    "collapsed": true
   },
   "outputs": [],
   "source": [
    "# get the means for the third analysis for all three regimes\n",
    "ml_mean_lowsofa = np.mean(marginal_lik[low_sofa], axis=0)\n",
    "cl_mean_lowsofa= np.mean(cond_lik[low_sofa], axis=0)\n",
    "\n",
    "ml_mean_medsofa = np.mean(marginal_lik[med_sofa], axis=0)\n",
    "cl_mean_medsofa= np.mean(cond_lik[med_sofa], axis=0)\n",
    "\n",
    "ml_mean_highsofa = np.mean(marginal_lik[high_sofa], axis=0)\n",
    "cl_mean_highsofa= np.mean(cond_lik[high_sofa], axis=0)"
   ]
  },
  {
   "cell_type": "code",
   "execution_count": 52,
   "metadata": {},
   "outputs": [
    {
     "data": {
      "image/png": "[encoded data removed]",
      "text/plain": [
       "<matplotlib.figure.Figure at 0x7f493c300950>"
      ]
     },
     "metadata": {},
     "output_type": "display_data"
    },
    {
     "data": {
      "image/png": "[encoded data removed]",
      "text/plain": [
       "<matplotlib.figure.Figure at 0x7f495c305c90>"
      ]
     },
     "metadata": {},
     "output_type": "display_data"
    },
    {
     "data": {
      "image/png": "[encoded data removed]",
      "text/plain": [
       "<matplotlib.figure.Figure at 0x7f497c0ace90>"
      ]
     },
     "metadata": {},
     "output_type": "display_data"
    }
   ],
   "source": [
    "for m in [ml_mean_lowsofa, ml_mean_medsofa, ml_mean_highsofa]:\n",
    "    _ = plt.bar(range(25), m)\n",
    "    plt.show()"
   ]
  },
  {
   "cell_type": "code",
   "execution_count": 53,
   "metadata": {
    "scrolled": false
   },
   "outputs": [
    {
     "name": "stdout",
     "output_type": "stream",
     "text": [
      "LOW SOFA\n"
     ]
    },
    {
     "data": {
      "image/png": "[encoded data removed]",
      "text/plain": [
       "<matplotlib.figure.Figure at 0x7f493c3e5250>"
      ]
     },
     "metadata": {},
     "output_type": "display_data"
    },
    {
     "data": {
      "image/png": "[encoded data removed]",
      "text/plain": [
       "<matplotlib.figure.Figure at 0x7f4944175150>"
      ]
     },
     "metadata": {},
     "output_type": "display_data"
    },
    {
     "data": {
      "image/png": "[encoded data removed]",
      "text/plain": [
       "<matplotlib.figure.Figure at 0x7f495431f0d0>"
      ]
     },
     "metadata": {},
     "output_type": "display_data"
    },
    {
     "data": {
      "image/png": "[encoded data removed]",
      "text/plain": [
       "<matplotlib.figure.Figure at 0x7f497c03e510>"
      ]
     },
     "metadata": {},
     "output_type": "display_data"
    },
    {
     "data": {
      "image/png": "[encoded data removed]",
      "text/plain": [
       "<matplotlib.figure.Figure at 0x7f499979e0d0>"
      ]
     },
     "metadata": {},
     "output_type": "display_data"
    },
    {
     "name": "stdout",
     "output_type": "stream",
     "text": [
      "MED SOFA\n"
     ]
    },
    {
     "data": {
      "image/png": "[encoded data removed]",
      "text/plain": [
       "<matplotlib.figure.Figure at 0x7f4999719710>"
      ]
     },
     "metadata": {},
     "output_type": "display_data"
    },
    {
     "data": {
      "image/png": "[encoded data removed]",
      "text/plain": [
       "<matplotlib.figure.Figure at 0x7f49997fb150>"
      ]
     },
     "metadata": {},
     "output_type": "display_data"
    },
    {
     "data": {
      "image/png": "[encoded data removed]",
      "text/plain": [
       "<matplotlib.figure.Figure at 0x7f4999e9a0d0>"
      ]
     },
     "metadata": {},
     "output_type": "display_data"
    },
    {
     "data": {
      "image/png": "[encoded data removed]",
      "text/plain": [
       "<matplotlib.figure.Figure at 0x7f4999d18b10>"
      ]
     },
     "metadata": {},
     "output_type": "display_data"
    },
    {
     "data": {
      "image/png": "[encoded data removed]",
      "text/plain": [
       "<matplotlib.figure.Figure at 0x7f497c197ed0>"
      ]
     },
     "metadata": {},
     "output_type": "display_data"
    },
    {
     "name": "stdout",
     "output_type": "stream",
     "text": [
      "HIGH SOFA\n"
     ]
    },
    {
     "data": {
      "image/png": "[encoded data removed]",
      "text/plain": [
       "<matplotlib.figure.Figure at 0x7f49998bc0d0>"
      ]
     },
     "metadata": {},
     "output_type": "display_data"
    },
    {
     "data": {
      "image/png": "[encoded data removed]",
      "text/plain": [
       "<matplotlib.figure.Figure at 0x7f49541f0610>"
      ]
     },
     "metadata": {},
     "output_type": "display_data"
    },
    {
     "data": {
      "image/png": "[encoded data removed]",
      "text/plain": [
       "<matplotlib.figure.Figure at 0x7f4954102390>"
      ]
     },
     "metadata": {},
     "output_type": "display_data"
    },
    {
     "data": {
      "image/png": "[encoded data removed]",
      "text/plain": [
       "<matplotlib.figure.Figure at 0x7f497c2b3290>"
      ]
     },
     "metadata": {},
     "output_type": "display_data"
    },
    {
     "data": {
      "image/png": "[encoded data removed]",
      "text/plain": [
       "<matplotlib.figure.Figure at 0x7f49998c9e10>"
      ]
     },
     "metadata": {},
     "output_type": "display_data"
    }
   ],
   "source": [
    "for ind, c in enumerate([cl_mean_lowsofa, cl_mean_medsofa, cl_mean_highsofa]):\n",
    "    if ind == 0:\n",
    "        print \"LOW SOFA\"\n",
    "    elif ind == 1:\n",
    "        print \"MED SOFA\"\n",
    "    elif ind == 2:\n",
    "        print \"HIGH SOFA\"\n",
    "    for i in range(num_mixi do love hi_comp):\n",
    "        _ = plt.bar(range(25), c[:,i])\n",
    "        plt.show()"
   ]
  },
  {
   "cell_type": "code",
   "execution_count": null,
   "metadata": {
    "collapsed": true
   },
   "outputs": [],
   "source": []
  }
 ],
 "metadata": {
  "kernelspec": {
   "display_name": "Python 2",
   "language": "python",
   "name": "python2"
  },
  "language_info": {
   "codemirror_mode": {
    "name": "ipython",
    "version": 2
   },
   "file_extension": ".py",
   "mimetype": "text/x-python",
   "name": "python",
   "nbconvert_exporter": "python",
   "pygments_lexer": "ipython2",
   "version": "2.7.6"
  }
 },
 "nbformat": 4,
 "nbformat_minor": 2
}
