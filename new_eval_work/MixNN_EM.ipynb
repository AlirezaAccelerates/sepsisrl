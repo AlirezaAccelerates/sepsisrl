{
 "cells": [
  {
   "cell_type": "code",
   "execution_count": 1,
   "metadata": {
    "collapsed": true
   },
   "outputs": [],
   "source": [
    "%matplotlib inline\n",
    "import matplotlib.pyplot as plt\n",
    "import tensorflow as tf\n",
    "import numpy as np\n",
    "import math\n",
    "import os\n",
    "import random\n",
    "import numpy as np\n",
    "import pandas as pd\n",
    "from pandas import DataFrame\n",
    "import cPickle as pickle\n",
    "import math\n",
    "import copy"
   ]
  },
  {
   "cell_type": "code",
   "execution_count": 2,
   "metadata": {
    "collapsed": true
   },
   "outputs": [],
   "source": [
    "os.environ['CUDA_VISIBLE_DEVICES'] = '1'"
   ]
  },
  {
   "cell_type": "code",
   "execution_count": 3,
   "metadata": {},
   "outputs": [
    {
     "name": "stdout",
     "output_type": "stream",
     "text": [
      "['Albumin', 'Arterial_BE', 'Arterial_lactate', 'Arterial_pH', 'BUN', 'CO2_mEqL', 'Calcium', 'Chloride', 'Creatinine', 'DiaBP', 'FiO2_1', 'GCS', 'Glucose', 'HCO3', 'HR', 'Hb', 'INR', 'Ionised_Ca', 'Magnesium', 'MeanBP', 'PT', 'PTT', 'PaO2_FiO2', 'Platelets_count', 'Potassium', 'RR', 'SGOT', 'SGPT', 'SIRS', 'SOFA', 'Shock_Index', 'Sodium', 'SpO2', 'SysBP', 'Temp_C', 'Total_bili', 'WBC_count', 'Weight_kg', 'age', 'elixhauser', 'gender', 'mechvent', 'output_4hourly', 'output_total', 'paCO2', 'paO2', 're_admission', 'bloc']\n",
      "48\n"
     ]
    }
   ],
   "source": [
    "with open('../data/state_features.txt') as f:\n",
    "    state_features = f.read().split()\n",
    "print (state_features)\n",
    "print len(state_features)"
   ]
  },
  {
   "cell_type": "code",
   "execution_count": 4,
   "metadata": {
    "collapsed": true
   },
   "outputs": [],
   "source": [
    "df = pd.read_csv('../data/rl_train_data_final_cont.csv')"
   ]
  },
  {
   "cell_type": "code",
   "execution_count": 5,
   "metadata": {
    "scrolled": false
   },
   "outputs": [
    {
     "data": {
      "text/html": [
       "<div>\n",
       "<style>\n",
       "    .dataframe thead tr:only-child th {\n",
       "        text-align: right;\n",
       "    }\n",
       "\n",
       "    .dataframe thead th {\n",
       "        text-align: left;\n",
       "    }\n",
       "\n",
       "    .dataframe tbody tr th {\n",
       "        vertical-align: top;\n",
       "    }\n",
       "</style>\n",
       "<table border=\"1\" class=\"dataframe\">\n",
       "  <thead>\n",
       "    <tr style=\"text-align: right;\">\n",
       "      <th></th>\n",
       "      <th>bloc</th>\n",
       "      <th>icustayid</th>\n",
       "      <th>charttime</th>\n",
       "      <th>gender</th>\n",
       "      <th>age</th>\n",
       "      <th>elixhauser</th>\n",
       "      <th>re_admission</th>\n",
       "      <th>died_in_hosp</th>\n",
       "      <th>mortality_90d</th>\n",
       "      <th>Weight_kg</th>\n",
       "      <th>...</th>\n",
       "      <th>median_dose_vaso</th>\n",
       "      <th>max_dose_vaso</th>\n",
       "      <th>input_total_tev</th>\n",
       "      <th>input_4hourly_tev</th>\n",
       "      <th>output_total</th>\n",
       "      <th>output_4hourly</th>\n",
       "      <th>cumulated_balance_tev</th>\n",
       "      <th>vaso_input</th>\n",
       "      <th>iv_input</th>\n",
       "      <th>reward</th>\n",
       "    </tr>\n",
       "  </thead>\n",
       "  <tbody>\n",
       "    <tr>\n",
       "      <th>0</th>\n",
       "      <td>0.000000</td>\n",
       "      <td>3</td>\n",
       "      <td>7245052800</td>\n",
       "      <td>0.0</td>\n",
       "      <td>0.412568</td>\n",
       "      <td>0.0</td>\n",
       "      <td>0.0</td>\n",
       "      <td>0</td>\n",
       "      <td>1</td>\n",
       "      <td>0.262712</td>\n",
       "      <td>...</td>\n",
       "      <td>0.0</td>\n",
       "      <td>0.0</td>\n",
       "      <td>0.797351</td>\n",
       "      <td>0.939195</td>\n",
       "      <td>0.589916</td>\n",
       "      <td>0.750908</td>\n",
       "      <td>0.554500</td>\n",
       "      <td>0.0</td>\n",
       "      <td>4.0</td>\n",
       "      <td>0.125000</td>\n",
       "    </tr>\n",
       "    <tr>\n",
       "      <th>1</th>\n",
       "      <td>0.222560</td>\n",
       "      <td>3</td>\n",
       "      <td>7245067200</td>\n",
       "      <td>0.0</td>\n",
       "      <td>0.412568</td>\n",
       "      <td>0.0</td>\n",
       "      <td>0.0</td>\n",
       "      <td>0</td>\n",
       "      <td>1</td>\n",
       "      <td>0.262712</td>\n",
       "      <td>...</td>\n",
       "      <td>0.0</td>\n",
       "      <td>0.0</td>\n",
       "      <td>0.831780</td>\n",
       "      <td>0.934543</td>\n",
       "      <td>0.674384</td>\n",
       "      <td>0.819589</td>\n",
       "      <td>0.580033</td>\n",
       "      <td>0.0</td>\n",
       "      <td>4.0</td>\n",
       "      <td>0.657321</td>\n",
       "    </tr>\n",
       "    <tr>\n",
       "      <th>2</th>\n",
       "      <td>0.356608</td>\n",
       "      <td>3</td>\n",
       "      <td>7245081600</td>\n",
       "      <td>0.0</td>\n",
       "      <td>0.412568</td>\n",
       "      <td>0.0</td>\n",
       "      <td>0.0</td>\n",
       "      <td>0</td>\n",
       "      <td>1</td>\n",
       "      <td>0.262712</td>\n",
       "      <td>...</td>\n",
       "      <td>0.0</td>\n",
       "      <td>0.0</td>\n",
       "      <td>0.833222</td>\n",
       "      <td>0.656575</td>\n",
       "      <td>0.765423</td>\n",
       "      <td>0.939329</td>\n",
       "      <td>0.555033</td>\n",
       "      <td>0.0</td>\n",
       "      <td>2.0</td>\n",
       "      <td>1.367788</td>\n",
       "    </tr>\n",
       "    <tr>\n",
       "      <th>3</th>\n",
       "      <td>0.452837</td>\n",
       "      <td>3</td>\n",
       "      <td>7245096000</td>\n",
       "      <td>0.0</td>\n",
       "      <td>0.412568</td>\n",
       "      <td>0.0</td>\n",
       "      <td>0.0</td>\n",
       "      <td>0</td>\n",
       "      <td>1</td>\n",
       "      <td>0.262712</td>\n",
       "      <td>...</td>\n",
       "      <td>0.0</td>\n",
       "      <td>0.0</td>\n",
       "      <td>0.834033</td>\n",
       "      <td>0.603831</td>\n",
       "      <td>0.783597</td>\n",
       "      <td>0.847073</td>\n",
       "      <td>0.545700</td>\n",
       "      <td>0.0</td>\n",
       "      <td>2.0</td>\n",
       "      <td>1.199099</td>\n",
       "    </tr>\n",
       "    <tr>\n",
       "      <th>4</th>\n",
       "      <td>0.527957</td>\n",
       "      <td>3</td>\n",
       "      <td>7245110400</td>\n",
       "      <td>0.0</td>\n",
       "      <td>0.412568</td>\n",
       "      <td>0.0</td>\n",
       "      <td>0.0</td>\n",
       "      <td>0</td>\n",
       "      <td>1</td>\n",
       "      <td>0.262712</td>\n",
       "      <td>...</td>\n",
       "      <td>0.0</td>\n",
       "      <td>0.0</td>\n",
       "      <td>0.834836</td>\n",
       "      <td>0.603831</td>\n",
       "      <td>0.794059</td>\n",
       "      <td>0.811583</td>\n",
       "      <td>0.539533</td>\n",
       "      <td>0.0</td>\n",
       "      <td>2.0</td>\n",
       "      <td>1.057596</td>\n",
       "    </tr>\n",
       "  </tbody>\n",
       "</table>\n",
       "<p>5 rows × 60 columns</p>\n",
       "</div>"
      ],
      "text/plain": [
       "       bloc  icustayid   charttime  gender       age  elixhauser  \\\n",
       "0  0.000000          3  7245052800     0.0  0.412568         0.0   \n",
       "1  0.222560          3  7245067200     0.0  0.412568         0.0   \n",
       "2  0.356608          3  7245081600     0.0  0.412568         0.0   \n",
       "3  0.452837          3  7245096000     0.0  0.412568         0.0   \n",
       "4  0.527957          3  7245110400     0.0  0.412568         0.0   \n",
       "\n",
       "   re_admission  died_in_hosp  mortality_90d  Weight_kg    ...     \\\n",
       "0           0.0             0              1   0.262712    ...      \n",
       "1           0.0             0              1   0.262712    ...      \n",
       "2           0.0             0              1   0.262712    ...      \n",
       "3           0.0             0              1   0.262712    ...      \n",
       "4           0.0             0              1   0.262712    ...      \n",
       "\n",
       "   median_dose_vaso  max_dose_vaso  input_total_tev  input_4hourly_tev  \\\n",
       "0               0.0            0.0         0.797351           0.939195   \n",
       "1               0.0            0.0         0.831780           0.934543   \n",
       "2               0.0            0.0         0.833222           0.656575   \n",
       "3               0.0            0.0         0.834033           0.603831   \n",
       "4               0.0            0.0         0.834836           0.603831   \n",
       "\n",
       "   output_total  output_4hourly  cumulated_balance_tev  vaso_input  iv_input  \\\n",
       "0      0.589916        0.750908               0.554500         0.0       4.0   \n",
       "1      0.674384        0.819589               0.580033         0.0       4.0   \n",
       "2      0.765423        0.939329               0.555033         0.0       2.0   \n",
       "3      0.783597        0.847073               0.545700         0.0       2.0   \n",
       "4      0.794059        0.811583               0.539533         0.0       2.0   \n",
       "\n",
       "     reward  \n",
       "0  0.125000  \n",
       "1  0.657321  \n",
       "2  1.367788  \n",
       "3  1.199099  \n",
       "4  1.057596  \n",
       "\n",
       "[5 rows x 60 columns]"
      ]
     },
     "execution_count": 5,
     "metadata": {},
     "output_type": "execute_result"
    }
   ],
   "source": [
    "df.head()"
   ]
  },
  {
   "cell_type": "code",
   "execution_count": 6,
   "metadata": {
    "collapsed": true
   },
   "outputs": [],
   "source": [
    "val_df = pd.read_csv('../data/rl_val_data_final_cont.csv')"
   ]
  },
  {
   "cell_type": "code",
   "execution_count": 7,
   "metadata": {
    "collapsed": true
   },
   "outputs": [],
   "source": [
    "test_df = pd.read_csv('../data/rl_test_data_final_cont.csv')"
   ]
  },
  {
   "cell_type": "code",
   "execution_count": 8,
   "metadata": {
    "collapsed": true
   },
   "outputs": [],
   "source": [
    "# define an action mapping - how to get an id representing the action from the (iv,vaso) tuple\n",
    "action_map = {}\n",
    "count = 0\n",
    "for iv in range(5):\n",
    "    for vaso in range(5):\n",
    "        action_map[(iv,vaso)] = count\n",
    "        count += 1"
   ]
  },
  {
   "cell_type": "code",
   "execution_count": 9,
   "metadata": {
    "collapsed": true
   },
   "outputs": [],
   "source": [
    "inv_action_map = {}\n",
    "for iv in range(5):\n",
    "    for vaso in range(5):\n",
    "        inv_action_map[5*iv+vaso] = [iv,vaso]    "
   ]
  },
  {
   "cell_type": "code",
   "execution_count": 10,
   "metadata": {
    "collapsed": true
   },
   "outputs": [],
   "source": [
    "hist_feat = list(np.loadtxt('../data/state_features.txt', dtype=str))\n",
    "hist_feat.append('iv_input')\n",
    "hist_feat.append('vaso_input')"
   ]
  },
  {
   "cell_type": "code",
   "execution_count": 11,
   "metadata": {
    "collapsed": true
   },
   "outputs": [],
   "source": [
    "#  X: (s_t-3, a_t-3, s_t-2, a_t-2,s_t-1, a_t-1, s_t, a_t )\n",
    "#  Y: (difference between next state and current state (zeros if end of trajectory), mortality)\n",
    "hist = 3\n",
    "action_bins = 5\n",
    "def make_data_history(df_in):\n",
    "    df_in = df_in.reset_index()\n",
    "    X = []\n",
    "    Y = []\n",
    "    selected_indices = []\n",
    "    count_in_traj = 0\n",
    "    for count,i in enumerate(df_in.index):\n",
    "        if count % 10000 == 0 and count > 0:\n",
    "            print count\n",
    "        \n",
    "        # skip the last one; no next state\n",
    "        if i == df_in.index[-1]:\n",
    "            if count_in_traj >=(hist+1):\n",
    "                # the target is the action taken at this timestep\n",
    "                target_arr = df_in.loc[i, ['iv_input', 'vaso_input']].values\n",
    "                target = int(action_bins*target_arr[0] + target_arr[1])\n",
    "                \n",
    "                Y.append(target)\n",
    "                \n",
    "                # use hist_feat for old ones\n",
    "                state = df_in.loc[i-hist, hist_feat]\n",
    "                for index in range(hist-1,0,-1):\n",
    "                    state = np.hstack([state,df_in.loc[i-index, hist_feat]])\n",
    "                \n",
    "                # for current state, use state_features because we don't want to pass in the action!\n",
    "                state = np.hstack([state, df_in.loc[i, state_features]])\n",
    "                \n",
    "                X.append(state)\n",
    "                selected_indices.append(count)\n",
    "            break\n",
    "       \n",
    "        # if not terminal step in trajectory    \n",
    "        if df_in.loc[i, 'icustayid'] == df_in.loc[i+1, 'icustayid']:\n",
    "            count_in_traj += 1\n",
    "            if count_in_traj >=(hist+1):\n",
    "\n",
    "                # the target is the action taken at this timestep\n",
    "                target_arr = df_in.loc[i, ['iv_input', 'vaso_input']].values\n",
    "                target = int(action_bins*target_arr[0] + target_arr[1])\n",
    "                \n",
    "                Y.append(target)\n",
    "                \n",
    "                # use hist_feat for old ones\n",
    "                state = df_in.loc[i-hist, hist_feat]\n",
    "                for index in range(hist-1,0,-1):\n",
    "                    state = np.hstack([state,df_in.loc[i-index, hist_feat]])\n",
    "                \n",
    "                # for current state, use state_features because we don't want to pass in the action!\n",
    "                state = np.hstack([state, df_in.loc[i, state_features]])\n",
    "                \n",
    "                X.append(state)\n",
    "                selected_indices.append(count)\n",
    "            else:\n",
    "                continue\n",
    "        \n",
    "        else:\n",
    "            if count_in_traj >=(hist+1):\n",
    "                # the target is the action taken at this timestep\n",
    "                target_arr = df_in.loc[i, ['iv_input', 'vaso_input']].values\n",
    "                target = int(action_bins*target_arr[0] + target_arr[1])\n",
    "                \n",
    "                Y.append(target)\n",
    "                \n",
    "                # use hist_feat for old ones\n",
    "                state = df_in.loc[i-hist, hist_feat]\n",
    "                for index in range(hist-1,0,-1):\n",
    "                    state = np.hstack([state,df_in.loc[i-index, hist_feat]])\n",
    "                \n",
    "                # for current state, use state_features because we don't want to pass in the action!\n",
    "                state = np.hstack([state, df_in.loc[i, state_features]])\n",
    "                \n",
    "                X.append(state)\n",
    "                selected_indices.append(count)\n",
    "                \n",
    "            count_in_traj = 0\n",
    "\n",
    "    return np.array(X),pd.get_dummies(np.array(Y)).values, np.array(selected_indices)"
   ]
  },
  {
   "cell_type": "code",
   "execution_count": 194,
   "metadata": {
    "collapsed": true
   },
   "outputs": [],
   "source": [
    "#  X: (s_t-3, a_t-3, s_t-2, a_t-2,s_t-1, a_t-1, s_t )\n",
    "#  Y: (difference between next state and current state (zeros if end of trajectory), mortality)\n",
    "\n",
    "# this function pads with zeros (ie the mean) so that we still predict actions for all timesteps,\n",
    "# not just those with only 3 steps of history or more.\n",
    "hist = 3\n",
    "action_bins = 5\n",
    "def make_data_history_zeros(df_in):\n",
    "    df_in = df_in.reset_index()\n",
    "    X = []\n",
    "    Y = []\n",
    "    count_in_traj = 0\n",
    "    for count,i in enumerate(df_in.index):\n",
    "        if count % 10000 == 0 and count > 0:\n",
    "            print count\n",
    "        count_in_traj += 1\n",
    "        \n",
    "        # skip the last one; no next state\n",
    "        if i == df_in.index[-1]:\n",
    "            # the target is the action taken at this timestep\n",
    "            target_arr = df_in.loc[i, ['iv_input', 'vaso_input']].values\n",
    "            target = int(action_bins*target_arr[0] + target_arr[1])\n",
    "\n",
    "            Y.append(target)\n",
    "            \n",
    "            if count_in_traj >=(hist+1):                \n",
    "                # use hist_feat for old ones\n",
    "                state = df_in.loc[i-hist, hist_feat]\n",
    "                for index in range(hist-1,0,-1):\n",
    "                    state = np.hstack([state,df_in.loc[i-index, hist_feat]])\n",
    "                \n",
    "                # for current state, use state_features because we don't want to pass in the action!\n",
    "                state = np.hstack([state, df_in.loc[i, state_features]])\n",
    "                \n",
    "                X.append(state)\n",
    "            else:\n",
    "                num_zeros = (hist+1) - count_in_traj\n",
    "                num_actual = count_in_traj - 1\n",
    "                state = np.hstack([np.zeros(len(hist_feat)) for _ in range(num_zeros)])\n",
    "                for index in range(num_actual, 0, -1):\n",
    "                    state = np.hstack([state,df_in.loc[i-index, hist_feat]])\n",
    "                state = np.hstack([state, df_in.loc[i, state_features]])\n",
    "                X.append(state)             \n",
    "            # finish to avoid index error\n",
    "            break\n",
    "       \n",
    "        # if not terminal step in trajectory    \n",
    "        if df_in.loc[i, 'icustayid'] == df_in.loc[i+1, 'icustayid']:\n",
    "            # the target is the action taken at this timestep\n",
    "            target_arr = df_in.loc[i, ['iv_input', 'vaso_input']].values\n",
    "            target = int(action_bins*target_arr[0] + target_arr[1])\n",
    "\n",
    "            Y.append(target)\n",
    "            \n",
    "            if count_in_traj >=(hist+1):                \n",
    "                # use hist_feat for old ones\n",
    "                state = df_in.loc[i-hist, hist_feat]\n",
    "                for index in range(hist-1,0,-1):\n",
    "                    state = np.hstack([state,df_in.loc[i-index, hist_feat]])\n",
    "                \n",
    "                # for current state, use state_features because we don't want to pass in the action!\n",
    "                state = np.hstack([state, df_in.loc[i, state_features]])\n",
    "                \n",
    "                X.append(state)\n",
    "            else:\n",
    "                num_zeros = (hist+1) - count_in_traj\n",
    "                num_actual = count_in_traj - 1\n",
    "                state = np.hstack([np.zeros(len(hist_feat)) for _ in range(num_zeros)])\n",
    "                for index in range(num_actual, 0, -1):\n",
    "                    state = np.hstack([state,df_in.loc[i-index, hist_feat]])\n",
    "                state = np.hstack([state, df_in.loc[i, state_features]])\n",
    "                X.append(state)   \n",
    "        \n",
    "        else:\n",
    "            # the target is the action taken at this timestep\n",
    "            target_arr = df_in.loc[i, ['iv_input', 'vaso_input']].values\n",
    "            target = int(action_bins*target_arr[0] + target_arr[1])\n",
    "\n",
    "            Y.append(target)\n",
    "            \n",
    "            if count_in_traj >=(hist+1):    \n",
    "                # use hist_feat for old ones\n",
    "                state = df_in.loc[i-hist, hist_feat]\n",
    "                for index in range(hist-1,0,-1):\n",
    "                    state = np.hstack([state,df_in.loc[i-index, hist_feat]])\n",
    "                \n",
    "                # for current state, use state_features because we don't want to pass in the action!\n",
    "                state = np.hstack([state, df_in.loc[i, state_features]])\n",
    "                \n",
    "                X.append(state)\n",
    "            else:\n",
    "                num_zeros = (hist+1) - count_in_traj\n",
    "                num_actual = count_in_traj - 1\n",
    "                state = np.hstack([np.zeros(len(hist_feat)) for _ in range(num_zeros)])\n",
    "                for index in range(num_actual, 0, -1):\n",
    "                    state = np.hstack([state,df_in.loc[i-index, hist_feat]])\n",
    "                state = np.hstack([state, df_in.loc[i, state_features]])\n",
    "                X.append(state)\n",
    "                \n",
    "            #always reset the count\n",
    "            count_in_traj = 0\n",
    "\n",
    "    return np.array(X),pd.get_dummies(np.array(Y)).values"
   ]
  },
  {
   "cell_type": "code",
   "execution_count": 195,
   "metadata": {
    "collapsed": true
   },
   "outputs": [],
   "source": [
    "# Extract features (state vector) and labels (action taken) out of the dataframe for train \n",
    "# and val sets\n",
    "def preproc(df_in, iv_bins = 5):\n",
    "    df = df_in.copy()\n",
    "    actions_raw = df[['iv_input', 'vaso_input']].values\n",
    "    keep_arr = np.loadtxt('../data/state_features.txt', dtype=str)\n",
    "    df = df[keep_arr]\n",
    "    actions_proc = (iv_bins*actions_raw[:, 0] + actions_raw[:, 1]).astype(int)\n",
    "    hist = np.histogram(actions_proc, 25)\n",
    "    actions_proc = pd.get_dummies(actions_proc).values\n",
    "    #print(hist) just to check\n",
    "    return df.values, actions_proc"
   ]
  },
  {
   "cell_type": "code",
   "execution_count": 196,
   "metadata": {
    "collapsed": true
   },
   "outputs": [],
   "source": [
    "def batch_sample(batch_size, features, labels):\n",
    "    idx = np.random.choice(np.arange(len(features)), batch_size)\n",
    "    return (np.vstack(features[idx]), np.vstack(labels[idx]))"
   ]
  },
  {
   "cell_type": "code",
   "execution_count": 197,
   "metadata": {},
   "outputs": [
    {
     "name": "stdout",
     "output_type": "stream",
     "text": [
      "10000\n",
      "20000\n",
      "30000\n",
      "40000\n",
      "50000\n",
      "60000\n",
      "70000\n",
      "80000\n",
      "90000\n",
      "100000\n",
      "110000\n",
      "120000\n",
      "130000\n",
      "140000\n",
      "150000\n",
      "160000\n",
      "Saved train_zeros\n",
      "10000\n",
      "20000\n",
      "Saved val_zeros\n",
      "10000\n",
      "20000\n",
      "30000\n",
      "40000\n",
      "Saved test_zeros\n"
     ]
    }
   ],
   "source": [
    "dire = 'mixnn_em_data/'\n",
    "if not os.path.exists(dire):\n",
    "    os.makedirs(dire)\n",
    "\n",
    "if not os.path.exists(dire + 'X_train_hist_zeros.txt'):\n",
    "    train_feat_zeros, train_labels_zeros = make_data_history_zeros(df)\n",
    "    np.savetxt(dire + 'X_train_hist_zeros.txt',train_feat_zeros,fmt='%5.4f')\n",
    "    np.savetxt(dire + 'Y_train_hist_zeros.txt',train_labels_zeros,fmt='%5.4f')\n",
    "    print \"Saved train_zeros\"\n",
    "else:\n",
    "    train_feat_zeros = np.loadtxt(dire + 'X_train_hist_zeros.txt')\n",
    "    train_labels_zeros = np.loadtxt(dire + 'Y_train_hist_zeros.txt')\n",
    "    print \"Loaded train_zeros\"\n",
    "\n",
    "if not os.path.exists(dire + 'X_val_hist_zeros.txt'):\n",
    "    val_feat_zeros, val_labels_zeros = make_data_history_zeros(val_df)\n",
    "    np.savetxt(dire + 'X_val_hist_zeros.txt',val_feat_zeros,fmt='%5.4f')\n",
    "    np.savetxt(dire + 'Y_val_hist_zeros.txt',val_labels_zeros,fmt='%5.4f')\n",
    "    print \"Saved val_zeros\"\n",
    "else:\n",
    "    val_feat_zeros = np.loadtxt(dire + 'X_val_hist_zeros.txt')\n",
    "    val_labels_zeros = np.loadtxt(dire + 'Y_val_hist_zeros.txt')\n",
    "    print \"Loaded val_zeros\"\n",
    "\n",
    "if not os.path.exists(dire + 'X_test_hist_zeros.txt'):\n",
    "    test_feat_zeros, test_labels_zeros = make_data_history_zeros(test_df)\n",
    "    np.savetxt(dire + 'X_test_hist_zeros.txt',test_feat_zeros,fmt='%5.4f')\n",
    "    np.savetxt(dire + 'Y_test_hist_zeros.txt',test_labels_zeros,fmt='%5.4f')\n",
    "    print \"Saved test_zeros\"\n",
    "else:\n",
    "    test_feat_zeros = np.loadtxt(dire + 'X_test_hist_zeros.txt')\n",
    "    test_labels_zeros = np.loadtxt(dire + 'Y_test_hist_zeros.txt')\n",
    "    print \"Loaded test_zeros\""
   ]
  },
  {
   "cell_type": "code",
   "execution_count": 14,
   "metadata": {},
   "outputs": [
    {
     "name": "stdout",
     "output_type": "stream",
     "text": [
      "Loaded train\n",
      "Loaded val\n",
      "Loaded test\n"
     ]
    }
   ],
   "source": [
    "use_history = True\n",
    "dire = 'mixnn_em_data/'\n",
    "if not os.path.exists(dire):\n",
    "    os.makedirs(dire)\n",
    "    \n",
    "if use_history:\n",
    "    if not os.path.exists(dire + 'X_train_hist.txt'):\n",
    "        train_feat, train_labels, train_indices = make_data_history(df)\n",
    "        np.savetxt(dire + 'X_train_hist.txt',train_feat,fmt='%5.4f')\n",
    "        np.savetxt(dire + 'Y_train_hist.txt',train_labels,fmt='%5.4f')\n",
    "        np.savetxt(dire + 'train_indices.txt', train_indices, fmt='%5.4f')\n",
    "        print \"Saved train\"\n",
    "    else:\n",
    "        train_feat = np.loadtxt(dire + 'X_train_hist.txt')\n",
    "        train_labels = np.loadtxt(dire + 'Y_train_hist.txt')\n",
    "        train_indices = np.loadtxt(dire + 'train_indices.txt')\n",
    "        print \"Loaded train\"\n",
    "\n",
    "    if not os.path.exists(dire + 'X_val_hist.txt'):\n",
    "        val_feat, val_labels, val_indices = make_data_history(val_df)\n",
    "        np.savetxt(dire + 'X_val_hist.txt',val_feat,fmt='%5.4f')\n",
    "        np.savetxt(dire + 'Y_val_hist.txt',val_labels,fmt='%5.4f')\n",
    "        np.savetxt(dire + 'val_indices.txt', val_indices, fmt='%5.4f')\n",
    "        print \"Saved val\"\n",
    "    else:\n",
    "        val_feat = np.loadtxt(dire + 'X_val_hist.txt')\n",
    "        val_labels = np.loadtxt(dire + 'Y_val_hist.txt')\n",
    "        val_indices = np.loadtxt(dire + 'val_indices.txt')\n",
    "        print \"Loaded val\"\n",
    "\n",
    "    if not os.path.exists(dire + 'X_test_hist.txt'):\n",
    "        test_feat, test_labels, test_indices = make_data_history(test_df)\n",
    "        np.savetxt(dire + 'X_test_hist.txt',test_feat,fmt='%5.4f')\n",
    "        np.savetxt(dire + 'Y_test_hist.txt',test_labels,fmt='%5.4f')\n",
    "        np.savetxt(dire + 'test_indices.txt', test_indices, fmt='%5.4f')\n",
    "        print \"Saved test\"\n",
    "    else:\n",
    "        test_feat = np.loadtxt(dire + 'X_test_hist.txt')\n",
    "        test_labels = np.loadtxt(dire + 'Y_test_hist.txt')\n",
    "        test_indices = np.loadtxt(dire + 'test_indices.txt')\n",
    "        print \"Loaded test\"\n",
    "else:\n",
    "    train_feat, train_labels = preproc(df)\n",
    "    val_feat, val_labels = preproc(val_df)\n",
    "    test_feat, test_labels = preproc(test_df)"
   ]
  },
  {
   "cell_type": "code",
   "execution_count": 208,
   "metadata": {
    "collapsed": true
   },
   "outputs": [],
   "source": [
    "train_feat = train_feat_zeros\n",
    "train_labels = train_labels_zeros\n",
    "\n",
    "val_feat = val_feat_zeros\n",
    "val_labels = val_labels_zeros\n",
    "\n",
    "test_feat = test_feat_zeros\n",
    "test_labels = test_labels_zeros"
   ]
  },
  {
   "cell_type": "code",
   "execution_count": 209,
   "metadata": {},
   "outputs": [
    {
     "name": "stdout",
     "output_type": "stream",
     "text": [
      "(169495, 198) (169495, 25)\n",
      "(24338, 198) (24338, 25)\n",
      "(48617, 198) (48617, 25)\n"
     ]
    }
   ],
   "source": [
    "print train_feat.shape, train_labels.shape\n",
    "print val_feat.shape, val_labels.shape\n",
    "print test_feat.shape, test_labels.shape"
   ]
  },
  {
   "cell_type": "code",
   "execution_count": 245,
   "metadata": {
    "collapsed": true
   },
   "outputs": [],
   "source": [
    "feature_length = train_feat.shape[1]\n",
    "batch_size = 64\n",
    "num_actions = 25\n",
    "num_mix_comp = 5\n",
    "hidden_size = 64"
   ]
  },
  {
   "cell_type": "code",
   "execution_count": 246,
   "metadata": {
    "collapsed": true
   },
   "outputs": [],
   "source": [
    "class MixNN():\n",
    "    def __init__(self):\n",
    "        self.states = tf.placeholder(tf.float32, shape = [None, feature_length])\n",
    "        \n",
    "        self.actions = tf.placeholder(tf.float32, shape = [None, num_actions])\n",
    "        \n",
    "        self.old_posterior = tf.placeholder(tf.float32, shape = [None, num_mix_comp])\n",
    "        \n",
    "        self.phase = tf.placeholder(tf.bool)\n",
    "        \n",
    "        self.states3d = tf.tile(tf.expand_dims(self.states, axis=2), [1, 1, num_mix_comp])\n",
    "        \n",
    "        self.actions3d = tf.tile(tf.expand_dims(self.actions, axis=2), [1, 1, num_mix_comp])\n",
    "        \n",
    "        # this first part computes p(z|s), of dimension (bs, num_mix_comps)\n",
    "        self.mixcomp_prob = self.mixcomp_net(self.states)\n",
    "\n",
    "        # this next part computes p(a|s,z)\n",
    "        self.mix_1 = tf.nn.relu(self.nn_mix_layer(self.states3d,feature_length,hidden_size, \"mix_layer1\"))\n",
    "        self.mix_2 = tf.nn.relu(self.nn_mix_layer(self.mix_1,hidden_size,hidden_size, \"mix_layer2\"))\n",
    "        self.mix_unnorm = self.nn_mix_layer(self.mix_1,hidden_size,num_actions, \"mix_layer3\")\n",
    "        self.mix_cond_prob = tf.nn.softmax(self.mix_unnorm, dim=1) # this is of dimension (bs,num_act, mix_comp)\n",
    "\n",
    "        \n",
    "        # generate p(a, z | s) for analysis, where a is ALL actions\n",
    "        #Firstly tile the mix probabilites. Currently it's of shape (bs, num_mix_comps). \n",
    "        #Convert to (bs, num_act, num_mix_comp)\n",
    "        self.expanded_mix_prob = tf.tile(tf.expand_dims(self.mixcomp_prob, axis=1), [1, num_actions,1])\n",
    "        \n",
    "        self.joint_prob = self.expanded_mix_prob * self.mix_cond_prob\n",
    "        \n",
    "        # generate p(a_vec|s) by summing out 2 dimension. a_vec is a vector of ALL actions.\n",
    "        # should be of dimension (bs,num_actions)\n",
    "        self.lik_as_vec = tf.reduce_sum(self.joint_prob, axis=2)\n",
    "        \n",
    "        # select the actions actually taken\n",
    "        self.vec = tf.tile(tf.expand_dims(self.actions, axis=2), [1,1,num_mix_comp])           \n",
    "        \n",
    "        # this is batchsize*num_actions*num_mix_comp. Sum out the num_actions dimension, which is zeroed out\n",
    "        # due to multiplication by one hot self.vec, to get tensor of shape bs*num_mix_comp\n",
    "        self.prob_actions_taken = tf.reduce_sum(self.vec*self.mix_cond_prob, axis=1) \n",
    "               \n",
    "        # form the joint prob term of components and actions actually taken\n",
    "        self.aux_joint = self.prob_actions_taken*self.mixcomp_prob\n",
    "        \n",
    "        # get the posterior for the current param setting: p(z|a,s), which is the E step of EM\n",
    "        self.post_cur_params = tf.divide(self.aux_joint, tf.expand_dims(tf.reduce_sum(self.aux_joint, axis=1),1))\n",
    "        \n",
    "        # FORM AUX FUNC FOR M STEP\n",
    "        # firstly get log aux joint\n",
    "        self.log_aux_joint = tf.log(self.aux_joint+ 1e-10)\n",
    "        \n",
    "        # multiply by OLD posterior, passed in as placeholder, and then reduce_sum\n",
    "        self.aux = tf.reduce_sum(self.log_aux_joint * self.old_posterior) /num_mix_comp\n",
    "        self.loss = -1*self.aux\n",
    "        \n",
    "        # also create one using current posterior as an example\n",
    "        self.loss_cur_post = -1 * tf.reduce_sum(self.log_aux_joint * self.post_cur_params) / num_mix_comp \n",
    "        \n",
    "        self.likelihood = tf.reduce_sum(self.aux_joint, axis=1)\n",
    "    \n",
    "        self.log_lik =  tf.reduce_sum(tf.log(self.likelihood))\n",
    "\n",
    "        self.update_ops = tf.get_collection(tf.GraphKeys.UPDATE_OPS)\n",
    "        with tf.control_dependencies(self.update_ops):\n",
    "            self.train_step = tf.train.AdamOptimizer().minimize(self.loss)\n",
    "    \n",
    "    def mixcomp_net(self, inp):\n",
    "        fc_1_mixcomp = tf.contrib.layers.fully_connected(inp, 128, activation_fn=tf.nn.relu)\n",
    "        bn_1_mixcomp = tf.contrib.layers.batch_norm(fc_1_mixcomp, center=True, scale=True, is_training=self.phase)\n",
    "        fc_2_mixcomp = tf.contrib.layers.fully_connected(bn_1_mixcomp , 128, activation_fn=tf.nn.relu)\n",
    "        bn_2_mixcomp = tf.contrib.layers.batch_norm(fc_2_mixcomp, center=True, scale=True, is_training=self.phase)\n",
    "        mixcomp_logit = tf.contrib.layers.fully_connected(bn_2_mixcomp , num_mix_comp, activation_fn=None)\n",
    "        return tf.nn.softmax(mixcomp_logit)\n",
    "\n",
    "    def nn_mix_layer(self, inp, d_in, d_out, scope):\n",
    "        # inp is of size (batchsize,d_in,num_mix)\n",
    "        # output produced is of size (batchsize, d_out, num_mix).\n",
    "        # no activation added, so this works for last layer too\n",
    "        W = tf.get_variable(str(scope) + \"Wmix\",shape = [d_in, d_out, num_mix_comp], \n",
    "                            initializer = tf.contrib.layers.xavier_initializer())\n",
    "        b = tf.get_variable(str(scope)+\"bmix\", shape = [d_out, num_mix_comp])\n",
    "        # might need a tf.tile here for biases\n",
    "        processed_inp = tf.einsum(\"ilk,ljk->ijk\", inp, W) + b\n",
    "        return processed_inp"
   ]
  },
  {
   "cell_type": "code",
   "execution_count": 247,
   "metadata": {
    "collapsed": true
   },
   "outputs": [],
   "source": [
    "config = tf.ConfigProto()\n",
    "config.gpu_options.allow_growth = True  # Don't use all GPUs \n",
    "config.allow_soft_placement = True  # Enable manual control"
   ]
  },
  {
   "cell_type": "code",
   "execution_count": 248,
   "metadata": {
    "collapsed": true
   },
   "outputs": [],
   "source": [
    "def get_probs_for_analysis(dataset, sess, mdl):\n",
    "    # get p(a_vec| s) for each entry in dataset -- this sums over the mixture components\n",
    "    # get p(a_vec| s, z^(k)) for each entry in the dataset for each mix component -- 3D tensor\n",
    "    if dataset == 'train':\n",
    "        features, labels = train_feat,train_labels\n",
    "    elif dataset == 'val':\n",
    "        features, labels = val_feat,val_labels\n",
    "    elif dataset == 'test':\n",
    "        features, labels = test_feat,test_labels\n",
    "    \n",
    "    j = 0\n",
    "    \n",
    "    marginal_lik_vec = []\n",
    "    conditional_lik_vec = []\n",
    "    mixcomp_prob = []\n",
    "    \n",
    "    while (j < len(features)):\n",
    "        feat = None\n",
    "        lbls = None\n",
    "        if len(features) - j < batch_size:\n",
    "            feat = features[j:]\n",
    "            lbls = labels[j:]\n",
    "        else:\n",
    "            feat = features[j:j+batch_size]\n",
    "            lbls = labels[j:j+batch_size]\n",
    "        feat = feat.reshape(len(feat), feature_length)\n",
    "        acs = lbls.reshape(len(lbls), num_actions)\n",
    "        if j % 10000 == 0: \n",
    "            print('Processing indx: ', j )\n",
    "        \n",
    "        batch_marg_lik_vec, batch_cond_lik_vec, batch_mixcomp_prob = \\\n",
    "                                sess.run([mdl.lik_as_vec, mdl.mix_cond_prob, mdl.mixcomp_prob], \n",
    "                                          feed_dict={mdl.states : feat, mdl.actions: acs, mdl.phase: 0})\n",
    "        \n",
    "        marginal_lik_vec.append(batch_marg_lik_vec)\n",
    "        conditional_lik_vec.append(batch_cond_lik_vec)\n",
    "        mixcomp_prob.append(batch_mixcomp_prob)\n",
    "        \n",
    "        if len(features) - j < batch_size:\n",
    "            j = len(features)\n",
    "        else:\n",
    "            j += batch_size\n",
    "    \n",
    "    marginal_lik_vec = np.vstack([arr for arr in marginal_lik_vec])\n",
    "    conditional_lik_vec = np.vstack([arr for arr in conditional_lik_vec])\n",
    "    mixcomp_prob = np.vstack([arr for arr in mixcomp_prob])\n",
    "    return marginal_lik_vec, conditional_lik_vec, mixcomp_prob"
   ]
  },
  {
   "cell_type": "code",
   "execution_count": 249,
   "metadata": {
    "collapsed": true
   },
   "outputs": [],
   "source": [
    "def get_posterior(dataset, sess, mdl):\n",
    "    if dataset == 'train':\n",
    "        features, labels = train_feat,train_labels\n",
    "    elif dataset == 'val':\n",
    "        features, labels = val_feat,val_labels\n",
    "    elif dataset == 'test':\n",
    "        features, labels = test_feat,test_labels\n",
    "    \n",
    "    j = 0\n",
    "    \n",
    "    posterior = []\n",
    "    \n",
    "    while (j < len(features)):\n",
    "        feat = None\n",
    "        lbls = None\n",
    "        if len(features) - j < batch_size:\n",
    "            feat = features[j:]\n",
    "            lbls = labels[j:]\n",
    "        else:\n",
    "            feat = features[j:j+batch_size]\n",
    "            lbls = labels[j:j+batch_size]\n",
    "        feat = feat.reshape(len(feat), feature_length)\n",
    "        acs = lbls.reshape(len(lbls), num_actions)\n",
    "        if j % 10000 == 0: \n",
    "            print('Processing indx: ', j )\n",
    "        \n",
    "        post = sess.run(mdl.post_cur_params, \n",
    "                          feed_dict={mdl.states : feat, mdl.actions: acs, mdl.phase: 0})\n",
    "        \n",
    "        posterior.append(post)\n",
    "\n",
    "        if len(features) - j < batch_size:\n",
    "            j = len(features)\n",
    "        else:\n",
    "            j += batch_size\n",
    "    \n",
    "    posterior = np.vstack([arr for arr in posterior])\n",
    "\n",
    "    return posterior\n"
   ]
  },
  {
   "cell_type": "code",
   "execution_count": 250,
   "metadata": {
    "collapsed": true
   },
   "outputs": [],
   "source": [
    "# Runs eval step.\n",
    "# Do we want to use current posterior or old posterior? cur is probably better...\n",
    "def run_eval(dataset,sess, mdl):\n",
    "    if dataset == 'train':\n",
    "        features, labels = train_feat,train_labels\n",
    "    elif dataset == 'val':\n",
    "        features, labels = val_feat,val_labels\n",
    "    elif dataset == 'test':\n",
    "        features, labels = test_feat,test_labels\n",
    "\n",
    "    total_loss = 0\n",
    "    total_log_lik = 0\n",
    "    j = 0\n",
    "    while (j < len(features)):\n",
    "        feat = None\n",
    "        lbls = None\n",
    "        if len(features) - j < batch_size:\n",
    "            feat = features[j:-1]\n",
    "            lbls = labels[j:-1]\n",
    "        else:\n",
    "            feat = features[j:j+batch_size]\n",
    "            lbls = labels[j:j+batch_size]\n",
    "        feat = feat.reshape(len(feat), feature_length)\n",
    "        acs = lbls.reshape(len(lbls), num_actions)\n",
    "        if j % 10000 == 0: \n",
    "            print('Processing val set indx: ', j )\n",
    "        loss, log_lik = sess.run([mdl.loss_cur_post, mdl.log_lik], \n",
    "                          feed_dict={mdl.states : feat, mdl.actions: acs, mdl.phase: 0})\n",
    "        total_loss += loss\n",
    "        total_log_lik += log_lik\n",
    "        if len(features) - j < batch_size:\n",
    "            j = len(features)\n",
    "        else:\n",
    "            j += batch_size\n",
    "    return total_loss, total_log_lik\n",
    "    "
   ]
  },
  {
   "cell_type": "code",
   "execution_count": 251,
   "metadata": {
    "scrolled": false
   },
   "outputs": [
    {
     "name": "stdout",
     "output_type": "stream",
     "text": [
      "Running default init\n",
      "Init done\n",
      "('Processing indx: ', 0)\n",
      "('Processing indx: ', 40000)\n",
      "('Processing indx: ', 80000)\n",
      "('Processing indx: ', 120000)\n",
      "('Processing indx: ', 160000)\n",
      "Average training loss per batch and loglik are 40.215041, -271119.982944 and E step is 0\n",
      "('Processing val set indx: ', 0)\n",
      "Avg val loss and val loglik at epoch end are 38.029468, -35647.722462 and E step is 0\n",
      "Average training loss per batch and loglik are 37.699133, -237617.037292 and E step is 0\n",
      "('Processing val set indx: ', 0)\n",
      "Avg val loss and val loglik at epoch end are 37.053789, -33770.177021 and E step is 0\n",
      "Average training loss per batch and loglik are 37.011223, -228809.151852 and E step is 0\n",
      "('Processing val set indx: ', 0)\n",
      "Avg val loss and val loglik at epoch end are 36.628049, -32750.305145 and E step is 0\n",
      "Average training loss per batch and loglik are 36.630560, -223722.296700 and E step is 0\n",
      "('Processing val set indx: ', 0)\n",
      "Avg val loss and val loglik at epoch end are 36.188618, -32071.475811 and E step is 0\n",
      "Average training loss per batch and loglik are 36.349317, -219864.817358 and E step is 0\n",
      "('Processing val set indx: ', 0)\n",
      "Avg val loss and val loglik at epoch end are 35.922517, -31565.316431 and E step is 0\n",
      "('Processing indx: ', 0)\n",
      "('Processing indx: ', 40000)\n",
      "('Processing indx: ', 80000)\n",
      "('Processing indx: ', 120000)\n",
      "('Processing indx: ', 160000)\n",
      "Average training loss per batch and loglik are 35.712334, -215776.944336 and E step is 1\n",
      "('Processing val set indx: ', 0)\n",
      "Avg val loss and val loglik at epoch end are 35.449607, -31203.483810 and E step is 1\n",
      "Average training loss per batch and loglik are 35.526434, -212982.508919 and E step is 1\n",
      "('Processing val set indx: ', 0)\n",
      "Avg val loss and val loglik at epoch end are 35.295123, -30912.858370 and E step is 1\n",
      "Average training loss per batch and loglik are 35.412524, -211250.549543 and E step is 1\n",
      "('Processing val set indx: ', 0)\n",
      "Avg val loss and val loglik at epoch end are 35.169367, -30431.402107 and E step is 1\n",
      "Average training loss per batch and loglik are 35.332012, -210027.473289 and E step is 1\n",
      "('Processing val set indx: ', 0)\n",
      "Avg val loss and val loglik at epoch end are 34.989182, -30402.511818 and E step is 1\n",
      "Average training loss per batch and loglik are 35.252985, -208872.869070 and E step is 1\n",
      "('Processing val set indx: ', 0)\n",
      "Avg val loss and val loglik at epoch end are 35.168673, -30512.847485 and E step is 1\n",
      "('Processing indx: ', 0)\n",
      "('Processing indx: ', 40000)\n",
      "('Processing indx: ', 80000)\n",
      "('Processing indx: ', 120000)\n",
      "('Processing indx: ', 160000)\n",
      "Average training loss per batch and loglik are 34.888473, -207416.732903 and E step is 2\n",
      "('Processing val set indx: ', 0)\n",
      "Avg val loss and val loglik at epoch end are 34.687477, -29990.060787 and E step is 2\n",
      "Average training loss per batch and loglik are 34.806565, -206186.630192 and E step is 2\n",
      "('Processing val set indx: ', 0)\n",
      "Avg val loss and val loglik at epoch end are 34.613811, -29893.679474 and E step is 2\n",
      "Average training loss per batch and loglik are 34.761744, -205498.341396 and E step is 2\n",
      "('Processing val set indx: ', 0)\n",
      "Avg val loss and val loglik at epoch end are 34.793378, -29999.861374 and E step is 2\n",
      "Average training loss per batch and loglik are 34.720322, -204832.280666 and E step is 2\n",
      "('Processing val set indx: ', 0)\n",
      "Avg val loss and val loglik at epoch end are 34.744225, -29844.027596 and E step is 2\n",
      "Average training loss per batch and loglik are 34.689291, -204345.248190 and E step is 2\n",
      "('Processing val set indx: ', 0)\n",
      "Avg val loss and val loglik at epoch end are 34.522569, -29788.351147 and E step is 2\n",
      "('Processing indx: ', 0)\n",
      "('Processing indx: ', 40000)\n",
      "('Processing indx: ', 80000)\n",
      "('Processing indx: ', 120000)\n",
      "('Processing indx: ', 160000)\n",
      "Average training loss per batch and loglik are 34.331413, -203523.188450 and E step is 3\n",
      "('Processing val set indx: ', 0)\n",
      "Avg val loss and val loglik at epoch end are 34.093250, -29616.500233 and E step is 3\n",
      "Average training loss per batch and loglik are 34.284700, -202779.354410 and E step is 3\n",
      "('Processing val set indx: ', 0)\n",
      "Avg val loss and val loglik at epoch end are 34.202633, -29691.310564 and E step is 3\n",
      "Average training loss per batch and loglik are 34.254500, -202297.943825 and E step is 3\n",
      "('Processing val set indx: ', 0)\n",
      "Avg val loss and val loglik at epoch end are 34.352509, -29586.654068 and E step is 3\n",
      "Average training loss per batch and loglik are 34.230306, -201944.220150 and E step is 3\n",
      "('Processing val set indx: ', 0)\n",
      "Avg val loss and val loglik at epoch end are 34.136101, -29431.073673 and E step is 3\n",
      "Average training loss per batch and loglik are 34.206828, -201547.101254 and E step is 3\n",
      "('Processing val set indx: ', 0)\n",
      "Avg val loss and val loglik at epoch end are 34.005885, -29393.639568 and E step is 3\n",
      "('Processing indx: ', 0)\n",
      "('Processing indx: ', 40000)\n",
      "('Processing indx: ', 80000)\n",
      "('Processing indx: ', 120000)\n",
      "('Processing indx: ', 160000)\n",
      "Average training loss per batch and loglik are 33.827103, -201064.889547 and E step is 4\n",
      "('Processing val set indx: ', 0)\n",
      "Avg val loss and val loglik at epoch end are 33.665611, -29295.502876 and E step is 4\n",
      "Average training loss per batch and loglik are 33.782277, -200336.809677 and E step is 4\n",
      "('Processing val set indx: ', 0)\n",
      "Avg val loss and val loglik at epoch end are 33.817611, -29450.847340 and E step is 4\n",
      "Average training loss per batch and loglik are 33.754222, -199922.923407 and E step is 4\n",
      "('Processing val set indx: ', 0)\n",
      "Avg val loss and val loglik at epoch end are 33.908196, -29474.866013 and E step is 4\n",
      "Average training loss per batch and loglik are 33.739534, -199686.905006 and E step is 4\n",
      "('Processing val set indx: ', 0)\n",
      "Avg val loss and val loglik at epoch end are 33.827452, -29287.106819 and E step is 4\n",
      "Average training loss per batch and loglik are 33.725204, -199399.283100 and E step is 4\n",
      "('Processing val set indx: ', 0)\n",
      "Avg val loss and val loglik at epoch end are 33.895426, -29476.289196 and E step is 4\n",
      "('Processing indx: ', 0)\n",
      "('Processing indx: ', 40000)\n",
      "('Processing indx: ', 80000)\n",
      "('Processing indx: ', 120000)\n",
      "('Processing indx: ', 160000)\n",
      "Average training loss per batch and loglik are 33.517100, -198924.833187 and E step is 5\n",
      "('Processing val set indx: ', 0)\n",
      "Avg val loss and val loglik at epoch end are 33.571742, -29347.935986 and E step is 5\n",
      "Average training loss per batch and loglik are 33.484958, -198439.600964 and E step is 5\n",
      "('Processing val set indx: ', 0)\n",
      "Avg val loss and val loglik at epoch end are 33.473068, -29281.396305 and E step is 5\n",
      "Average training loss per batch and loglik are 33.464416, -198138.451315 and E step is 5\n",
      "('Processing val set indx: ', 0)\n",
      "Avg val loss and val loglik at epoch end are 33.454901, -29040.927177 and E step is 5\n",
      "Average training loss per batch and loglik are 33.447014, -197859.302986 and E step is 5\n",
      "('Processing val set indx: ', 0)\n",
      "Avg val loss and val loglik at epoch end are 33.344875, -29187.409618 and E step is 5\n",
      "Average training loss per batch and loglik are 33.430372, -197598.423672 and E step is 5\n",
      "('Processing val set indx: ', 0)\n",
      "Avg val loss and val loglik at epoch end are 33.498180, -29202.646336 and E step is 5\n",
      "('Processing indx: ', 0)\n",
      "('Processing indx: ', 40000)\n",
      "('Processing indx: ', 80000)\n",
      "('Processing indx: ', 120000)\n",
      "('Processing indx: ', 160000)\n",
      "Average training loss per batch and loglik are 33.139219, -197325.281761 and E step is 6\n",
      "('Processing val set indx: ', 0)\n",
      "Avg val loss and val loglik at epoch end are 33.368228, -29147.165707 and E step is 6\n",
      "Average training loss per batch and loglik are 33.108943, -196868.380711 and E step is 6\n",
      "('Processing val set indx: ', 0)\n",
      "Avg val loss and val loglik at epoch end are 33.342903, -29231.003139 and E step is 6\n",
      "Average training loss per batch and loglik are 33.093975, -196601.028553 and E step is 6\n",
      "('Processing val set indx: ', 0)\n",
      "Avg val loss and val loglik at epoch end are 33.273600, -29123.763603 and E step is 6\n",
      "Average training loss per batch and loglik are 33.075806, -196328.086130 and E step is 6\n",
      "('Processing val set indx: ', 0)\n",
      "Avg val loss and val loglik at epoch end are 33.114868, -29041.593353 and E step is 6\n",
      "Average training loss per batch and loglik are 33.058630, -196075.954372 and E step is 6\n",
      "('Processing val set indx: ', 0)\n"
     ]
    },
    {
     "name": "stdout",
     "output_type": "stream",
     "text": [
      "Avg val loss and val loglik at epoch end are 33.250971, -29082.201439 and E step is 6\n",
      "('Processing indx: ', 0)\n",
      "('Processing indx: ', 40000)\n",
      "('Processing indx: ', 80000)\n",
      "('Processing indx: ', 120000)\n",
      "('Processing indx: ', 160000)\n",
      "Average training loss per batch and loglik are 32.838774, -195784.797380 and E step is 7\n",
      "('Processing val set indx: ', 0)\n",
      "Avg val loss and val loglik at epoch end are 33.041856, -29083.277872 and E step is 7\n",
      "Average training loss per batch and loglik are 32.817958, -195473.019854 and E step is 7\n",
      "('Processing val set indx: ', 0)\n",
      "Avg val loss and val loglik at epoch end are 33.037097, -29084.939278 and E step is 7\n",
      "Average training loss per batch and loglik are 32.796409, -195142.355051 and E step is 7\n",
      "('Processing val set indx: ', 0)\n",
      "Avg val loss and val loglik at epoch end are 32.996942, -29044.203672 and E step is 7\n",
      "Average training loss per batch and loglik are 32.786659, -194932.043938 and E step is 7\n",
      "('Processing val set indx: ', 0)\n",
      "Avg val loss and val loglik at epoch end are 32.959895, -29126.035458 and E step is 7\n",
      "Average training loss per batch and loglik are 32.774030, -194754.946648 and E step is 7\n",
      "('Processing val set indx: ', 0)\n",
      "Avg val loss and val loglik at epoch end are 33.008172, -29050.728466 and E step is 7\n",
      "('Processing indx: ', 0)\n",
      "('Processing indx: ', 0)\n",
      "('Processing indx: ', 40000)\n",
      "('Processing indx: ', 80000)\n",
      "('Processing indx: ', 120000)\n",
      "('Processing indx: ', 160000)\n",
      "('Processing indx: ', 0)\n",
      "('Processing indx: ', 40000)\n"
     ]
    }
   ],
   "source": [
    "# Idea when training:\n",
    "# Init posteriors (E step)\n",
    "# run M step for j epochs\n",
    "# re-estimate post (E)\n",
    "# run M step for j epochs\n",
    "# repeat until convergence on val set (?) \n",
    "\n",
    "batch_size = 64\n",
    "num_epochs = 5 # number of epochs to run M step for before re-estimating posteriors\n",
    "num_E_steps = 8 # how many times to re-estimate E\n",
    "load_model = False #Whether to load a saved model.\n",
    "save_dir = \"./MixNN_EM/\"\n",
    "save_path = \"./MixNN_EM/ckpt\"#The path to save our model to\n",
    "tf.reset_default_graph()\n",
    "mdl = MixNN()\n",
    "do_analysis = False\n",
    "\n",
    "saver = tf.train.Saver(tf.global_variables())\n",
    "\n",
    "init = tf.global_variables_initializer()\n",
    "\n",
    "trainables = tf.trainable_variables()\n",
    "\n",
    "#Make a path for our model to be saved in.\n",
    "if not os.path.exists(save_dir):\n",
    "    os.makedirs(save_dir)\n",
    "\n",
    "with tf.Session(config=config) as sess:\n",
    "    if load_model == True:\n",
    "        print('Trying to load model...')\n",
    "        try:\n",
    "            restorer = tf.train.import_meta_graph(save_path + '.meta')\n",
    "            restorer.restore(sess, tf.train.latest_checkpoint(save_dir))\n",
    "            print \"Model restored\"\n",
    "        except IOError:\n",
    "            print \"No previous model found, running default init\"\n",
    "            sess.run(init)\n",
    "    else:\n",
    "        print(\"Running default init\")\n",
    "        sess.run(init)\n",
    "    print(\"Init done\")\n",
    "    \n",
    "\n",
    "    for e_step in range(num_E_steps):\n",
    "        if do_analysis:\n",
    "            print \"do analysis\"\n",
    "            marginal_lik, cond_lik, mixcomp_prob = get_probs_for_analysis('val', sess, mdl)\n",
    "            break\n",
    "        # start by initialising the posterior \n",
    "        posterior = get_posterior('train', sess, mdl)\n",
    "\n",
    "        for j in range(1,num_epochs+1):\n",
    "            net_loss = 0.0\n",
    "            net_loglik = 0.0\n",
    "            inds = np.random.permutation(train_feat.shape[0])\n",
    "            start_idx = 0\n",
    "            end_idx = 0\n",
    "            while start_idx < len(train_feat):\n",
    "                end_idx = min(len(train_feat), start_idx+batch_size)\n",
    "                batch_inds = inds[start_idx:end_idx]\n",
    "                x_batch = train_feat[batch_inds]\n",
    "                y_batch = train_labels[batch_inds]\n",
    "                post_batch = posterior[batch_inds]\n",
    "\n",
    "                # train using the batch\n",
    "                _,loss, batchtrain_loglik = sess.run([mdl.train_step,mdl.loss, mdl.log_lik], \\\n",
    "                feed_dict={mdl.states:x_batch,\n",
    "                           mdl.actions:y_batch,\n",
    "                           mdl.old_posterior:post_batch,\n",
    "                           mdl.phase:True})\n",
    "\n",
    "                # update net loss\n",
    "                net_loss += loss\n",
    "                \n",
    "                # update net loglik\n",
    "                net_loglik += batchtrain_loglik\n",
    "\n",
    "                # increment start index to inds\n",
    "                start_idx += batch_size\n",
    "\n",
    "#             saver.save(sess,save_path)\n",
    "#             print(\"Saved Model, epoch \" + str(j) + \" E step is \" + str(e_step))\n",
    "\n",
    "            av_loss = net_loss/(len(train_feat)/float(batch_size))\n",
    "            print(\"Average training loss per batch and loglik are %f, %f and E step is %d\"  % (av_loss, net_loglik, e_step))\n",
    "            net_loss = 0.0\n",
    "            net_loglik = 0.0\n",
    "\n",
    "            eval_loss, eval_loglik = run_eval(\"val\", sess, mdl)\n",
    "            \n",
    "            eval_loss = eval_loss/(len(val_feat)/float(batch_size))\n",
    "\n",
    "            print (\"Avg val loss and val loglik at epoch end are %f, %f and E step is %d\" % (eval_loss, eval_loglik, e_step))\n",
    "    \n",
    "    marginal_lik_val, cond_lik_val, mixcomp_prob_val = get_probs_for_analysis('val', sess, mdl)\n",
    "    marginal_lik_train, cond_lik_train, mixcomp_prob_train = get_probs_for_analysis('train', sess, mdl)\n",
    "    marginal_lik_test, cond_lik_test, mixcomp_prob_test = get_probs_for_analysis('test', sess, mdl)\n",
    "\n",
    "   "
   ]
  },
  {
   "cell_type": "code",
   "execution_count": 252,
   "metadata": {},
   "outputs": [
    {
     "name": "stdout",
     "output_type": "stream",
     "text": [
      "(24338, 25) (24338, 25, 5)\n",
      "(169495, 25) (169495, 25, 5)\n",
      "(48617, 25) (48617, 25, 5)\n"
     ]
    }
   ],
   "source": [
    "print marginal_lik_val.shape, cond_lik_val.shape\n",
    "print marginal_lik_train.shape, cond_lik_train.shape\n",
    "print marginal_lik_test.shape, cond_lik_test.shape\n"
   ]
  },
  {
   "cell_type": "code",
   "execution_count": 254,
   "metadata": {
    "collapsed": true
   },
   "outputs": [],
   "source": [
    "# np.save('./MixNN_EM/marginal_lik_val_dr.npy', marginal_lik_val)\n",
    "# np.save('./MixNN_EM/marginal_lik_train_dr.npy', marginal_lik_train)\n",
    "# np.save('./MixNN_EM/marginal_lik_test_dr.npy', marginal_lik_test)\n",
    "\n",
    "# np.save('./MixNN_EM/cond_lik_val_dr.npy', cond_lik_val)\n",
    "# np.save('./MixNN_EM/cond_lik_train_dr.npy', cond_lik_train)\n",
    "# np.save('./MixNN_EM/cond_lik_test_dr.npy',cond_lik_test)"
   ]
  },
  {
   "cell_type": "code",
   "execution_count": 255,
   "metadata": {
    "collapsed": true
   },
   "outputs": [],
   "source": [
    "# np.save('./MixNN_EM/marginal_lik_val.npy', marginal_lik)\n",
    "# np.save('./MixNN_EM/cond_lik_val.npy', cond_lik)\n",
    "# np.save('./MixNN_EM/mixcomp_prob.npy', mixcomp_prob)"
   ]
  },
  {
   "cell_type": "code",
   "execution_count": 256,
   "metadata": {
    "collapsed": true
   },
   "outputs": [],
   "source": [
    "# FIRSTLY, ARGMAX PLOTS"
   ]
  },
  {
   "cell_type": "code",
   "execution_count": 257,
   "metadata": {
    "collapsed": true
   },
   "outputs": [],
   "source": [
    "# get the argmaxes for the first analysis\n",
    "actions_chosen = np.argmax(marginal_lik_val, axis=1)\n",
    "val_labels_asvec = np.argmax(val_labels, axis=1)\n",
    "mix_actions_chosen = np.argmax(cond_lik_val, axis=1)"
   ]
  },
  {
   "cell_type": "code",
   "execution_count": 258,
   "metadata": {
    "scrolled": true
   },
   "outputs": [
    {
     "name": "stdout",
     "output_type": "stream",
     "text": [
      "0.604199194675\n"
     ]
    }
   ],
   "source": [
    "print sum(actions_chosen == val_labels_asvec)/float(len(val_labels_asvec))"
   ]
  },
  {
   "cell_type": "code",
   "execution_count": 260,
   "metadata": {},
   "outputs": [
    {
     "data": {
      "text/plain": [
       "(24338, 25)"
      ]
     },
     "execution_count": 260,
     "metadata": {},
     "output_type": "execute_result"
    }
   ],
   "source": [
    "one_comp_lik.shape"
   ]
  },
  {
   "cell_type": "code",
   "execution_count": 261,
   "metadata": {},
   "outputs": [
    {
     "data": {
      "text/plain": [
       "(24338, 25)"
      ]
     },
     "execution_count": 261,
     "metadata": {},
     "output_type": "execute_result"
    }
   ],
   "source": [
    "five_comp_lik.shape"
   ]
  },
  {
   "cell_type": "code",
   "execution_count": 300,
   "metadata": {},
   "outputs": [
    {
     "name": "stdout",
     "output_type": "stream",
     "text": [
      "-6172.62290568\n",
      "-5932.4055236\n"
     ]
    }
   ],
   "source": [
    "# find where both are correct, where both are wrong\n",
    "# find what the probabilities are in both cases of the true classes\n",
    "# Add some of these up to understand what's been going wrong.\n",
    "correct_both = (val_labels_asvec == np.argmax(one_comp_lik, axis=1)) *  \\\n",
    "                    (val_labels_asvec == np.argmax(five_comp_lik, axis=1))\n",
    "one_comp_pred_both_correct = np.max(one_comp_lik, axis=1)[correct_both]\n",
    "five_comp_pred_both_correct = np.max(five_comp_lik, axis=1)[correct_both]\n",
    "print sum(np.log(one_comp_pred_both_correct))\n",
    "print sum(np.log(five_comp_pred_both_correct))"
   ]
  },
  {
   "cell_type": "code",
   "execution_count": 301,
   "metadata": {
    "collapsed": true
   },
   "outputs": [],
   "source": [
    "wrong_both = (val_labels_asvec != np.argmax(one_comp_lik, axis=1)) *  \\\n",
    "                    (val_labels_asvec != np.argmax(five_comp_lik, axis=1))"
   ]
  },
  {
   "cell_type": "code",
   "execution_count": 312,
   "metadata": {},
   "outputs": [
    {
     "name": "stdout",
     "output_type": "stream",
     "text": [
      "-21879.8962781\n",
      "-21802.6973631\n"
     ]
    }
   ],
   "source": [
    "one_comp_pred_both_wrong = one_comp_lik[range(len(one_comp_lik)), val_labels_asvec][wrong_both]\n",
    "five_comp_pred_both_wrong = five_comp_lik[range(len(one_comp_lik)), val_labels_asvec][wrong_both]\n",
    "print sum(np.log(one_comp_pred_both_wrong))\n",
    "print sum(np.log(five_comp_pred_both_wrong))"
   ]
  },
  {
   "cell_type": "code",
   "execution_count": 303,
   "metadata": {
    "collapsed": true
   },
   "outputs": [],
   "source": [
    "# find ones we got wrong with 1 comp and right with 5\n",
    "wrong_one_right_five = (val_labels_asvec != np.argmax(one_comp_lik, axis=1)) * \\\n",
    "                        (val_labels_asvec == np.argmax(five_comp_lik, axis=1))"
   ]
  },
  {
   "cell_type": "code",
   "execution_count": 304,
   "metadata": {
    "collapsed": true
   },
   "outputs": [],
   "source": [
    "wrong_five_right_one = (val_labels_asvec == np.argmax(one_comp_lik, axis=1)) * \\\n",
    "                        (val_labels_asvec != np.argmax(five_comp_lik, axis=1))"
   ]
  },
  {
   "cell_type": "code",
   "execution_count": 305,
   "metadata": {
    "scrolled": true
   },
   "outputs": [
    {
     "data": {
      "text/plain": [
       "502"
      ]
     },
     "execution_count": 305,
     "metadata": {},
     "output_type": "execute_result"
    }
   ],
   "source": [
    "sum(wrong_five_right_one)"
   ]
  },
  {
   "cell_type": "code",
   "execution_count": 306,
   "metadata": {},
   "outputs": [
    {
     "data": {
      "text/plain": [
       "637"
      ]
     },
     "execution_count": 306,
     "metadata": {},
     "output_type": "execute_result"
    }
   ],
   "source": [
    "sum(wrong_one_right_five)"
   ]
  },
  {
   "cell_type": "code",
   "execution_count": 308,
   "metadata": {},
   "outputs": [
    {
     "name": "stdout",
     "output_type": "stream",
     "text": [
      "-881.509133399\n",
      "-619.70103617\n"
     ]
    }
   ],
   "source": [
    "one_comp_pred_w1r5 = one_comp_lik[range(len(one_comp_lik)), val_labels_asvec][wrong_one_right_five]\n",
    "five_comp_pred_w1r5 = five_comp_lik[range(len(one_comp_lik)), val_labels_asvec][wrong_one_right_five]\n",
    "print sum(np.log(one_comp_pred_w1r5))\n",
    "print sum(np.log(five_comp_pred_w1r5))"
   ]
  },
  {
   "cell_type": "code",
   "execution_count": 309,
   "metadata": {},
   "outputs": [
    {
     "name": "stdout",
     "output_type": "stream",
     "text": [
      "-540.522264093\n",
      "-699.437117279\n"
     ]
    }
   ],
   "source": [
    "one_comp_pred_w5r1 = one_comp_lik[range(len(one_comp_lik)), val_labels_asvec][wrong_five_right_one]\n",
    "five_comp_pred_w5r1 = five_comp_lik[range(len(one_comp_lik)), val_labels_asvec][wrong_five_right_one]\n",
    "print sum(np.log(one_comp_pred_w5r1))\n",
    "print sum(np.log(five_comp_pred_w5r1))"
   ]
  },
  {
   "cell_type": "code",
   "execution_count": 310,
   "metadata": {},
   "outputs": [
    {
     "data": {
      "text/plain": [
       "428"
      ]
     },
     "execution_count": 310,
     "metadata": {},
     "output_type": "execute_result"
    }
   ],
   "source": [
    "240 + 77 + 270 - 159"
   ]
  },
  {
   "cell_type": "code",
   "execution_count": null,
   "metadata": {
    "collapsed": true
   },
   "outputs": [],
   "source": []
  },
  {
   "cell_type": "code",
   "execution_count": 50,
   "metadata": {
    "collapsed": true
   },
   "outputs": [
    {
     "data": {
      "text/plain": [
       "<matplotlib.axes._subplots.AxesSubplot at 0x7f3f85bab190>"
      ]
     },
     "execution_count": 50,
     "metadata": {},
     "output_type": "execute_result"
    },
    {
     "data": {
      "image/png": "[encoded data removed]",
      "text/plain": [
       "<matplotlib.figure.Figure at 0x7f403c6df1d0>"
      ]
     },
     "metadata": {},
     "output_type": "display_data"
    }
   ],
   "source": [
    "pd.Series(actions_chosen).hist(bins=25)"
   ]
  },
  {
   "cell_type": "code",
   "execution_count": 51,
   "metadata": {
    "collapsed": true
   },
   "outputs": [
    {
     "data": {
      "text/plain": [
       "<matplotlib.axes._subplots.AxesSubplot at 0x7f4074629650>"
      ]
     },
     "execution_count": 51,
     "metadata": {},
     "output_type": "execute_result"
    },
    {
     "data": {
      "image/png": "[encoded data removed]",
      "text/plain": [
       "<matplotlib.figure.Figure at 0x7f3fecf05dd0>"
      ]
     },
     "metadata": {},
     "output_type": "display_data"
    }
   ],
   "source": [
    "pd.Series(val_labels_asvec).hist(bins=25)"
   ]
  }
 ],
 "metadata": {
  "anaconda-cloud": {},
  "kernelspec": {
   "display_name": "Python [conda env:my_root]",
   "language": "python",
   "name": "conda-env-my_root-py"
  },
  "language_info": {
   "codemirror_mode": {
    "name": "ipython",
    "version": 3
   },
   "file_extension": ".py",
   "mimetype": "text/x-python",
   "name": "python",
   "nbconvert_exporter": "python",
   "pygments_lexer": "ipython3",
   "version": "3.5.4"
  }
 },
 "nbformat": 4,
 "nbformat_minor": 2
}
