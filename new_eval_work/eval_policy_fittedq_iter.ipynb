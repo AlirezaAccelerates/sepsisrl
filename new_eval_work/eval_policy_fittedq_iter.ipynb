{
 "cells": [
  {
   "cell_type": "code",
   "execution_count": 1,
   "metadata": {
    "collapsed": true
   },
   "outputs": [],
   "source": [
    "# Fitted Q iteration (Expected SARSA)"
   ]
  },
  {
   "cell_type": "code",
   "execution_count": 2,
   "metadata": {
    "collapsed": true
   },
   "outputs": [],
   "source": [
    "# policy_train_path = '../continuous/dqn_normal/dqn_normal_actions_train.p'\n",
    "# policy_val_path = '../continuous/dqn_normal/dqn_normal_actions_val.p'\n",
    "# policy_test_path = '../continuous/dqn_normal/dqn_normal_actions_test.p'"
   ]
  },
  {
   "cell_type": "code",
   "execution_count": 3,
   "metadata": {
    "collapsed": true
   },
   "outputs": [],
   "source": [
    "import numpy as np\n",
    "import math\n",
    "import os\n",
    "import random\n",
    "import numpy as np\n",
    "import pandas as pd\n",
    "from pandas import DataFrame\n",
    "import cPickle as pickle\n",
    "import copy"
   ]
  },
  {
   "cell_type": "code",
   "execution_count": 4,
   "metadata": {
    "collapsed": true
   },
   "outputs": [],
   "source": [
    "os.environ['CUDA_VISIBLE_DEVICES'] = '0'"
   ]
  },
  {
   "cell_type": "code",
   "execution_count": 5,
   "metadata": {},
   "outputs": [
    {
     "name": "stdout",
     "output_type": "stream",
     "text": [
      "['Albumin', 'Arterial_BE', 'Arterial_lactate', 'Arterial_pH', 'BUN', 'CO2_mEqL', 'Calcium', 'Chloride', 'Creatinine', 'DiaBP', 'FiO2_1', 'GCS', 'Glucose', 'HCO3', 'HR', 'Hb', 'INR', 'Ionised_Ca', 'Magnesium', 'MeanBP', 'PT', 'PTT', 'PaO2_FiO2', 'Platelets_count', 'Potassium', 'RR', 'SGOT', 'SGPT', 'SIRS', 'SOFA', 'Shock_Index', 'Sodium', 'SpO2', 'SysBP', 'Temp_C', 'Total_bili', 'WBC_count', 'Weight_kg', 'age', 'elixhauser', 'gender', 'mechvent', 'output_4hourly', 'output_total', 'paCO2', 'paO2', 're_admission', 'bloc']\n",
      "48\n"
     ]
    }
   ],
   "source": [
    "with open('../data/state_features.txt') as f:\n",
    "    state_features = f.read().split()\n",
    "print (state_features)\n",
    "print len(state_features)"
   ]
  },
  {
   "cell_type": "code",
   "execution_count": 6,
   "metadata": {
    "collapsed": true
   },
   "outputs": [],
   "source": [
    "df = pd.read_csv('../data/rl_train_data_final_cont.csv')"
   ]
  },
  {
   "cell_type": "code",
   "execution_count": 7,
   "metadata": {
    "scrolled": false
   },
   "outputs": [
    {
     "data": {
      "text/html": [
       "<div>\n",
       "<style>\n",
       "    .dataframe thead tr:only-child th {\n",
       "        text-align: right;\n",
       "    }\n",
       "\n",
       "    .dataframe thead th {\n",
       "        text-align: left;\n",
       "    }\n",
       "\n",
       "    .dataframe tbody tr th {\n",
       "        vertical-align: top;\n",
       "    }\n",
       "</style>\n",
       "<table border=\"1\" class=\"dataframe\">\n",
       "  <thead>\n",
       "    <tr style=\"text-align: right;\">\n",
       "      <th></th>\n",
       "      <th>bloc</th>\n",
       "      <th>icustayid</th>\n",
       "      <th>charttime</th>\n",
       "      <th>gender</th>\n",
       "      <th>age</th>\n",
       "      <th>elixhauser</th>\n",
       "      <th>re_admission</th>\n",
       "      <th>died_in_hosp</th>\n",
       "      <th>mortality_90d</th>\n",
       "      <th>Weight_kg</th>\n",
       "      <th>...</th>\n",
       "      <th>median_dose_vaso</th>\n",
       "      <th>max_dose_vaso</th>\n",
       "      <th>input_total_tev</th>\n",
       "      <th>input_4hourly_tev</th>\n",
       "      <th>output_total</th>\n",
       "      <th>output_4hourly</th>\n",
       "      <th>cumulated_balance_tev</th>\n",
       "      <th>vaso_input</th>\n",
       "      <th>iv_input</th>\n",
       "      <th>reward</th>\n",
       "    </tr>\n",
       "  </thead>\n",
       "  <tbody>\n",
       "    <tr>\n",
       "      <th>0</th>\n",
       "      <td>0.000000</td>\n",
       "      <td>3</td>\n",
       "      <td>7245052800</td>\n",
       "      <td>0.0</td>\n",
       "      <td>0.412568</td>\n",
       "      <td>0.0</td>\n",
       "      <td>0.0</td>\n",
       "      <td>0</td>\n",
       "      <td>1</td>\n",
       "      <td>0.262712</td>\n",
       "      <td>...</td>\n",
       "      <td>0.0</td>\n",
       "      <td>0.0</td>\n",
       "      <td>0.797351</td>\n",
       "      <td>0.939195</td>\n",
       "      <td>0.589916</td>\n",
       "      <td>0.750908</td>\n",
       "      <td>0.554500</td>\n",
       "      <td>0.0</td>\n",
       "      <td>4.0</td>\n",
       "      <td>0.125000</td>\n",
       "    </tr>\n",
       "    <tr>\n",
       "      <th>1</th>\n",
       "      <td>0.222560</td>\n",
       "      <td>3</td>\n",
       "      <td>7245067200</td>\n",
       "      <td>0.0</td>\n",
       "      <td>0.412568</td>\n",
       "      <td>0.0</td>\n",
       "      <td>0.0</td>\n",
       "      <td>0</td>\n",
       "      <td>1</td>\n",
       "      <td>0.262712</td>\n",
       "      <td>...</td>\n",
       "      <td>0.0</td>\n",
       "      <td>0.0</td>\n",
       "      <td>0.831780</td>\n",
       "      <td>0.934543</td>\n",
       "      <td>0.674384</td>\n",
       "      <td>0.819589</td>\n",
       "      <td>0.580033</td>\n",
       "      <td>0.0</td>\n",
       "      <td>4.0</td>\n",
       "      <td>0.657321</td>\n",
       "    </tr>\n",
       "    <tr>\n",
       "      <th>2</th>\n",
       "      <td>0.356608</td>\n",
       "      <td>3</td>\n",
       "      <td>7245081600</td>\n",
       "      <td>0.0</td>\n",
       "      <td>0.412568</td>\n",
       "      <td>0.0</td>\n",
       "      <td>0.0</td>\n",
       "      <td>0</td>\n",
       "      <td>1</td>\n",
       "      <td>0.262712</td>\n",
       "      <td>...</td>\n",
       "      <td>0.0</td>\n",
       "      <td>0.0</td>\n",
       "      <td>0.833222</td>\n",
       "      <td>0.656575</td>\n",
       "      <td>0.765423</td>\n",
       "      <td>0.939329</td>\n",
       "      <td>0.555033</td>\n",
       "      <td>0.0</td>\n",
       "      <td>2.0</td>\n",
       "      <td>1.367788</td>\n",
       "    </tr>\n",
       "    <tr>\n",
       "      <th>3</th>\n",
       "      <td>0.452837</td>\n",
       "      <td>3</td>\n",
       "      <td>7245096000</td>\n",
       "      <td>0.0</td>\n",
       "      <td>0.412568</td>\n",
       "      <td>0.0</td>\n",
       "      <td>0.0</td>\n",
       "      <td>0</td>\n",
       "      <td>1</td>\n",
       "      <td>0.262712</td>\n",
       "      <td>...</td>\n",
       "      <td>0.0</td>\n",
       "      <td>0.0</td>\n",
       "      <td>0.834033</td>\n",
       "      <td>0.603831</td>\n",
       "      <td>0.783597</td>\n",
       "      <td>0.847073</td>\n",
       "      <td>0.545700</td>\n",
       "      <td>0.0</td>\n",
       "      <td>2.0</td>\n",
       "      <td>1.199099</td>\n",
       "    </tr>\n",
       "    <tr>\n",
       "      <th>4</th>\n",
       "      <td>0.527957</td>\n",
       "      <td>3</td>\n",
       "      <td>7245110400</td>\n",
       "      <td>0.0</td>\n",
       "      <td>0.412568</td>\n",
       "      <td>0.0</td>\n",
       "      <td>0.0</td>\n",
       "      <td>0</td>\n",
       "      <td>1</td>\n",
       "      <td>0.262712</td>\n",
       "      <td>...</td>\n",
       "      <td>0.0</td>\n",
       "      <td>0.0</td>\n",
       "      <td>0.834836</td>\n",
       "      <td>0.603831</td>\n",
       "      <td>0.794059</td>\n",
       "      <td>0.811583</td>\n",
       "      <td>0.539533</td>\n",
       "      <td>0.0</td>\n",
       "      <td>2.0</td>\n",
       "      <td>1.057596</td>\n",
       "    </tr>\n",
       "  </tbody>\n",
       "</table>\n",
       "<p>5 rows × 60 columns</p>\n",
       "</div>"
      ],
      "text/plain": [
       "       bloc  icustayid   charttime  gender       age  elixhauser  \\\n",
       "0  0.000000          3  7245052800     0.0  0.412568         0.0   \n",
       "1  0.222560          3  7245067200     0.0  0.412568         0.0   \n",
       "2  0.356608          3  7245081600     0.0  0.412568         0.0   \n",
       "3  0.452837          3  7245096000     0.0  0.412568         0.0   \n",
       "4  0.527957          3  7245110400     0.0  0.412568         0.0   \n",
       "\n",
       "   re_admission  died_in_hosp  mortality_90d  Weight_kg    ...     \\\n",
       "0           0.0             0              1   0.262712    ...      \n",
       "1           0.0             0              1   0.262712    ...      \n",
       "2           0.0             0              1   0.262712    ...      \n",
       "3           0.0             0              1   0.262712    ...      \n",
       "4           0.0             0              1   0.262712    ...      \n",
       "\n",
       "   median_dose_vaso  max_dose_vaso  input_total_tev  input_4hourly_tev  \\\n",
       "0               0.0            0.0         0.797351           0.939195   \n",
       "1               0.0            0.0         0.831780           0.934543   \n",
       "2               0.0            0.0         0.833222           0.656575   \n",
       "3               0.0            0.0         0.834033           0.603831   \n",
       "4               0.0            0.0         0.834836           0.603831   \n",
       "\n",
       "   output_total  output_4hourly  cumulated_balance_tev  vaso_input  iv_input  \\\n",
       "0      0.589916        0.750908               0.554500         0.0       4.0   \n",
       "1      0.674384        0.819589               0.580033         0.0       4.0   \n",
       "2      0.765423        0.939329               0.555033         0.0       2.0   \n",
       "3      0.783597        0.847073               0.545700         0.0       2.0   \n",
       "4      0.794059        0.811583               0.539533         0.0       2.0   \n",
       "\n",
       "     reward  \n",
       "0  0.125000  \n",
       "1  0.657321  \n",
       "2  1.367788  \n",
       "3  1.199099  \n",
       "4  1.057596  \n",
       "\n",
       "[5 rows x 60 columns]"
      ]
     },
     "execution_count": 7,
     "metadata": {},
     "output_type": "execute_result"
    }
   ],
   "source": [
    "df.head()"
   ]
  },
  {
   "cell_type": "code",
   "execution_count": 8,
   "metadata": {
    "collapsed": true
   },
   "outputs": [],
   "source": [
    "val_df = pd.read_csv('../data/rl_val_data_final_cont.csv')"
   ]
  },
  {
   "cell_type": "code",
   "execution_count": 9,
   "metadata": {
    "collapsed": true
   },
   "outputs": [],
   "source": [
    "test_df = pd.read_csv('../data/rl_test_data_final_cont.csv')"
   ]
  },
  {
   "cell_type": "code",
   "execution_count": 10,
   "metadata": {
    "collapsed": true
   },
   "outputs": [],
   "source": [
    "# # Here we load the actions for the policy we want to evaluate into the relevant dataframes\n",
    "# policy_train = pickle.load(open(policy_train_path, \"rb\" ))\n",
    "# policy_test = pickle.load(open(policy_test_path, \"rb\" ))\n",
    "# policy_val = pickle.load(open(policy_val_path, \"rb\" ))\n",
    "\n",
    "# df['policy'] = np.array(policy_train)\n",
    "# test_df['policy'] = np.array(policy_test)\n",
    "# val_df['policy'] = np.array(policy_val)\n",
    "\n",
    "\n",
    "save_dir = './MixNN_EM/'\n",
    "train_actions = np.load(save_dir + \"cond_lik_train_dr.npy\")\n",
    "val_actions = np.load(save_dir + \"cond_lik_val_dr.npy\")\n",
    "test_actions = np.load(save_dir + \"cond_lik_test_dr.npy\")\n",
    "\n",
    "mix_comp_eval = 3 # SET THIS ACCORDINGLY\n",
    "train_actions = [np.array(list(i)) for i in train_actions[:,:,mix_comp_eval]]\n",
    "val_actions = [np.array(list(i)) for i in val_actions[:,:,mix_comp_eval]]\n",
    "test_actions = [np.array(list(i)) for i in test_actions[:,:,mix_comp_eval]]\n",
    "\n",
    "df['policy'] = train_actions\n",
    "val_df['policy'] = val_actions\n",
    "test_df['policy'] = test_actions"
   ]
  },
  {
   "cell_type": "code",
   "execution_count": 11,
   "metadata": {
    "collapsed": true
   },
   "outputs": [],
   "source": [
    "fq_state_terms = copy.deepcopy(state_features)\n",
    "fq_state_terms.append('iv_input')\n",
    "fq_state_terms.append('vaso_input')"
   ]
  },
  {
   "cell_type": "code",
   "execution_count": 12,
   "metadata": {
    "collapsed": true
   },
   "outputs": [],
   "source": [
    "# define an action mapping - how to get an id representing the action from the (iv,vaso) tuple\n",
    "action_map = {}\n",
    "count = 0\n",
    "for iv in range(5):\n",
    "    for vaso in range(5):\n",
    "        action_map[(iv,vaso)] = count\n",
    "        count += 1"
   ]
  },
  {
   "cell_type": "code",
   "execution_count": 13,
   "metadata": {
    "collapsed": true
   },
   "outputs": [],
   "source": [
    "def get_exp_next_q(state, prob_actions, reg):\n",
    "    # state excludes the actions\n",
    "    target = 0.0\n",
    "    state = list(state)\n",
    "    state.append(0)\n",
    "    state.append(0)\n",
    "    state = np.array(state)\n",
    "    for iv in range(5):\n",
    "        for vaso in range(5):\n",
    "            index = action_map[(iv,vaso)]\n",
    "            # compute p(a')Q(s'a'))\n",
    "            state[-2] = iv\n",
    "            state[-1] = vaso\n",
    "            target += reg.predict(state.reshape(1,-1)) * prob_actions[index]\n",
    "    return target"
   ]
  },
  {
   "cell_type": "code",
   "execution_count": 14,
   "metadata": {
    "collapsed": true
   },
   "outputs": [],
   "source": [
    "gamma = 0.99\n",
    "def make_inp_op(df_in, reg):\n",
    "    # for each (s,a) in train set, compute target Q value for eval policy\n",
    "    X  = []\n",
    "    y = []\n",
    "    \n",
    "    df_local = df_in.copy()\n",
    "    \n",
    "    df_local = df_local.reset_index()\n",
    "    \n",
    "    for count, i in enumerate(df_local.index):\n",
    "        if count % 10000 == 0 and count > 0:\n",
    "            print \"make_inp_op, step %d\" % count\n",
    "        if i != df_local.index[-1]:\n",
    "            cur_x = df_local.loc[i, fq_state_terms]\n",
    "            if df_local.loc[i, 'icustayid']  == df_local.loc[i+1, 'icustayid']:\n",
    "                if reg is None:\n",
    "                    cur_y = df_local.loc[i, 'reward']\n",
    "                else:\n",
    "                    # compute r + gamma* expectation(Q(s',a'))\n",
    "                    next_state = df_in.loc[i+1, state_features]\n",
    "                    action_prob = df_in.loc[i+1, 'policy']\n",
    "                    exp_q = gamma * get_exp_next_q(next_state, action_prob,reg)\n",
    "                    cur_y = df_local.loc[i, 'reward'] + gamma * exp_q\n",
    "            else:\n",
    "                cur_y = df_local.loc[i, 'reward'] \n",
    "            X.append(cur_x)\n",
    "            y.append(cur_y)\n",
    "    return np.array(X), np.array(y)\n",
    "    \n",
    "    "
   ]
  },
  {
   "cell_type": "code",
   "execution_count": 92,
   "metadata": {},
   "outputs": [
    {
     "name": "stdout",
     "output_type": "stream",
     "text": [
      "make_inp_op, step 10000\n",
      "make_inp_op, step 20000\n",
      "make_inp_op, step 30000\n",
      "make_inp_op, step 40000\n",
      "make_inp_op, step 50000\n",
      "make_inp_op, step 60000\n",
      "make_inp_op, step 70000\n",
      "make_inp_op, step 80000\n",
      "make_inp_op, step 90000\n",
      "make_inp_op, step 100000\n",
      "make_inp_op, step 110000\n",
      "make_inp_op, step 120000\n",
      "make_inp_op, step 130000\n",
      "make_inp_op, step 140000\n",
      "make_inp_op, step 150000\n",
      "make_inp_op, step 160000\n",
      "make_inp_op, step 10000\n",
      "make_inp_op, step 20000\n",
      "Mean on val set is 7.479799, mse is 6.726965\n",
      "make_inp_op, step 10000\n",
      "make_inp_op, step 20000\n",
      "make_inp_op, step 30000\n",
      "make_inp_op, step 40000\n",
      "make_inp_op, step 50000\n",
      "make_inp_op, step 60000\n",
      "make_inp_op, step 70000\n",
      "make_inp_op, step 80000\n",
      "make_inp_op, step 90000\n",
      "make_inp_op, step 100000\n",
      "make_inp_op, step 110000\n",
      "make_inp_op, step 120000\n",
      "make_inp_op, step 130000\n",
      "make_inp_op, step 140000\n",
      "make_inp_op, step 150000\n",
      "make_inp_op, step 160000\n",
      "make_inp_op, step 10000\n",
      "make_inp_op, step 20000\n",
      "Mean on val set is 7.911850, mse is 6.632021\n",
      "make_inp_op, step 10000\n",
      "make_inp_op, step 20000\n",
      "make_inp_op, step 30000\n",
      "make_inp_op, step 40000\n",
      "make_inp_op, step 50000\n",
      "make_inp_op, step 60000\n",
      "make_inp_op, step 70000\n",
      "make_inp_op, step 80000\n",
      "make_inp_op, step 90000\n",
      "make_inp_op, step 100000\n",
      "make_inp_op, step 110000\n",
      "make_inp_op, step 120000\n",
      "make_inp_op, step 130000\n",
      "make_inp_op, step 140000\n",
      "make_inp_op, step 150000\n",
      "make_inp_op, step 160000\n",
      "make_inp_op, step 10000\n",
      "make_inp_op, step 20000\n",
      "Mean on val set is 8.222112, mse is 6.576942\n",
      "make_inp_op, step 10000\n",
      "make_inp_op, step 20000\n",
      "make_inp_op, step 30000\n",
      "make_inp_op, step 40000\n",
      "make_inp_op, step 50000\n",
      "make_inp_op, step 60000\n",
      "make_inp_op, step 70000\n",
      "make_inp_op, step 80000\n",
      "make_inp_op, step 90000\n",
      "make_inp_op, step 100000\n",
      "make_inp_op, step 110000\n",
      "make_inp_op, step 120000\n",
      "make_inp_op, step 130000\n",
      "make_inp_op, step 140000\n",
      "make_inp_op, step 150000\n",
      "make_inp_op, step 160000\n",
      "make_inp_op, step 10000\n",
      "make_inp_op, step 20000\n",
      "Mean on val set is 8.507413, mse is 6.536939\n",
      "make_inp_op, step 10000\n",
      "make_inp_op, step 20000\n",
      "make_inp_op, step 30000\n",
      "make_inp_op, step 40000\n",
      "make_inp_op, step 50000\n",
      "make_inp_op, step 60000\n",
      "make_inp_op, step 70000\n",
      "make_inp_op, step 80000\n",
      "make_inp_op, step 90000\n",
      "make_inp_op, step 100000\n",
      "make_inp_op, step 110000\n",
      "make_inp_op, step 120000\n",
      "make_inp_op, step 130000\n",
      "make_inp_op, step 140000\n",
      "make_inp_op, step 150000\n",
      "make_inp_op, step 160000\n",
      "make_inp_op, step 10000\n",
      "make_inp_op, step 20000\n",
      "Mean on val set is 8.682542, mse is 6.517547\n",
      "make_inp_op, step 10000\n",
      "make_inp_op, step 20000\n",
      "make_inp_op, step 30000\n",
      "make_inp_op, step 40000\n",
      "make_inp_op, step 50000\n",
      "make_inp_op, step 60000\n",
      "make_inp_op, step 70000\n",
      "make_inp_op, step 80000\n",
      "make_inp_op, step 90000\n",
      "make_inp_op, step 100000\n",
      "make_inp_op, step 110000\n",
      "make_inp_op, step 120000\n",
      "make_inp_op, step 130000\n",
      "make_inp_op, step 140000\n",
      "make_inp_op, step 150000\n",
      "make_inp_op, step 160000\n",
      "make_inp_op, step 10000\n",
      "make_inp_op, step 20000\n",
      "Mean on val set is 8.744570, mse is 6.517272\n",
      "make_inp_op, step 10000\n",
      "make_inp_op, step 20000\n",
      "make_inp_op, step 30000\n",
      "make_inp_op, step 40000\n",
      "make_inp_op, step 50000\n",
      "make_inp_op, step 60000\n",
      "make_inp_op, step 70000\n",
      "make_inp_op, step 80000\n",
      "make_inp_op, step 90000\n",
      "make_inp_op, step 100000\n",
      "make_inp_op, step 110000\n",
      "make_inp_op, step 120000\n",
      "make_inp_op, step 130000\n",
      "make_inp_op, step 140000\n",
      "make_inp_op, step 150000\n",
      "make_inp_op, step 160000\n",
      "make_inp_op, step 10000\n",
      "make_inp_op, step 20000\n",
      "Mean on val set is 8.694359, mse is 6.539231\n",
      "make_inp_op, step 10000\n",
      "make_inp_op, step 20000\n",
      "make_inp_op, step 30000\n",
      "make_inp_op, step 40000\n",
      "make_inp_op, step 50000\n",
      "make_inp_op, step 60000\n",
      "make_inp_op, step 70000\n",
      "make_inp_op, step 80000\n",
      "make_inp_op, step 90000\n",
      "make_inp_op, step 100000\n",
      "make_inp_op, step 110000\n",
      "make_inp_op, step 120000\n",
      "make_inp_op, step 130000\n",
      "make_inp_op, step 140000\n",
      "make_inp_op, step 150000\n",
      "make_inp_op, step 160000\n",
      "make_inp_op, step 10000\n",
      "make_inp_op, step 20000\n",
      "Mean on val set is 8.892933, mse is 6.517909\n",
      "make_inp_op, step 10000\n",
      "make_inp_op, step 20000\n",
      "make_inp_op, step 30000\n",
      "make_inp_op, step 40000\n",
      "make_inp_op, step 50000\n",
      "make_inp_op, step 60000\n",
      "make_inp_op, step 70000\n",
      "make_inp_op, step 80000\n",
      "make_inp_op, step 90000\n",
      "make_inp_op, step 100000\n",
      "make_inp_op, step 110000\n",
      "make_inp_op, step 120000\n",
      "make_inp_op, step 130000\n",
      "make_inp_op, step 140000\n",
      "make_inp_op, step 150000\n",
      "make_inp_op, step 160000\n",
      "make_inp_op, step 10000\n",
      "make_inp_op, step 20000\n",
      "Mean on val set is 8.945285, mse is 6.514419\n",
      "make_inp_op, step 10000\n",
      "make_inp_op, step 20000\n",
      "make_inp_op, step 30000\n",
      "make_inp_op, step 40000\n",
      "make_inp_op, step 50000\n",
      "make_inp_op, step 60000\n",
      "make_inp_op, step 70000\n",
      "make_inp_op, step 80000\n",
      "make_inp_op, step 90000\n",
      "make_inp_op, step 100000\n",
      "make_inp_op, step 110000\n",
      "make_inp_op, step 120000\n",
      "make_inp_op, step 130000\n",
      "make_inp_op, step 140000\n",
      "make_inp_op, step 150000\n",
      "make_inp_op, step 160000\n",
      "make_inp_op, step 10000\n",
      "make_inp_op, step 20000\n",
      "Mean on val set is 8.983824, mse is 6.508855\n"
     ]
    }
   ],
   "source": [
    "# fitted q iteration\n",
    "# tmp_df = df.iloc[:100]\n",
    "from sklearn.linear_model import SGDRegressor\n",
    "\n",
    "# make the initial training inp and op\n",
    "# reg = None\n",
    "\n",
    "num_iters = 10\n",
    "\n",
    "for i in range(num_iters):\n",
    "    if reg is None:\n",
    "        train_X, train_y = make_inp_op(df, None)\n",
    "    else:\n",
    "        train_X, train_y = make_inp_op(df, reg)\n",
    "    # create new reg object, and then call fit on train_X and train_y\n",
    "    reg = SGDRegressor(n_iter=100)\n",
    "    reg.fit(train_X, train_y)\n",
    "\n",
    "    val_X, val_y = make_inp_op(val_df, reg)\n",
    "    pred = reg.predict(val_X)\n",
    "    mean_error = np.mean((pred - val_y)**2)\n",
    "    print \"Mean on val set is %f, mse is %f\" % (np.mean(pred),mean_error)\n",
    "    \n"
   ]
  },
  {
   "cell_type": "code",
   "execution_count": null,
   "metadata": {
    "collapsed": true
   },
   "outputs": [],
   "source": [
    "%matplotlib inline\n",
    "np.mean(reg.predict(train_X))"
   ]
  },
  {
   "cell_type": "code",
   "execution_count": 87,
   "metadata": {},
   "outputs": [
    {
     "name": "stdout",
     "output_type": "stream",
     "text": [
      "make_inp_op, step 10000\n",
      "make_inp_op, step 20000\n"
     ]
    }
   ],
   "source": [
    "val_X, val_y = make_inp_op(val_df, None)"
   ]
  },
  {
   "cell_type": "code",
   "execution_count": 84,
   "metadata": {},
   "outputs": [
    {
     "data": {
      "text/plain": [
       "7.1539674240623903"
      ]
     },
     "execution_count": 84,
     "metadata": {},
     "output_type": "execute_result"
    }
   ],
   "source": [
    "np.mean(reg.predict(val_X))"
   ]
  },
  {
   "cell_type": "code",
   "execution_count": null,
   "metadata": {
    "collapsed": true
   },
   "outputs": [],
   "source": [
    "from sklearn.externals import joblib\n",
    "joblib.dump(reg, 'lr_model.pkl')"
   ]
  },
  {
   "cell_type": "code",
   "execution_count": null,
   "metadata": {
    "collapsed": true
   },
   "outputs": [],
   "source": [
    "# LOAD STUFF HERE SEPARATELY"
   ]
  },
  {
   "cell_type": "code",
   "execution_count": 22,
   "metadata": {
    "collapsed": true
   },
   "outputs": [],
   "source": [
    "def final_pred(df_in, reg):\n",
    "    # for each (s,a) in set, compute Q value under target policy\n",
    "    Q = []\n",
    "    \n",
    "    df_local = df_in.copy()\n",
    "    \n",
    "    df_local = df_local.reset_index()\n",
    "    \n",
    "    for count, i in enumerate(df_local.index):\n",
    "        if count % 10000 == 0 and count > 0:\n",
    "            print \"final_pred, step %d\" % count\n",
    "        if i != df_local.index[-1]:\n",
    "            cur_x = df_local.loc[i, fq_state_terms]\n",
    "            if df_local.loc[i, 'icustayid']  == df_local.loc[i+1, 'icustayid']:\n",
    "                cur_q = reg.predict(cur_x.reshape(1,-1))\n",
    "            else:\n",
    "                cur_q = df_local.loc[i, 'reward'] \n",
    "            Q.append(cur_q)\n",
    "        else:\n",
    "            Q.append(df_local.loc[i, 'reward'] )\n",
    "    return np.array(Q)\n",
    "    \n",
    "        "
   ]
  },
  {
   "cell_type": "code",
   "execution_count": 23,
   "metadata": {
    "collapsed": true
   },
   "outputs": [],
   "source": [
    "reg = joblib.load('lr_model.pkl')"
   ]
  },
  {
   "cell_type": "code",
   "execution_count": 24,
   "metadata": {},
   "outputs": [
    {
     "name": "stderr",
     "output_type": "stream",
     "text": [
      "/usr/local/lib/python2.7/dist-packages/ipykernel_launcher.py:15: FutureWarning: reshape is deprecated and will raise in a subsequent release. Please use .values.reshape(...) instead\n",
      "  from ipykernel import kernelapp as app\n"
     ]
    },
    {
     "name": "stdout",
     "output_type": "stream",
     "text": [
      "final_pred, step 10000\n",
      "final_pred, step 20000\n",
      "final_pred, step 10000\n",
      "final_pred, step 20000\n",
      "final_pred, step 30000\n",
      "final_pred, step 40000\n"
     ]
    }
   ],
   "source": [
    "# predict Q on all the train, test, val sets\n",
    "val_q = final_pred(val_df, reg)\n",
    "test_q = final_pred(test_df, reg)"
   ]
  },
  {
   "cell_type": "code",
   "execution_count": 26,
   "metadata": {
    "collapsed": true
   },
   "outputs": [],
   "source": [
    "np.save('val_q_learned_policy.npy', val_q)\n",
    "np.save('test_q_learned_policy.npy', test_q)"
   ]
  },
  {
   "cell_type": "code",
   "execution_count": null,
   "metadata": {
    "collapsed": true
   },
   "outputs": [],
   "source": []
  }
 ],
 "metadata": {
  "kernelspec": {
   "display_name": "Python 2",
   "language": "python",
   "name": "python2"
  },
  "language_info": {
   "codemirror_mode": {
    "name": "ipython",
    "version": 2
   },
   "file_extension": ".py",
   "mimetype": "text/x-python",
   "name": "python",
   "nbconvert_exporter": "python",
   "pygments_lexer": "ipython2",
   "version": "2.7.6"
  }
 },
 "nbformat": 4,
 "nbformat_minor": 2
}
