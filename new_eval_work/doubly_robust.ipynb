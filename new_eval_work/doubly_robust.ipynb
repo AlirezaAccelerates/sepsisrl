{
 "cells": [
  {
   "cell_type": "code",
   "execution_count": 1,
   "metadata": {
    "collapsed": true
   },
   "outputs": [],
   "source": [
    "# Implements the Doubly robust value estimator for the learned policies"
   ]
  },
  {
   "cell_type": "code",
   "execution_count": 2,
   "metadata": {
    "collapsed": true
   },
   "outputs": [],
   "source": [
    "import pandas as pd\n",
    "import numpy as np\n",
    "import cPickle as pickle"
   ]
  },
  {
   "cell_type": "code",
   "execution_count": 3,
   "metadata": {
    "scrolled": true
   },
   "outputs": [
    {
     "data": {
      "text/html": [
       "<div>\n",
       "<style>\n",
       "    .dataframe thead tr:only-child th {\n",
       "        text-align: right;\n",
       "    }\n",
       "\n",
       "    .dataframe thead th {\n",
       "        text-align: left;\n",
       "    }\n",
       "\n",
       "    .dataframe tbody tr th {\n",
       "        vertical-align: top;\n",
       "    }\n",
       "</style>\n",
       "<table border=\"1\" class=\"dataframe\">\n",
       "  <thead>\n",
       "    <tr style=\"text-align: right;\">\n",
       "      <th></th>\n",
       "      <th>bloc</th>\n",
       "      <th>icustayid</th>\n",
       "      <th>charttime</th>\n",
       "      <th>gender</th>\n",
       "      <th>age</th>\n",
       "      <th>elixhauser</th>\n",
       "      <th>re_admission</th>\n",
       "      <th>died_in_hosp</th>\n",
       "      <th>mortality_90d</th>\n",
       "      <th>Weight_kg</th>\n",
       "      <th>...</th>\n",
       "      <th>median_dose_vaso</th>\n",
       "      <th>max_dose_vaso</th>\n",
       "      <th>input_total_tev</th>\n",
       "      <th>input_4hourly_tev</th>\n",
       "      <th>output_total</th>\n",
       "      <th>output_4hourly</th>\n",
       "      <th>cumulated_balance_tev</th>\n",
       "      <th>vaso_input</th>\n",
       "      <th>iv_input</th>\n",
       "      <th>reward</th>\n",
       "    </tr>\n",
       "  </thead>\n",
       "  <tbody>\n",
       "    <tr>\n",
       "      <th>0</th>\n",
       "      <td>0.000000</td>\n",
       "      <td>3</td>\n",
       "      <td>7245052800</td>\n",
       "      <td>0.0</td>\n",
       "      <td>0.412568</td>\n",
       "      <td>0.0</td>\n",
       "      <td>0.0</td>\n",
       "      <td>0</td>\n",
       "      <td>1</td>\n",
       "      <td>0.262712</td>\n",
       "      <td>...</td>\n",
       "      <td>0.0</td>\n",
       "      <td>0.0</td>\n",
       "      <td>0.797351</td>\n",
       "      <td>0.939195</td>\n",
       "      <td>0.589916</td>\n",
       "      <td>0.750908</td>\n",
       "      <td>0.554500</td>\n",
       "      <td>0.0</td>\n",
       "      <td>4.0</td>\n",
       "      <td>0.125000</td>\n",
       "    </tr>\n",
       "    <tr>\n",
       "      <th>1</th>\n",
       "      <td>0.222560</td>\n",
       "      <td>3</td>\n",
       "      <td>7245067200</td>\n",
       "      <td>0.0</td>\n",
       "      <td>0.412568</td>\n",
       "      <td>0.0</td>\n",
       "      <td>0.0</td>\n",
       "      <td>0</td>\n",
       "      <td>1</td>\n",
       "      <td>0.262712</td>\n",
       "      <td>...</td>\n",
       "      <td>0.0</td>\n",
       "      <td>0.0</td>\n",
       "      <td>0.831780</td>\n",
       "      <td>0.934543</td>\n",
       "      <td>0.674384</td>\n",
       "      <td>0.819589</td>\n",
       "      <td>0.580033</td>\n",
       "      <td>0.0</td>\n",
       "      <td>4.0</td>\n",
       "      <td>0.657321</td>\n",
       "    </tr>\n",
       "    <tr>\n",
       "      <th>2</th>\n",
       "      <td>0.356608</td>\n",
       "      <td>3</td>\n",
       "      <td>7245081600</td>\n",
       "      <td>0.0</td>\n",
       "      <td>0.412568</td>\n",
       "      <td>0.0</td>\n",
       "      <td>0.0</td>\n",
       "      <td>0</td>\n",
       "      <td>1</td>\n",
       "      <td>0.262712</td>\n",
       "      <td>...</td>\n",
       "      <td>0.0</td>\n",
       "      <td>0.0</td>\n",
       "      <td>0.833222</td>\n",
       "      <td>0.656575</td>\n",
       "      <td>0.765423</td>\n",
       "      <td>0.939329</td>\n",
       "      <td>0.555033</td>\n",
       "      <td>0.0</td>\n",
       "      <td>2.0</td>\n",
       "      <td>1.367788</td>\n",
       "    </tr>\n",
       "    <tr>\n",
       "      <th>3</th>\n",
       "      <td>0.452837</td>\n",
       "      <td>3</td>\n",
       "      <td>7245096000</td>\n",
       "      <td>0.0</td>\n",
       "      <td>0.412568</td>\n",
       "      <td>0.0</td>\n",
       "      <td>0.0</td>\n",
       "      <td>0</td>\n",
       "      <td>1</td>\n",
       "      <td>0.262712</td>\n",
       "      <td>...</td>\n",
       "      <td>0.0</td>\n",
       "      <td>0.0</td>\n",
       "      <td>0.834033</td>\n",
       "      <td>0.603831</td>\n",
       "      <td>0.783597</td>\n",
       "      <td>0.847073</td>\n",
       "      <td>0.545700</td>\n",
       "      <td>0.0</td>\n",
       "      <td>2.0</td>\n",
       "      <td>1.199099</td>\n",
       "    </tr>\n",
       "    <tr>\n",
       "      <th>4</th>\n",
       "      <td>0.527957</td>\n",
       "      <td>3</td>\n",
       "      <td>7245110400</td>\n",
       "      <td>0.0</td>\n",
       "      <td>0.412568</td>\n",
       "      <td>0.0</td>\n",
       "      <td>0.0</td>\n",
       "      <td>0</td>\n",
       "      <td>1</td>\n",
       "      <td>0.262712</td>\n",
       "      <td>...</td>\n",
       "      <td>0.0</td>\n",
       "      <td>0.0</td>\n",
       "      <td>0.834836</td>\n",
       "      <td>0.603831</td>\n",
       "      <td>0.794059</td>\n",
       "      <td>0.811583</td>\n",
       "      <td>0.539533</td>\n",
       "      <td>0.0</td>\n",
       "      <td>2.0</td>\n",
       "      <td>1.057596</td>\n",
       "    </tr>\n",
       "  </tbody>\n",
       "</table>\n",
       "<p>5 rows × 60 columns</p>\n",
       "</div>"
      ],
      "text/plain": [
       "       bloc  icustayid   charttime  gender       age  elixhauser  \\\n",
       "0  0.000000          3  7245052800     0.0  0.412568         0.0   \n",
       "1  0.222560          3  7245067200     0.0  0.412568         0.0   \n",
       "2  0.356608          3  7245081600     0.0  0.412568         0.0   \n",
       "3  0.452837          3  7245096000     0.0  0.412568         0.0   \n",
       "4  0.527957          3  7245110400     0.0  0.412568         0.0   \n",
       "\n",
       "   re_admission  died_in_hosp  mortality_90d  Weight_kg    ...     \\\n",
       "0           0.0             0              1   0.262712    ...      \n",
       "1           0.0             0              1   0.262712    ...      \n",
       "2           0.0             0              1   0.262712    ...      \n",
       "3           0.0             0              1   0.262712    ...      \n",
       "4           0.0             0              1   0.262712    ...      \n",
       "\n",
       "   median_dose_vaso  max_dose_vaso  input_total_tev  input_4hourly_tev  \\\n",
       "0               0.0            0.0         0.797351           0.939195   \n",
       "1               0.0            0.0         0.831780           0.934543   \n",
       "2               0.0            0.0         0.833222           0.656575   \n",
       "3               0.0            0.0         0.834033           0.603831   \n",
       "4               0.0            0.0         0.834836           0.603831   \n",
       "\n",
       "   output_total  output_4hourly  cumulated_balance_tev  vaso_input  iv_input  \\\n",
       "0      0.589916        0.750908               0.554500         0.0       4.0   \n",
       "1      0.674384        0.819589               0.580033         0.0       4.0   \n",
       "2      0.765423        0.939329               0.555033         0.0       2.0   \n",
       "3      0.783597        0.847073               0.545700         0.0       2.0   \n",
       "4      0.794059        0.811583               0.539533         0.0       2.0   \n",
       "\n",
       "     reward  \n",
       "0  0.125000  \n",
       "1  0.657321  \n",
       "2  1.367788  \n",
       "3  1.199099  \n",
       "4  1.057596  \n",
       "\n",
       "[5 rows x 60 columns]"
      ]
     },
     "execution_count": 3,
     "metadata": {},
     "output_type": "execute_result"
    }
   ],
   "source": [
    "df_train = pd.read_csv('../data/rl_train_data_final_cont.csv')\n",
    "df_train.head()"
   ]
  },
  {
   "cell_type": "code",
   "execution_count": 4,
   "metadata": {
    "collapsed": true
   },
   "outputs": [],
   "source": [
    "df_val = pd.read_csv('../data/rl_val_data_final_cont.csv')"
   ]
  },
  {
   "cell_type": "code",
   "execution_count": 5,
   "metadata": {
    "collapsed": true
   },
   "outputs": [],
   "source": [
    "df_test = pd.read_csv('../data/rl_test_data_final_cont.csv')"
   ]
  },
  {
   "cell_type": "code",
   "execution_count": 6,
   "metadata": {
    "collapsed": true
   },
   "outputs": [],
   "source": [
    "test_actions = (5*df_test['iv_input'].values + df_test['vaso_input']).values.astype(int)"
   ]
  },
  {
   "cell_type": "code",
   "execution_count": 7,
   "metadata": {
    "collapsed": true
   },
   "outputs": [],
   "source": [
    "phys_policy_val = np.load('./MixNN_EM/marginal_lik_val_dr.npy')\n",
    "phys_policy_test = np.load('./MixNN_EM/marginal_lik_test_dr.npy')"
   ]
  },
  {
   "cell_type": "code",
   "execution_count": 8,
   "metadata": {
    "collapsed": true
   },
   "outputs": [],
   "source": [
    "# # load in the policies for the physician on val and test sets\n",
    "# phys_policy_val = pickle.load(open(\"val_policy.p\", \"rb\" ))\n",
    "# phys_policy_test = pickle.load(open(\"test_policy.p\", \"rb\" ))"
   ]
  },
  {
   "cell_type": "code",
   "execution_count": 9,
   "metadata": {
    "collapsed": true
   },
   "outputs": [],
   "source": [
    "# get the indices for indexing into the policy matrix. \n",
    "indices = test_actions\n",
    "phys_action_probs = phys_policy_test[range(len(phys_policy_test)),indices]"
   ]
  },
  {
   "cell_type": "code",
   "execution_count": 10,
   "metadata": {
    "collapsed": true
   },
   "outputs": [],
   "source": [
    "# Two cells below - load the actions and q values associated with the agent policy - these are outputted by the\n",
    "# neural network used to learn the optimal policy and eval_policy respectively."
   ]
  },
  {
   "cell_type": "code",
   "execution_count": 11,
   "metadata": {
    "collapsed": true
   },
   "outputs": [],
   "source": [
    "agent_actions = np.load('MixNN_EM/cond_lik_test_dr.npy')[:,:,3]\n",
    "agent_q = np.load('./test_q_learned_policy.npy')"
   ]
  },
  {
   "cell_type": "code",
   "execution_count": 12,
   "metadata": {
    "collapsed": true
   },
   "outputs": [],
   "source": [
    "agent_reward_estimates = np.load('./test_rewards.npy')"
   ]
  },
  {
   "cell_type": "code",
   "execution_count": 13,
   "metadata": {
    "collapsed": true
   },
   "outputs": [],
   "source": [
    "# agent_actions = pickle.load(open('../continuous/dqn_normal/dqn_normal_actions_test.p', \"rb\" ))"
   ]
  },
  {
   "cell_type": "code",
   "execution_count": 14,
   "metadata": {
    "collapsed": true
   },
   "outputs": [],
   "source": [
    "# agent_q = pickle.load(open('../continuous/dqn_normal/dqn_normal_q_test.p', \"rb\" ))"
   ]
  },
  {
   "cell_type": "code",
   "execution_count": 15,
   "metadata": {
    "collapsed": true
   },
   "outputs": [],
   "source": [
    "# agent_reward_estimates = pickle.load(open('./test_rewards.p', \"rb\" ))\n",
    "# agent_reward_estimates = agent_q"
   ]
  },
  {
   "cell_type": "code",
   "execution_count": 16,
   "metadata": {
    "collapsed": true
   },
   "outputs": [],
   "source": [
    "# add the actions and q values associated with agent performance on the test set to the dataframe"
   ]
  },
  {
   "cell_type": "code",
   "execution_count": 17,
   "metadata": {
    "collapsed": true
   },
   "outputs": [],
   "source": [
    "agent_actions_list = []\n",
    "for i in agent_actions:\n",
    "    agent_actions_list.append(list(i))"
   ]
  },
  {
   "cell_type": "code",
   "execution_count": 18,
   "metadata": {
    "collapsed": true
   },
   "outputs": [],
   "source": [
    "df_test['agent_action'] = agent_actions_list"
   ]
  },
  {
   "cell_type": "code",
   "execution_count": 19,
   "metadata": {
    "collapsed": true
   },
   "outputs": [],
   "source": [
    "df_test['agent_q'] = np.array(agent_q)"
   ]
  },
  {
   "cell_type": "code",
   "execution_count": 20,
   "metadata": {
    "collapsed": true,
    "scrolled": true
   },
   "outputs": [],
   "source": [
    "df_test['phys_prob'] = phys_action_probs"
   ]
  },
  {
   "cell_type": "code",
   "execution_count": 21,
   "metadata": {
    "collapsed": true
   },
   "outputs": [],
   "source": [
    "df_test['reward_estimate'] = agent_reward_estimates"
   ]
  },
  {
   "cell_type": "code",
   "execution_count": 22,
   "metadata": {
    "collapsed": true
   },
   "outputs": [],
   "source": [
    "action_map = {}\n",
    "count = 0\n",
    "for iv in range(5):\n",
    "    for vaso in range(5):\n",
    "        action_map[(iv,vaso)] = count\n",
    "        count += 1"
   ]
  },
  {
   "cell_type": "code",
   "execution_count": 23,
   "metadata": {
    "collapsed": true
   },
   "outputs": [],
   "source": [
    "unique_ids = df_test['icustayid'].unique()"
   ]
  },
  {
   "cell_type": "code",
   "execution_count": 24,
   "metadata": {},
   "outputs": [
    {
     "name": "stdout",
     "output_type": "stream",
     "text": [
      "0.936057501673\n"
     ]
    }
   ],
   "source": [
    "print np.mean (df_test['reward_estimate'])"
   ]
  },
  {
   "cell_type": "code",
   "execution_count": 46,
   "metadata": {
    "collapsed": true
   },
   "outputs": [],
   "source": [
    "def val_estimate_recurse(traj,t):\n",
    "#     print \"Val estimate recurse, t is \", t\n",
    "    ind = traj.index[t-1]\n",
    "    reward_estimate = df_test.loc[ind,'reward_estimate']\n",
    "#     state = df_test.loc[ind,'state']\n",
    "\n",
    "    iv = df_test.loc[ind,'iv_input']\n",
    "    vaso = df_test.loc[ind, 'vaso_input']\n",
    "    phys_action = action_map[(iv,vaso)]\n",
    "    phys_prob = df_test.loc[ind,'phys_prob']\n",
    "\n",
    "    agent_action_arr = traj.loc[ind,'agent_action']\n",
    "    \n",
    "    agent_action_prob = agent_action_arr[phys_action]\n",
    "\n",
    "    agent_val = traj.loc[ind, 'agent_q']\n",
    "\n",
    "    reward = traj.loc[ind, 'reward']\n",
    "    \n",
    "    # calculate rho - the importance sampling factor    \n",
    "#     TODO Consider making this stochastic?\n",
    "#     if agent_action == phys_action:\n",
    "#         rho = 1.0/phys_prob\n",
    "#     else:\n",
    "#         rho = 0\n",
    "\n",
    "    rho = agent_action_prob / phys_prob\n",
    "#     print \"Val estimate recurse, rho is \", rho\n",
    "        \n",
    "    if t == len(traj):\n",
    "        val_estimate = 0\n",
    "    else:\n",
    "        val_estimate = val_estimate_recurse(traj, t+1)\n",
    "    \n",
    "    print \"%d, vhat %f, rho %f, r_t %f, Vdr_recurse %f, Qhat %f,  \" \\\n",
    "                % (t, reward_estimate, rho, reward, val_estimate, agent_val)\n",
    "    \n",
    "    return reward_estimate + rho*(reward + gamma*val_estimate - agent_val)"
   ]
  },
  {
   "cell_type": "code",
   "execution_count": 47,
   "metadata": {
    "scrolled": false
   },
   "outputs": [
    {
     "name": "stdout",
     "output_type": "stream",
     "text": [
      "20, vhat 15.000000, rho 0.803365, r_t -15.000000, Vdr_recurse 0.000000, Qhat 9.325145,  \n",
      "19, vhat 0.319617, rho 0.824330, r_t -0.180243, Vdr_recurse -4.541980, Qhat 9.037074,  \n",
      "18, vhat 0.109540, rho 0.463215, r_t -0.180243, Vdr_recurse -10.985149, Qhat 8.981619,  \n",
      "17, vhat -0.125644, rho 1.097161, r_t -0.180243, Vdr_recurse -9.171970, Qhat 7.953019,  \n",
      "16, vhat -0.032005, rho 1.193819, r_t -0.180243, Vdr_recurse -19.011633, Qhat 8.960926,  \n",
      "15, vhat -0.193336, rho 1.191798, r_t -0.180243, Vdr_recurse -33.414402, Qhat 9.008886,  \n",
      "14, vhat -0.274036, rho 1.174775, r_t -0.030243, Vdr_recurse -50.569911, Qhat 8.934745,  \n",
      "13, vhat -0.539527, rho 1.152378, r_t -0.180243, Vdr_recurse -69.620036, Qhat 8.497308,  \n",
      "12, vhat -0.672419, rho 1.122692, r_t -0.180243, Vdr_recurse -89.965673, Qhat 8.168642,  \n",
      "11, vhat -0.627089, rho 0.658548, r_t -0.025000, Vdr_recurse -110.039313, Qhat 8.018982,  \n",
      "10, vhat -0.380378, rho 0.304866, r_t 0.172770, Vdr_recurse -77.665931, Qhat 8.398691,  \n",
      "9, vhat -0.227617, rho 0.893734, r_t 0.922770, Vdr_recurse -26.329067, Qhat 6.957305,  \n",
      "8, vhat -0.191386, rho 1.059712, r_t -0.025000, Vdr_recurse -28.916769, Qhat 6.066947,  \n",
      "7, vhat -0.246836, rho 1.099077, r_t -0.025000, Vdr_recurse -36.984097, Qhat 5.921501,  \n",
      "6, vhat -0.337259, rho 3.053235, r_t -0.375000, Vdr_recurse -47.024390, Qhat 7.631712,  \n",
      "5, vhat -0.065330, rho 1.225437, r_t -0.625000, Vdr_recurse -166.924395, Qhat 10.110402,  \n",
      "4, vhat -0.129151, rho 1.235359, r_t -0.025000, Vdr_recurse -215.730611, Qhat 10.217193,  \n",
      "3, vhat -0.094828, rho 1.243503, r_t -0.025000, Vdr_recurse -276.621737, Qhat 10.581533,  \n",
      "2, vhat -0.159828, rho 1.312774, r_t -0.025000, Vdr_recurse -353.824135, Qhat 10.861607,  \n",
      "1, vhat -0.387118, rho 1.913554, r_t -0.025000, Vdr_recurse -474.297676, Qhat 10.602444,  \n",
      "13, vhat 15.000000, rho 1.168238, r_t 15.000000, Vdr_recurse 0.000000, Qhat 9.704797,  \n",
      "12, vhat -0.402289, rho 1.150964, r_t -0.035000, Vdr_recurse 21.186058, Qhat 9.941319,  \n",
      "11, vhat -0.419781, rho 1.183414, r_t -0.035000, Vdr_recurse 12.255872, Qhat 9.775184,  \n",
      "10, vhat -0.512737, rho 1.204801, r_t -0.035000, Vdr_recurse 2.329442, Qhat 10.055675,  \n",
      "9, vhat -0.644864, rho 1.157802, r_t -0.035000, Vdr_recurse -9.891547, Qhat 10.354412,  \n",
      "8, vhat -0.649330, rho 1.149327, r_t -0.135000, Vdr_recurse -24.011669, Qhat 11.042877,  \n",
      "7, vhat -0.679438, rho 1.137448, r_t -0.035000, Vdr_recurse -40.817662, Qhat 11.001701,  \n",
      "6, vhat -0.713474, rho 1.178167, r_t -0.035000, Vdr_recurse -59.196821, Qhat 11.249514,  \n",
      "5, vhat -0.809066, rho 1.161180, r_t -0.035000, Vdr_recurse -83.054795, Qhat 11.375815,  \n",
      "4, vhat -0.953502, rho 1.196674, r_t -0.035000, Vdr_recurse -109.536196, Qhat 11.630570,  \n",
      "3, vhat -0.864729, rho 1.152629, r_t 0.115000, Vdr_recurse -144.681725, Qhat 11.598364,  \n",
      "2, vhat -0.908256, rho 1.197304, r_t -0.035000, Vdr_recurse -179.197498, Qhat 11.881679,  \n",
      "1, vhat -1.186363, rho 3.388384, r_t 0.490000, Vdr_recurse -227.584421, Qhat 11.684127,  \n",
      "12, vhat 15.000000, rho 1.953184, r_t 15.000000, Vdr_recurse 0.000000, Qhat 10.304346,  \n",
      "11, vhat 1.461685, rho 1.354825, r_t -0.196010, Vdr_recurse 24.171478, Qhat 10.103588,  \n",
      "10, vhat 1.447716, rho 1.743674, r_t -0.196010, Vdr_recurse 19.928181, Qhat 10.367774,  \n",
      "9, vhat 1.409543, rho 2.863188, r_t -0.196010, Vdr_recurse 17.428688, Qhat 10.133235,  \n",
      "8, vhat 1.333939, rho 1.274454, r_t -0.196010, Vdr_recurse 21.237565, Qhat 9.614815,  \n",
      "7, vhat 1.230289, rho 0.845339, r_t -0.196010, Vdr_recurse 15.626129, Qhat 9.990489,  \n",
      "6, vhat 1.202035, rho 1.962964, r_t -0.046010, Vdr_recurse 5.696524, Qhat 10.209837,  \n",
      "5, vhat 1.027113, rho 0.697910, r_t -0.196010, Vdr_recurse -7.859571, Qhat 10.410411,  \n",
      "4, vhat 1.364438, rho 0.479354, r_t -0.046010, Vdr_recurse -11.805643, Qhat 10.181106,  \n",
      "3, vhat 1.262336, rho 0.801687, r_t -0.196010, Vdr_recurse -9.140462, Qhat 10.153496,  \n",
      "2, vhat 0.915551, rho 0.770795, r_t -0.196010, Vdr_recurse -14.289247, Qhat 10.127326,  \n",
      "1, vhat 0.694232, rho 0.854358, r_t -0.196010, Vdr_recurse -17.945575, Qhat 10.441042,  \n",
      "13, vhat -15.000000, rho 0.002040, r_t -15.000000, Vdr_recurse 0.000000, Qhat -1.807480,  \n",
      "12, vhat 0.939774, rho 2.480109, r_t 1.853925, Vdr_recurse -15.026916, Qhat 1.301061,  \n",
      "11, vhat 1.084577, rho 0.846306, r_t 0.000000, Vdr_recurse -34.584772, Qhat 1.495072,  \n",
      "10, vhat 1.123332, rho 0.870198, r_t -1.993551, Vdr_recurse -29.157326, Qhat 2.977462,  \n",
      "9, vhat 1.137477, rho 0.869823, r_t -1.716000, Vdr_recurse -28.321341, Qhat 3.674113,  \n",
      "8, vhat 1.251864, rho 0.844025, r_t 0.500000, Vdr_recurse -27.939184, Qhat 2.658021,  \n",
      "7, vhat 1.003022, rho 0.857678, r_t -0.538237, Vdr_recurse -23.915130, Qhat 2.485518,  \n",
      "6, vhat 0.782065, rho 0.839048, r_t -0.191282, Vdr_recurse -21.896747, Qhat 3.407612,  \n",
      "5, vhat 1.264300, rho 0.858416, r_t 0.809643, Vdr_recurse -20.426285, Qhat 3.475159,  \n",
      "4, vhat 1.351567, rho 0.778471, r_t 0.657587, Vdr_recurse -18.382732, Qhat 3.278292,  \n",
      "3, vhat 1.360910, rho 0.881006, r_t -0.025083, Vdr_recurse -14.855896, Qhat 3.186143,  \n",
      "2, vhat 1.337762, rho 1.281671, r_t 0.074917, Vdr_recurse -14.425458, Qhat 3.504376,  \n",
      "1, vhat 1.219180, rho 1.795193, r_t -0.025000, Vdr_recurse -21.361476, Qhat 3.009936,  \n",
      "15, vhat 15.000000, rho 1.611035, r_t -15.000000, Vdr_recurse 0.000000, Qhat 5.571849,  \n",
      "14, vhat -0.371451, rho 0.541942, r_t -0.797088, Vdr_recurse -18.141966, Qhat 5.784446,  \n",
      "13, vhat -0.906784, rho 0.415270, r_t -0.797088, Vdr_recurse -13.671823, Qhat 6.209370,  \n",
      "12, vhat -0.742027, rho 0.323993, r_t 0.500000, Vdr_recurse -9.437073, Qhat 5.160945,  \n",
      "11, vhat -0.851135, rho 0.116029, r_t 0.474056, Vdr_recurse -5.279106, Qhat 4.867949,  \n",
      "10, vhat -0.880408, rho 0.059184, r_t 0.345666, Vdr_recurse -1.967354, Qhat 4.665560,  \n",
      "9, vhat -1.158881, rho 0.816121, r_t -1.600850, Vdr_recurse -1.251349, Qhat 6.213570,  \n",
      "8, vhat -1.039286, rho 0.794119, r_t -0.508136, Vdr_recurse -8.547433, Qhat 7.287729,  \n",
      "7, vhat -0.863284, rho 0.750272, r_t 0.117615, Vdr_recurse -13.949932, Qhat 7.486955,  \n",
      "6, vhat -0.901510, rho 1.087482, r_t 0.032127, Vdr_recurse -16.753881, Qhat 7.287693,  \n",
      "5, vhat -0.988254, rho 0.733216, r_t 0.125000, Vdr_recurse -26.829163, Qhat 7.872574,  \n",
      "4, vhat -0.970939, rho 0.610812, r_t 0.089161, Vdr_recurse -26.143759, Qhat 7.264552,  \n",
      "3, vhat -0.916366, rho 0.573264, r_t 0.077390, Vdr_recurse -21.162998, Qhat 7.004305,  \n",
      "2, vhat -0.999985, rho 0.769392, r_t -0.316642, Vdr_recurse -16.897989, Qhat 6.617037,  \n",
      "1, vhat -1.141868, rho 1.588962, r_t -0.025000, Vdr_recurse -19.205860, Qhat 7.308225,  \n",
      "15, vhat 15.000000, rho 1.125833, r_t 15.000000, Vdr_recurse 0.000000, Qhat 10.230921,  \n",
      "14, vhat 0.896953, rho 0.202651, r_t -1.230564, Vdr_recurse 20.369187, Qhat 11.748222,  \n",
      "13, vhat 0.158293, rho 1.491125, r_t -1.230564, Vdr_recurse 2.353344, Qhat 10.928421,  \n",
      "12, vhat -0.968851, rho 1.355034, r_t -1.380564, Vdr_recurse -14.498240, Qhat 12.261016,  \n",
      "11, vhat -0.978446, rho 1.217558, r_t -0.125000, Vdr_recurse -38.902815, Qhat 12.339147,  \n",
      "10, vhat -0.788755, rho 1.573019, r_t -0.025000, Vdr_recurse -63.047027, Qhat 11.337128,  \n",
      "9, vhat -0.668678, rho 0.963372, r_t -0.125000, Vdr_recurse -116.843994, Qhat 11.031106,  \n",
      "8, vhat -0.675554, rho 0.350056, r_t 0.250000, Vdr_recurse -122.854800, Qhat 12.291041,  \n",
      "7, vhat -0.480317, rho 1.705425, r_t 0.140098, Vdr_recurse -47.466531, Qhat 11.942445,  \n",
      "6, vhat -0.083191, rho 0.864187, r_t 0.396041, Vdr_recurse -100.749411, Qhat 10.229341,  \n",
      "5, vhat -0.262910, rho 0.753982, r_t -0.074336, Vdr_recurse -94.776689, Qhat 10.211128,  \n",
      "4, vhat -0.813833, rho 1.367754, r_t -0.707625, Vdr_recurse -78.763247, Qhat 10.036285,  \n",
      "3, vhat -0.690269, rho 0.888752, r_t 0.500000, Vdr_recurse -122.160306, Qhat 9.464230,  \n",
      "2, vhat -0.667014, rho 1.024662, r_t -0.025000, Vdr_recurse -116.141720, Qhat 9.786138,  \n",
      "1, vhat -0.753662, rho 0.972292, r_t -0.025000, Vdr_recurse -128.536108, Qhat 9.803263,  \n",
      "20, vhat 15.000000, rho 1.354649, r_t 15.000000, Vdr_recurse 0.000000, Qhat 12.708158,  \n",
      "19, vhat 0.933625, rho 1.331038, r_t -0.209798, Vdr_recurse 18.104641, Qhat 13.123540,  \n",
      "18, vhat 0.976485, rho 1.380085, r_t -0.109798, Vdr_recurse 7.043431, Qhat 13.341822,  \n",
      "17, vhat 0.886840, rho 1.367328, r_t -0.109798, Vdr_recurse -7.964567, Qhat 13.114108,  \n",
      "16, vhat 0.820823, rho 0.760028, r_t -0.209798, Vdr_recurse -27.975853, Qhat 13.010412,  \n",
      "15, vhat 0.762289, rho 0.215856, r_t -0.109798, Vdr_recurse -30.276721, Qhat 13.068955,  \n",
      "14, vhat 0.747542, rho 1.940786, r_t -0.109798, Vdr_recurse -8.552477, Qhat 13.261208,  \n",
      "13, vhat 0.715189, rho 0.691362, r_t -0.109798, Vdr_recurse -41.635259, Qhat 13.476422,  \n",
      "12, vhat 0.653355, rho 0.030781, r_t -0.109798, Vdr_recurse -37.175017, Qhat 13.203993,  \n",
      "11, vhat 0.614863, rho 2.161527, r_t -0.109798, Vdr_recurse -0.889299, Qhat 13.584996,  \n",
      "10, vhat 0.604956, rho 0.782912, r_t 0.040202, Vdr_recurse -30.889830, Qhat 12.861476,  \n",
      "9, vhat 0.558241, rho 0.755578, r_t -0.109798, Vdr_recurse -33.375155, Qhat 13.342918,  \n",
      "8, vhat 0.512657, rho 0.850563, r_t 0.040202, Vdr_recurse -34.571706, Qhat 13.696120,  \n",
      "7, vhat 0.478259, rho 0.306768, r_t -0.109798, Vdr_recurse -40.213906, Qhat 13.098175,  \n",
      "6, vhat 0.556989, rho 1.495162, r_t -0.109798, Vdr_recurse -15.786521, Qhat 13.380675,  \n",
      "5, vhat 0.577121, rho 1.216381, r_t -0.109798, Vdr_recurse -42.980811, Qhat 11.273410,  \n",
      "4, vhat 0.533548, rho 1.248335, r_t -0.109798, Vdr_recurse -65.027452, Qhat 12.358739,  \n",
      "3, vhat 0.437427, rho 1.342473, r_t -0.209798, Vdr_recurse -95.395655, Qhat 12.576874,  \n",
      "2, vhat 0.361980, rho 1.362672, r_t -0.109798, Vdr_recurse -143.513769, Qhat 12.580177,  \n",
      "1, vhat 0.206010, rho 1.738794, r_t -0.109798, Vdr_recurse -210.536898, Qhat 12.697080,  \n",
      "20, vhat 15.000000, rho 0.523774, r_t 15.000000, Vdr_recurse 0.000000, Qhat 9.033729,  \n",
      "19, vhat -0.273540, rho 1.497844, r_t 0.108824, Vdr_recurse 18.124978, Qhat 8.661466,  \n",
      "18, vhat -0.406488, rho 0.770348, r_t -0.141176, Vdr_recurse 13.792839, Qhat 8.466511,  \n",
      "17, vhat -0.382581, rho 0.178586, r_t 0.233824, Vdr_recurse 3.481629, Qhat 8.606419,  \n",
      "16, vhat -0.238934, rho 3.310221, r_t -0.041176, Vdr_recurse -1.262254, Qhat 9.781102,  \n",
      "15, vhat -0.328809, rho 0.655599, r_t -0.041176, Vdr_recurse -36.889409, Qhat 9.283930,  \n",
      "14, vhat -0.334104, rho 0.786024, r_t -0.041176, Vdr_recurse -30.385163, Qhat 8.665784,  \n",
      "13, vhat -0.330440, rho 0.842595, r_t -0.141176, Vdr_recurse -30.822612, Qhat 8.252879,  \n",
      "12, vhat -0.422125, rho 0.867195, r_t -0.141176, Vdr_recurse -33.114481, Qhat 8.752205,  \n",
      "11, vhat -0.181135, rho 0.025047, r_t -0.041176, Vdr_recurse -36.563952, Qhat 9.681754,  \n",
      "10, vhat -0.237894, rho 2.327200, r_t -0.041176, Vdr_recurse -1.331336, Qhat 10.326514,  \n",
      "9, vhat -0.516774, rho 0.916932, r_t 0.233824, Vdr_recurse -27.432887, Qhat 8.828742,  \n",
      "8, vhat -0.496756, rho 0.763941, r_t 0.108824, Vdr_recurse -33.300278, Qhat 8.346405,  \n",
      "7, vhat -0.461946, rho 0.827485, r_t 0.108824, Vdr_recurse -31.974823, Qhat 9.911515,  \n",
      "6, vhat -0.751406, rho 0.998222, r_t -0.041176, Vdr_recurse -34.767629, Qhat 9.168246,  \n",
      "5, vhat -0.785195, rho 1.010800, r_t -0.041176, Vdr_recurse -44.303197, Qhat 9.717822,  \n",
      "4, vhat -0.801576, rho 0.786497, r_t -0.266176, Vdr_recurse -54.983446, Qhat 11.867505,  \n",
      "3, vhat -0.817513, rho 1.076613, r_t -0.141176, Vdr_recurse -53.156575, Qhat 12.674179,  \n",
      "2, vhat -0.908415, rho 0.651202, r_t -0.041176, Vdr_recurse -71.271433, Qhat 12.731272,  \n",
      "1, vhat -0.988136, rho 0.675231, r_t -0.041176, Vdr_recurse -55.173829, Qhat 12.174687,  \n",
      "20, vhat 15.000000, rho 1.171621, r_t 15.000000, Vdr_recurse 0.000000, Qhat 8.757686,  \n",
      "19, vhat -0.707999, rho 1.181606, r_t 0.397130, Vdr_recurse 22.313624, Qhat 8.184054,  \n",
      "18, vhat -0.772609, rho 1.144384, r_t 0.125000, Vdr_recurse 16.193173, Qhat 7.793224,  \n",
      "17, vhat -0.808751, rho 0.928640, r_t -0.125000, Vdr_recurse 8.797898, Qhat 8.608704,  \n",
      "16, vhat -0.819051, rho 0.547671, r_t -0.025000, Vdr_recurse -0.830838, Qhat 8.380227,  \n",
      "15, vhat -0.938456, rho 0.008678, r_t 0.375000, Vdr_recurse -5.872829, Qhat 7.882026,  \n",
      "14, vhat -0.924122, rho 1.022379, r_t 0.125000, Vdr_recurse -1.054054, Qhat 6.544196,  \n",
      "13, vhat -0.795549, rho 0.004467, r_t -0.025000, Vdr_recurse -8.553841, Qhat 6.481262,  \n",
      "12, vhat -1.224566, rho 0.058919, r_t -0.250000, Vdr_recurse -0.862447, Qhat 7.355645,  \n",
      "11, vhat -1.285841, rho 0.307815, r_t 0.250000, Vdr_recurse -1.722992, Qhat 8.020977,  \n",
      "10, vhat -0.721223, rho 0.155486, r_t 0.250000, Vdr_recurse -4.202924, Qhat 6.212798,  \n",
      "9, vhat -0.918418, rho 1.813149, r_t -0.625000, Vdr_recurse -2.295318, Qhat 7.928580,  \n",
      "8, vhat -0.944434, rho 2.675914, r_t -0.125000, Vdr_recurse -20.547466, Qhat 9.990435,  \n",
      "7, vhat -1.120876, rho 0.061689, r_t -0.025000, Vdr_recurse -82.445882, Qhat 10.741314,  \n",
      "6, vhat -0.731837, rho 1.440909, r_t -0.025000, Vdr_recurse -6.820223, Qhat 11.401675,  \n",
      "5, vhat -0.719952, rho 1.424369, r_t -0.025000, Vdr_recurse -26.925679, Qhat 11.369446,  \n",
      "4, vhat -0.807429, rho 1.456160, r_t -0.025000, Vdr_recurse -54.918409, Qhat 11.433518,  \n",
      "3, vhat -0.743431, rho 1.515939, r_t -0.025000, Vdr_recurse -96.663137, Qhat 11.697504,  \n",
      "2, vhat -0.872149, rho 2.012197, r_t -0.025000, Vdr_recurse -163.584123, Qhat 11.684515,  \n",
      "1, vhat -0.970507, rho 0.848920, r_t -0.025000, Vdr_recurse -350.305850, Qhat 11.714008,  \n",
      "20, vhat 15.000000, rho 0.965408, r_t 15.000000, Vdr_recurse 0.000000, Qhat 7.490742,  \n",
      "19, vhat -0.155933, rho 0.957902, r_t 0.137903, Vdr_recurse 22.249501, Qhat 7.506982,  \n",
      "18, vhat -0.102769, rho 0.953128, r_t -0.237097, Vdr_recurse 13.884922, Qhat 7.484512,  \n",
      "17, vhat -0.080255, rho 0.950369, r_t -0.012097, Vdr_recurse 5.639316, Qhat 7.412417,  \n",
      "16, vhat -0.152175, rho 0.950771, r_t -0.012097, Vdr_recurse -1.830447, Qhat 7.658838,  \n",
      "15, vhat -0.178614, rho 0.940810, r_t -0.012097, Vdr_recurse -9.168412, Qhat 7.870834,  \n",
      "14, vhat -0.193983, rho 0.943958, r_t -0.012097, Vdr_recurse -16.134434, Qhat 7.753881,  \n",
      "13, vhat -0.181543, rho 0.940139, r_t -0.012097, Vdr_recurse -22.602657, Qhat 7.258553,  \n",
      "12, vhat -0.228277, rho 0.940751, r_t -0.012097, Vdr_recurse -28.054115, Qhat 7.641108,  \n",
      "11, vhat -0.215398, rho 0.910420, r_t -0.012097, Vdr_recurse -33.556069, Qhat 7.669116,  \n",
      "10, vhat -0.317012, rho 0.889103, r_t -0.012097, Vdr_recurse -37.453123, Qhat 7.895620,  \n",
      "9, vhat -0.370396, rho 0.877748, r_t -0.012097, Vdr_recurse -40.314460, Qhat 8.209219,  \n",
      "8, vhat -0.284371, rho 0.883546, r_t 0.137903, Vdr_recurse -42.618700, Qhat 8.276824,  \n",
      "7, vhat -0.234800, rho 0.838371, r_t 0.137903, Vdr_recurse -44.754520, Qhat 7.888369,  \n",
      "6, vhat -0.293498, rho 0.939242, r_t -0.237097, Vdr_recurse -43.878241, Qhat 8.011062,  \n",
      "5, vhat -0.250346, rho 0.745526, r_t -0.012097, Vdr_recurse -48.840695, Qhat 7.747847,  \n",
      "4, vhat -0.314442, rho 0.197317, r_t 0.137903, Vdr_recurse -42.083481, Qhat 8.189336,  \n",
      "3, vhat -0.301618, rho 2.083389, r_t -0.012097, Vdr_recurse -10.123856, Qhat 7.930276,  \n",
      "2, vhat -0.363287, rho 0.679213, r_t -0.012097, Vdr_recurse -37.729678, Qhat 8.175117,  \n",
      "1, vhat -0.508666, rho 0.991484, r_t -0.012097, Vdr_recurse -31.294358, Qhat 7.889970,  \n",
      "13, vhat 15.000000, rho 0.303845, r_t 15.000000, Vdr_recurse 0.000000, Qhat 12.089298,  \n",
      "12, vhat -1.003258, rho 1.265332, r_t -0.387308, Vdr_recurse 15.884403, Qhat 10.995288,  \n",
      "11, vhat -0.889345, rho 1.269646, r_t -0.037308, Vdr_recurse 4.492033, Qhat 9.173838,  \n",
      "10, vhat -0.834401, rho 1.755189, r_t 0.487692, Vdr_recurse -6.937981, Qhat 9.520673,  \n",
      "9, vhat -0.926047, rho 1.821706, r_t -0.037308, Vdr_recurse -28.744687, Qhat 10.178672,  \n",
      "8, vhat -1.120174, rho 1.334333, r_t -0.387308, Vdr_recurse -71.377296, Qhat 9.450227,  \n",
      "7, vhat -1.069803, rho 1.288030, r_t 0.112692, Vdr_recurse -108.535378, Qhat 8.789268,  \n",
      "6, vhat -1.082569, rho 1.517120, r_t -0.137308, Vdr_recurse -150.644365, Qhat 9.230917,  \n",
      "5, vhat -1.052656, rho 1.836496, r_t 0.612692, Vdr_recurse -241.555395, Qhat 9.248622,  \n",
      "4, vhat -1.123075, rho 0.395662, r_t -0.137308, Vdr_recurse -456.091749, Qhat 9.398218,  \n",
      "3, vhat -1.205544, rho 0.270235, r_t -0.387308, Vdr_recurse -183.549586, Qhat 8.866017,  \n",
      "2, vhat -1.208106, rho 1.940118, r_t 0.362692, Vdr_recurse -52.811607, Qhat 9.391433,  \n",
      "1, vhat -1.371978, rho 1.098563, r_t -0.037308, Vdr_recurse -120.161080, Qhat 9.611839,  \n",
      "7, vhat 15.000000, rho 0.950773, r_t -15.000000, Vdr_recurse 0.000000, Qhat 5.614089,  \n",
      "6, vhat -0.678629, rho 0.901101, r_t -0.059779, Vdr_recurse -4.599325, Qhat 3.548064,  \n",
      "5, vhat -0.974494, rho 0.194356, r_t -0.059779, Vdr_recurse -8.032669, Qhat 1.885670,  \n",
      "4, vhat -0.976764, rho 3.037182, r_t -0.025000, Vdr_recurse -2.898189, Qhat 2.203903,  \n",
      "3, vhat -0.940067, rho 0.745695, r_t 0.420810, Vdr_recurse -16.460651, Qhat 2.541272,  \n",
      "2, vhat -0.759058, rho 0.944926, r_t 0.600415, Vdr_recurse -14.673157, Qhat 2.860716,  \n",
      "1, vhat -1.211496, rho 0.994041, r_t 0.045043, Vdr_recurse -16.621271, Qhat 0.473076,  \n"
     ]
    }
   ],
   "source": [
    "values = [] # contains the value estimates for each trajectory\n",
    "# This discount factor (gamma) should be the same as that used to find Q(s,a) for the physician policy (sarsa_physician)\n",
    "# and in eval_policy\n",
    "gamma = 0.99\n",
    "for i,uid in enumerate(unique_ids):\n",
    "    trajectory = df_test.loc[df_test['icustayid'] == uid]\n",
    "    cur_val = val_estimate_recurse(trajectory, 1)\n",
    "    if cur_val > 100 or cur_val < -100:\n",
    "        continue\n",
    "    values.append(cur_val)\n",
    "    if i > 10:\n",
    "        break"
   ]
  },
  {
   "cell_type": "code",
   "execution_count": 61,
   "metadata": {},
   "outputs": [
    {
     "name": "stdout",
     "output_type": "stream",
     "text": [
      "[array([-28.44342378]), array([-12.04362189]), array([-23.36290085]), array([-34.26421419]), array([-27.4414107]), array([-8.95879176])]\n"
     ]
    }
   ],
   "source": [
    "print values"
   ]
  },
  {
   "cell_type": "code",
   "execution_count": 44,
   "metadata": {
    "scrolled": true
   },
   "outputs": [
    {
     "data": {
      "text/plain": [
       "2911"
      ]
     },
     "execution_count": 44,
     "metadata": {},
     "output_type": "execute_result"
    }
   ],
   "source": [
    "len(values)"
   ]
  },
  {
   "cell_type": "code",
   "execution_count": 45,
   "metadata": {
    "collapsed": true
   },
   "outputs": [],
   "source": [
    "values = pd.Series(values)\n",
    "\n",
    "# TODO - this is a hack to get rid of trajectories that resulted\n",
    "# in extremely high values, as a result of rho being very large. \n",
    "# Think of a better way of doing this - perhaps by restricting\n",
    "# the actions that the agent can take at any timestep?\n",
    "# values = (values[(values >= -15) & (values <= 15)])"
   ]
  },
  {
   "cell_type": "code",
   "execution_count": 46,
   "metadata": {
    "scrolled": true
   },
   "outputs": [
    {
     "data": {
      "text/plain": [
       "2911"
      ]
     },
     "execution_count": 46,
     "metadata": {},
     "output_type": "execute_result"
    }
   ],
   "source": [
    "len(values)"
   ]
  },
  {
   "cell_type": "code",
   "execution_count": 47,
   "metadata": {},
   "outputs": [
    {
     "data": {
      "text/plain": [
       "array([-31.26713045])"
      ]
     },
     "execution_count": 47,
     "metadata": {},
     "output_type": "execute_result"
    }
   ],
   "source": [
    "np.mean(values)"
   ]
  },
  {
   "cell_type": "code",
   "execution_count": 87,
   "metadata": {},
   "outputs": [
    {
     "data": {
      "text/plain": [
       "9.734491725447791"
      ]
     },
     "execution_count": 87,
     "metadata": {},
     "output_type": "execute_result"
    }
   ],
   "source": [
    "# Evaluate the average return under the physician policy on the test set.\n",
    "phys_vals = []\n",
    "gamma = 0.99\n",
    "for uid in unique_ids:\n",
    "    traj = df_test.loc[df_test['icustayid'] == uid]\n",
    "    ret = 0\n",
    "    reversed_traj = traj.iloc[::-1]\n",
    "    for row in reversed_traj.index:\n",
    "        ret = reversed_traj.loc[row,'reward'] + gamma*ret\n",
    "    phys_vals.append(ret)\n",
    "np.mean(phys_vals)"
   ]
  },
  {
   "cell_type": "code",
   "execution_count": null,
   "metadata": {
    "collapsed": true
   },
   "outputs": [],
   "source": []
  }
 ],
 "metadata": {
  "kernelspec": {
   "display_name": "Python 2",
   "language": "python",
   "name": "python2"
  },
  "language_info": {
   "codemirror_mode": {
    "name": "ipython",
    "version": 2
   },
   "file_extension": ".py",
   "mimetype": "text/x-python",
   "name": "python",
   "nbconvert_exporter": "python",
   "pygments_lexer": "ipython2",
   "version": "2.7.12"
  }
 },
 "nbformat": 4,
 "nbformat_minor": 2
}
