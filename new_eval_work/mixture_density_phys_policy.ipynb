{
 "cells": [
  {
   "cell_type": "code",
   "execution_count": 1,
   "metadata": {
    "collapsed": true
   },
   "outputs": [],
   "source": [
    "%matplotlib inline\n",
    "import matplotlib.pyplot as plt\n",
    "import tensorflow as tf\n",
    "import numpy as np\n",
    "import math\n",
    "import os\n",
    "import random\n",
    "import numpy as np\n",
    "import pandas as pd\n",
    "from pandas import DataFrame\n",
    "import cPickle as pickle\n",
    "import math\n",
    "import copy"
   ]
  },
  {
   "cell_type": "code",
   "execution_count": 2,
   "metadata": {
    "collapsed": true
   },
   "outputs": [],
   "source": [
    "os.environ['CUDA_VISIBLE_DEVICES'] = '0'"
   ]
  },
  {
   "cell_type": "code",
   "execution_count": 3,
   "metadata": {},
   "outputs": [
    {
     "name": "stdout",
     "output_type": "stream",
     "text": [
      "['Albumin', 'Arterial_BE', 'Arterial_lactate', 'Arterial_pH', 'BUN', 'CO2_mEqL', 'Calcium', 'Chloride', 'Creatinine', 'DiaBP', 'FiO2_1', 'GCS', 'Glucose', 'HCO3', 'HR', 'Hb', 'INR', 'Ionised_Ca', 'Magnesium', 'MeanBP', 'PT', 'PTT', 'PaO2_FiO2', 'Platelets_count', 'Potassium', 'RR', 'SGOT', 'SGPT', 'SIRS', 'SOFA', 'Shock_Index', 'Sodium', 'SpO2', 'SysBP', 'Temp_C', 'Total_bili', 'WBC_count', 'Weight_kg', 'age', 'elixhauser', 'gender', 'mechvent', 'output_4hourly', 'output_total', 'paCO2', 'paO2', 're_admission', 'bloc']\n",
      "48\n"
     ]
    }
   ],
   "source": [
    "with open('../data/state_features.txt') as f:\n",
    "    state_features = f.read().split()\n",
    "print (state_features)\n",
    "print len(state_features)"
   ]
  },
  {
   "cell_type": "code",
   "execution_count": 4,
   "metadata": {
    "collapsed": true
   },
   "outputs": [],
   "source": [
    "chosen ardf = pd.read_csv('../data/rl_train_data_final_cont.csv')"
   ]
  },
  {
   "cell_type": "code",
   "execution_count": 5,
   "metadata": {
    "scrolled": false
   },
   "outputs": [
    {
     "data": {
      "text/html": [
       "<div>\n",
       "<style>\n",
       "    .dataframe thead tr:only-child th {\n",
       "        text-align: right;\n",
       "    }\n",
       "\n",
       "    .dataframe thead th {\n",
       "        text-align: left;\n",
       "    }\n",
       "\n",
       "    .dataframe tbody tr th {\n",
       "        vertical-align: top;\n",
       "    }\n",
       "</style>\n",
       "<table border=\"1\" class=\"dataframe\">\n",
       "  <thead>\n",
       "    <tr style=\"text-align: right;\">\n",
       "      <th></th>\n",
       "      <th>bloc</th>\n",
       "      <th>icustayid</th>\n",
       "      <th>charttime</th>\n",
       "      <th>gender</th>\n",
       "      <th>age</th>\n",
       "      <th>elixhauser</th>\n",
       "      <th>re_admission</th>\n",
       "      <th>died_in_hosp</th>\n",
       "      <th>mortality_90d</th>\n",
       "      <th>Weight_kg</th>\n",
       "      <th>...</th>\n",
       "      <th>median_dose_vaso</th>\n",
       "      <th>max_dose_vaso</th>\n",
       "      <th>input_total_tev</th>\n",
       "      <th>input_4hourly_tev</th>\n",
       "      <th>output_total</th>\n",
       "      <th>output_4hourly</th>\n",
       "      <th>cumulated_balance_tev</th>\n",
       "      <th>vaso_input</th>\n",
       "      <th>iv_input</th>\n",
       "      <th>reward</th>\n",
       "    </tr>\n",
       "  </thead>\n",
       "  <tbody>\n",
       "    <tr>\n",
       "      <th>0</th>\n",
       "      <td>0.000000</td>\n",
       "      <td>3</td>\n",
       "      <td>7245052800</td>\n",
       "      <td>0.0</td>\n",
       "      <td>0.412568</td>\n",
       "      <td>0.0</td>\n",
       "      <td>0.0</td>\n",
       "      <td>0</td>\n",
       "      <td>1</td>\n",
       "      <td>0.262712</td>\n",
       "      <td>...</td>\n",
       "      <td>0.0</td>\n",
       "      <td>0.0</td>\n",
       "      <td>0.797351</td>\n",
       "      <td>0.939195</td>\n",
       "      <td>0.589916</td>\n",
       "      <td>0.750908</td>\n",
       "      <td>0.554500</td>\n",
       "      <td>0.0</td>\n",
       "      <td>4.0</td>\n",
       "      <td>0.125000</td>\n",
       "    </tr>\n",
       "    <tr>\n",
       "      <th>1</th>\n",
       "      <td>0.222560</td>\n",
       "      <td>3</td>\n",
       "      <td>7245067200</td>\n",
       "      <td>0.0</td>\n",
       "      <td>0.412568</td>\n",
       "      <td>0.0</td>\n",
       "      <td>0.0</td>\n",
       "      <td>0</td>\n",
       "      <td>1</td>\n",
       "      <td>0.262712</td>\n",
       "      <td>...</td>\n",
       "      <td>0.0</td>\n",
       "      <td>0.0</td>\n",
       "      <td>0.831780</td>\n",
       "      <td>0.934543</td>\n",
       "      <td>0.674384</td>\n",
       "      <td>0.819589</td>\n",
       "      <td>0.580033</td>\n",
       "      <td>0.0</td>\n",
       "      <td>4.0</td>\n",
       "      <td>0.657321</td>\n",
       "    </tr>\n",
       "    <tr>\n",
       "      <th>2</th>\n",
       "      <td>0.356608</td>\n",
       "      <td>3</td>\n",
       "      <td>7245081600</td>\n",
       "      <td>0.0</td>\n",
       "      <td>0.412568</td>\n",
       "      <td>0.0</td>\n",
       "      <td>0.0</td>\n",
       "      <td>0</td>\n",
       "      <td>1</td>\n",
       "      <td>0.262712</td>\n",
       "      <td>...</td>\n",
       "      <td>0.0</td>\n",
       "      <td>0.0</td>\n",
       "      <td>0.833222</td>\n",
       "      <td>0.656575</td>\n",
       "      <td>0.765423</td>\n",
       "      <td>0.939329</td>\n",
       "      <td>0.555033</td>\n",
       "      <td>0.0</td>\n",
       "      <td>2.0</td>\n",
       "      <td>1.367788</td>\n",
       "    </tr>\n",
       "    <tr>\n",
       "      <th>3</th>\n",
       "      <td>0.452837</td>\n",
       "      <td>3</td>\n",
       "      <td>7245096000</td>\n",
       "      <td>0.0</td>\n",
       "      <td>0.412568</td>\n",
       "      <td>0.0</td>\n",
       "      <td>0.0</td>\n",
       "      <td>0</td>\n",
       "      <td>1</td>\n",
       "      <td>0.262712</td>\n",
       "      <td>...</td>\n",
       "      <td>0.0</td>\n",
       "      <td>0.0</td>\n",
       "      <td>0.834033</td>\n",
       "      <td>0.603831</td>\n",
       "      <td>0.783597</td>\n",
       "      <td>0.847073</td>\n",
       "      <td>0.545700</td>\n",
       "      <td>0.0</td>\n",
       "      <td>2.0</td>\n",
       "      <td>1.199099</td>\n",
       "    </tr>\n",
       "    <tr>\n",
       "      <th>4</th>\n",
       "      <td>0.527957</td>\n",
       "      <td>3</td>\n",
       "      <td>7245110400</td>\n",
       "      <td>0.0</td>\n",
       "      <td>0.412568</td>\n",
       "      <td>0.0</td>\n",
       "      <td>0.0</td>\n",
       "      <td>0</td>\n",
       "      <td>1</td>\n",
       "      <td>0.262712</td>\n",
       "      <td>...</td>\n",
       "      <td>0.0</td>\n",
       "      <td>0.0</td>\n",
       "      <td>0.834836</td>\n",
       "      <td>0.603831</td>\n",
       "      <td>0.794059</td>\n",
       "      <td>0.811583</td>\n",
       "      <td>0.539533</td>\n",
       "      <td>0.0</td>\n",
       "      <td>2.0</td>\n",
       "      <td>1.057596</td>\n",
       "    </tr>\n",
       "  </tbody>\n",
       "</table>\n",
       "<p>5 rows × 60 columns</p>\n",
       "</div>"
      ],
      "text/plain": [
       "       bloc  icustayid   charttime  gender       age  elixhauser  \\\n",
       "0  0.000000          3  7245052800     0.0  0.412568         0.0   \n",
       "1  0.222560          3  7245067200     0.0  0.412568         0.0   \n",
       "2  0.356608          3  7245081600     0.0  0.412568         0.0   \n",
       "3  0.452837          3  7245096000     0.0  0.412568         0.0   \n",
       "4  0.527957          3  7245110400     0.0  0.412568         0.0   \n",
       "\n",
       "   re_admission  died_in_hosp  mortality_90d  Weight_kg    ...     \\\n",
       "0           0.0             0              1   0.262712    ...      \n",
       "1           0.0             0              1   0.262712    ...      \n",
       "2           0.0             0              1   0.262712    ...      \n",
       "3           0.0             0              1   0.262712    ...      \n",
       "4           0.0             0              1   0.262712    ...      \n",
       "\n",
       "   median_dose_vaso  max_dose_vaso  input_total_tev  input_4hourly_tev  \\\n",
       "0               0.0            0.0         0.797351           0.939195   \n",
       "1               0.0            0.0         0.831780           0.934543   \n",
       "2               0.0            0.0         0.833222           0.656575   \n",
       "3               0.0            0.0         0.834033           0.603831   \n",
       "4               0.0            0.0         0.834836           0.603831   \n",
       "\n",
       "   output_total  output_4hourly  cumulated_balance_tev  vaso_input  iv_input  \\\n",
       "0      0.589916        0.750908               0.554500         0.0       4.0   \n",
       "1      0.674384        0.819589               0.580033         0.0       4.0   \n",
       "2      0.765423        0.939329               0.555033         0.0       2.0   \n",
       "3      0.783597        0.847073               0.545700         0.0       2.0   \n",
       "4      0.794059        0.811583               0.539533         0.0       2.0   \n",
       "\n",
       "     reward  \n",
       "0  0.125000  \n",
       "1  0.657321  \n",
       "2  1.367788  \n",
       "3  1.199099  \n",
       "4  1.057596  \n",
       "\n",
       "[5 rows x 60 columns]"
      ]
     },
     "execution_count": 5,
     "metadata": {},
     "output_type": "execute_result"
    }
   ],
   "source": [
    "df.head()"
   ]
  },
  {
   "cell_type": "code",
   "execution_count": 6,
   "metadata": {
    "collapsed": true
   },
   "outputs": [],
   "source": [
    "val_df = pd.read_csv('../data/rl_val_data_final_cont.csv')"
   ]
  },
  {
   "cell_type": "code",
   "execution_count": 7,
   "metadata": {
    "collapsed": true
   },
   "outputs": [],
   "source": [
    "test_df = pd.read_csv('../data/rl_test_data_final_cont.csv')"
   ]
  },
  {
   "cell_type": "code",
   "execution_count": 8,
   "metadata": {
    "collapsed": true
   },
   "outputs": [],
   "source": [
    "# define an action mapping - how to get an id representing the action from the (iv,vaso) tuple\n",
    "action_map = {}\n",
    "count = 0\n",
    "for iv in range(5):\n",
    "    for vaso in range(5):\n",
    "        action_map[(iv,vaso)] = count\n",
    "        count += 1"
   ]
  },
  {
   "cell_type": "code",
   "execution_count": 9,
   "metadata": {
    "collapsed": true
   },
   "outputs": [],
   "source": [
    "inv_action_map = {}\n",
    "for iv in range(5):\n",
    "    for vaso in range(5):\n",
    "        inv_action_map[5*iv+vaso] = [iv,vaso]    "
   ]
  },
  {
   "cell_type": "code",
   "execution_count": 10,
   "metadata": {
    "collapsed": true
   },
   "outputs": [],
   "source": [
    "chosen ar# Extract features (state vector) and labels (action taken) out of the dataframe for train \n",
    "# and val sets\n",
    "def preproc(df_in, iv_bins = 5):\n",
    "    df = df_in.copy()\n",
    "    actions_raw = df[['iv_input', 'vaso_input']].values\n",
    "    keep_arr = np.loadtxt('../data/state_features.txt', dtype=str)\n",
    "    df = df[keep_arr]\n",
    "    actions_proc = (iv_bins*actions_raw[:, 0] + actions_raw[:, 1]).astype(int)\n",
    "    hist = np.histogram(actions_proc, 25)\n",
    "    actions_proc = pd.get_dummies(actions_proc).values\n",
    "    #print(hist) just to check\n",
    "    return df.values, actions_proc"
   ]
  },
  {
   "cell_type": "code",
   "execution_count": 11,
   "metadata": {
    "collapsed": true
   },
   "outputs": [],
   "source": [
    "def batch_sample(batch_size, features, labels):\n",
    "    idx = np.random.choice(np.arange(len(features)), batch_size)\n",
    "    return (np.vstack(features[idx]), np.vstack(labels[idx]))"
   ]
  },
  {
   "cell_type": "code",
   "execution_count": 12,
   "metadata": {
    "collapsed": true
   },
   "outputs": [],
   "source": [
    "train_feat, train_labels = preproc(df)\n",
    "val_feat, val_labels = preproc(val_df)\n",
    "test_feat, test_labels = preproc(test_df)"
   ]
  },
  {
   "cell_type": "code",
   "execution_count": 13,
   "metadata": {
    "collapsed": true
   },
   "outputs": [],
   "source": [
    "feature_length = len(train_feat[0])\n",
    "batch_size = 64\n",
    "num_actions = 25\n",
    "num_steps = 35000\n",
    "num_mix_comp = 5\n",
    "# we learn parameters for each of the mix components and the mixing probabilities\n",
    "num_outputs = num_actions*num_mix_comp + num_mix_comp"
   ]
  },
  {
   "cell_type": "code",
   "execution_count": 20,
   "metadata": {
    "collapsed": true
   },
   "outputs": [],
   "source": [
    "class MDN():\n",
    "    def __init__(self):\n",
    "        self.input_feat = tf.placeholder(tf.float32, shape = [None, feature_length])\n",
    "        \n",
    "        self.actions = tf.placeholder(tf.float32, shape = [None, num_actions])\n",
    "        \n",
    "        self.phase = tf.placeholder(tf.bool)\n",
    "        \n",
    "        self.fc_1 = tf.contrib.layers.fully_connected(self.input_feat, 128, activation_fn=tf.nn.relu)\n",
    "        self.bn_1 = tf.contrib.layers.batch_norm(self.fc_1, center=True, scale=True, is_training=self.phase)\n",
    "        self.fc_2 = tf.contrib.layers.fully_connected(self.bn_1 , 128, activation_fn=tf.nn.relu)\n",
    "        self.bn_2 = tf.contrib.layers.batch_norm(self.fc_2, center=True, scale=True, is_training=self.phase)\n",
    "        \n",
    "        self.prob_params = tf.contrib.layers.fully_connected(self.bn_2 , num_outputs, activation_fn=None)\n",
    "        \n",
    "        # from prob params, we estimate the different mixture components\n",
    "        # Define: the first num_mix_comps of self.prob_params to be the mix probabilities\n",
    "        # split the rest num_mix_comp ways to define the multinomial distns over actions\n",
    "        self.unnorm_mix_prob, self.unnorm_multi_params = tf.split(self.prob_params, [num_mix_comp, num_actions*num_mix_comp], 1)\n",
    "        \n",
    "        # Reshape second value into [-1, 5, 25]\n",
    "        self.unnorm_multi_params = tf.reshape(self.unnorm_multi_params, [-1, num_mix_comp, num_actions])\n",
    "        \n",
    "        # perform softmaxes\n",
    "        self.mix_prob = tf.nn.softmax(self.unnorm_mix_prob)\n",
    "        \n",
    "        self.multi_params = tf.nn.softmax(self.unnorm_multi_params, dim=-1)\n",
    "        \n",
    "        # generate p(a, z | s) for analysis\n",
    "        #Firstly tile the mix probabilites. Currently it's of shape (bs, num_mix_comps). Convert to (bs, num_mix, num_act)\n",
    "        self.expanded_mix_prob = tf.tile(tf.expand_dims(self.mix_prob, axis=2), [1, 1, num_actions])\n",
    "        \n",
    "        self.joint_prob = self.expanded_mix_prob * self.multi_params\n",
    "        \n",
    "        # generate p(a_vec|s) by summing out 1 dimension. a_vec is a vector of ALL actions.\n",
    "        # should be of dimension (bs,num_actions)\n",
    "        self.lik_as_vec = tf.reduce_sum(self.joint_prob, axis=1)\n",
    "        \n",
    "        # select the actions actually taken\n",
    "        self.vec = tf.tile(tf.expand_dims(self.actions, axis=1), [1,num_mix_comp,1])           \n",
    "        \n",
    "        # this is batchsize*num_mix_comp*num_actions. Sum out the num_actions dimension to get\n",
    "        # tensor of shape bs*num_mix_comp\n",
    "        self.rel_probs = tf.reduce_sum(self.vec*self.multi_params, axis=2)    \n",
    "        \n",
    "        # form the log likelihood\n",
    "        # sum over batch (log ( sum over components(mixture prob * prob of action)))\n",
    "        self.likelihood = tf.reduce_sum(self.rel_probs*self.mix_prob, axis=1)\n",
    "    \n",
    "        self.log_lik =  tf.reduce_sum(tf.log(self.likelihood))\n",
    "        self.neg_log_lik = -1 * self.log_lik\n",
    "        \n",
    "        self.reg_losses = tf.get_collection(tf.GraphKeys.REGULARIZATION_LOSSES)\n",
    "        self.reg_constant = 1\n",
    "        \n",
    "        self.update_ops = tf.get_collection(tf.GraphKeys.UPDATE_OPS)\n",
    "        with tf.control_dependencies(self.update_ops):\n",
    "            self.train_step = tf.train.AdamOptimizer().minimize(self.neg_log_lik + self.reg_constant*tf.reduce_sum(self.reg_losses))"
   ]
  },
  {
   "cell_type": "code",
   "execution_count": 21,
   "metadata": {
    "collapsed": true
   },
   "outputs": [],
   "source": [
    "config = tf.ConfigProto()\n",
    "config.gpu_options.allow_growth = True  # Don't use all GPUs \n",
    "config.allow_soft_placement = True  # Enable manual control"
   ]
  },
  {
   "cell_type": "code",
   "execution_count": 26,
   "metadata": {
    "collapsed": true
   },
   "outputs": [],
   "source": [
    "def get_probs_for_analysis(dataset, sess, mdn):\n",
    "    # get p(a_vec| s) for each entry in dataset -- this sums over the mixture components\n",
    "    # get p(a_vec| s, z^(k)) for each entry in the dataset for each mix component -- 3D tensor\n",
    "    if dataset == 'train':\n",
    "        features, labels = train_feat,train_labels\n",
    "    elif dataset == 'val':\n",
    "        features, labels = val_feat,val_labels\n",
    "    elif dataset == 'test':\n",
    "        features, labels = test_feat,test_labels\n",
    "    \n",
    "    j = 0\n",
    "    \n",
    "    marginal_lik_vec = []\n",
    "    conditional_lik_vec = []\n",
    "    \n",
    "    while (j < len(features)):\n",
    "        feat = None\n",
    "        lbls = None\n",
    "        if len(features) - j < batch_size:\n",
    "            feat = features[j:]\n",
    "            lbls = labels[j:]\n",
    "        else:\n",
    "            feat = features[j:j+batch_size]\n",
    "            lbls = labels[j:j+batch_size]\n",
    "        feat = feat.reshape(len(feat), feature_length)\n",
    "        acs = lbls.reshape(len(lbls), num_actions)\n",
    "        if j % 10000 == 0: \n",
    "            print('Processing indx: ', j )\n",
    "        \n",
    "        batch_marg_lik_vec, batch_cond_lik_vec = sess.run([mdn.lik_as_vec, mdn.multi_params], \n",
    "                          feed_dict={mdn.input_feat : feat, mdn.actions: acs, mdn.phase: 0})\n",
    "        \n",
    "        marginal_lik_vec.append(batch_marg_lik_vec)\n",
    "        conditional_lik_vec.append(batch_cond_lik_vec)\n",
    "        \n",
    "        if len(features) - j < batch_size:\n",
    "            j = len(features)\n",
    "        else:\n",
    "            j += batch_size\n",
    "    \n",
    "    marginal_lik_vec = np.vstack([arr for arr in marginal_lik_vec])\n",
    "    conditional_lik_vec = np.vstack([arr for arr in conditional_lik_vec])\n",
    "    return marginal_lik_vec, conditional_lik_vec"
   ]
  },
  {
   "cell_type": "code",
   "execution_count": 27,
   "metadata": {
    "collapsed": true
   },
   "outputs": [],
   "source": [
    "# Runs eval step\n",
    "def run_eval(dataset,sess, mdn):\n",
    "    if dataset == 'train':\n",
    "        features, labels = train_feat,train_labels\n",
    "    elif dataset == 'val':\n",
    "        features, labels = val_feat,val_labels\n",
    "    elif dataset == 'test':\n",
    "        features, labels = test_feat,test_labels\n",
    "\n",
    "    total_loss = 0\n",
    "    j = 0\n",
    "    while (j < len(features)):\n",
    "        feat = None\n",
    "        lbls = None\n",
    "        if len(features) - j < batch_size:\n",
    "            feat = features[j:-1]\n",
    "            lbls = labels[j:-1]\n",
    "        else:\n",
    "            feat = features[j:j+batch_size]\n",
    "            lbls = labels[j:j+batch_size]\n",
    "        feat = feat.reshape(len(feat), feature_length)\n",
    "        acs = lbls.reshape(len(lbls), num_actions)\n",
    "        if j % 10000 == 0: \n",
    "            print('Processing val set indx: ', j )\n",
    "        neg_log_lik = sess.run(mdn.neg_log_lik, \n",
    "                          feed_dict={mdn.input_feat : feat, mdn.actions: acs, mdn.phase: 0})\n",
    "        total_loss += neg_log_lik\n",
    "        if len(features) - j < batch_size:\n",
    "            j = len(features)\n",
    "        else:\n",
    "            j += batch_size\n",
    "    return total_loss\n",
    "    "
   ]
  },
  {
   "cell_type": "code",
   "execution_count": 32,
   "metadata": {
    "scrolled": true
   },
   "outputs": [
    {
     "name": "stdout",
     "output_type": "stream",
     "text": [
      "[<tf.Tensor 'gradients/split_grad/concat:0' shape=(?, 130) dtype=float32>, None, None]\n",
      "Running default init\n",
      "Init done\n",
      "Loss in 1000 steps  123662.465744\n",
      "Saved Model, step is 1000\n",
      "Loss in 1000 steps  114372.749039\n",
      "Saved Model, step is 2000\n",
      "Loss in 1000 steps  111689.745827\n",
      "Saved Model, step is 3000\n",
      "Loss in 1000 steps  109818.189346\n",
      "Saved Model, step is 4000\n",
      "Loss in 1000 steps  108210.888313\n",
      "Saved Model, step is 5000\n",
      "Test on validation set\n",
      "('Processing val set indx: ', 0)\n",
      "('Val set loss: ', 44111.319297790527)\n",
      "Loss in 1000 steps  106938.701454\n",
      "Saved Model, step is 6000\n",
      "Loss in 1000 steps  106197.24572\n",
      "Saved Model, step is 7000\n",
      "Loss in 1000 steps  105216.882782\n",
      "Saved Model, step is 8000\n",
      "Loss in 1000 steps  104549.128212\n",
      "Saved Model, step is 9000\n",
      "Loss in 1000 steps  103418.804359\n",
      "Saved Model, step is 10000\n",
      "Test on validation set\n",
      "('Processing val set indx: ', 0)\n",
      "('Val set loss: ', 43823.138320922852)\n",
      "Loss in 1000 steps  103345.749596\n",
      "Saved Model, step is 11000\n",
      "Loss in 1000 steps  102803.800522\n",
      "Saved Model, step is 12000\n",
      "Loss in 1000 steps  102469.33918\n",
      "Saved Model, step is 13000\n",
      "Loss in 1000 steps  101735.51165\n",
      "Saved Model, step is 14000\n",
      "Loss in 1000 steps  101746.710258\n",
      "Saved Model, step is 15000\n",
      "Test on validation set\n",
      "('Processing val set indx: ', 0)\n",
      "('Val set loss: ', 48107.204406738281)\n",
      "Loss in 1000 steps  101586.047264\n",
      "Saved Model, step is 16000\n",
      "Loss in 1000 steps  101070.235748\n",
      "Saved Model, step is 17000\n",
      "Loss in 1000 steps  100267.776733\n",
      "Saved Model, step is 18000\n",
      "Loss in 1000 steps  100259.636818\n",
      "Saved Model, step is 19000\n",
      "Loss in 1000 steps  100444.777031\n",
      "Saved Model, step is 20000\n",
      "Test on validation set\n",
      "('Processing val set indx: ', 0)\n",
      "('Val set loss: ', 43461.399291992188)\n",
      "Loss in 1000 steps  100097.170975\n",
      "Saved Model, step is 21000\n",
      "Loss in 1000 steps  99856.586937\n",
      "Saved Model, step is 22000\n",
      "Loss in 1000 steps  99521.063652\n",
      "Saved Model, step is 23000\n",
      "Loss in 1000 steps  98889.638916\n",
      "Saved Model, step is 24000\n",
      "Loss in 1000 steps  99121.5520554\n",
      "Saved Model, step is 25000\n",
      "Test on validation set\n",
      "('Processing val set indx: ', 0)\n",
      "('Val set loss: ', 45545.661674499512)\n",
      "Loss in 1000 steps  99055.6845398\n",
      "Saved Model, step is 26000\n",
      "Loss in 1000 steps  98994.3514633\n",
      "Saved Model, step is 27000\n",
      "Loss in 1000 steps  98667.6787033\n",
      "Saved Model, step is 28000\n",
      "Loss in 1000 steps  98128.7225723\n",
      "Saved Model, step is 29000\n",
      "Loss in 1000 steps  98443.7173767\n",
      "Saved Model, step is 30000\n",
      "Test on validation set\n",
      "('Processing val set indx: ', 0)\n",
      "('Val set loss: ', 43597.41833114624)\n",
      "Loss in 1000 steps  98775.6038742\n",
      "Saved Model, step is 31000\n",
      "Loss in 1000 steps  97794.7958984\n",
      "Saved Model, step is 32000\n",
      "Loss in 1000 steps  97891.2655029\n",
      "Saved Model, step is 33000\n",
      "Loss in 1000 steps  97540.9402771\n",
      "Saved Model, step is 34000\n",
      "Loss in 1000 steps  97120.6951752\n",
      "Saved Model, step is 35000\n",
      "Test on validation set\n",
      "('Processing val set indx: ', 0)\n",
      "('Val set loss: ', 43099.180191040039)\n",
      "Loss in 1000 steps  97846.5820084\n",
      "Saved Model, step is 36000\n",
      "Loss in 1000 steps  97244.4829178\n",
      "Saved Model, step is 37000\n",
      "Loss in 1000 steps  97292.391449\n",
      "Saved Model, step is 38000\n",
      "Loss in 1000 steps  96804.512825\n",
      "Saved Model, step is 39000\n",
      "Loss in 1000 steps  97017.6362381\n",
      "Saved Model, step is 40000\n",
      "Test on validation set\n",
      "('Processing val set indx: ', 0)\n",
      "('Val set loss: ', 44121.176399230957)\n",
      "Loss in 1000 steps  97361.3682251\n",
      "Saved Model, step is 41000\n",
      "Loss in 1000 steps  96267.7319031\n",
      "Saved Model, step is 42000\n",
      "Loss in 1000 steps  96176.2967987\n",
      "Saved Model, step is 43000\n",
      "Loss in 1000 steps  96201.2913513\n",
      "Saved Model, step is 44000\n",
      "Loss in 1000 steps  96330.0726547\n",
      "Saved Model, step is 45000\n",
      "Test on validation set\n",
      "('Processing val set indx: ', 0)\n",
      "('Val set loss: ', 43476.404960632324)\n",
      "Loss in 1000 steps  96188.0182343\n",
      "Saved Model, step is 46000\n",
      "Loss in 1000 steps  96264.1604614\n",
      "Saved Model, step is 47000\n",
      "Loss in 1000 steps  96258.9417038\n",
      "Saved Model, step is 48000\n",
      "Loss in 1000 steps  96121.2570267\n",
      "Saved Model, step is 49000\n",
      "Loss in 1000 steps  95544.8804016\n",
      "Saved Model, step is 50000\n",
      "Test on validation set\n",
      "('Processing val set indx: ', 0)\n",
      "('Val set loss: ', 42851.422218322754)\n",
      "Loss in 1000 steps  96041.5809479\n",
      "Saved Model, step is 51000\n",
      "Loss in 1000 steps  95384.7380981\n",
      "Saved Model, step is 52000\n",
      "Loss in 1000 steps  95624.4095764\n",
      "Saved Model, step is 53000\n",
      "Loss in 1000 steps  95922.9637375\n",
      "Saved Model, step is 54000\n",
      "Loss in 1000 steps  95092.769516\n",
      "Saved Model, step is 55000\n",
      "Test on validation set\n",
      "('Processing val set indx: ', 0)\n",
      "('Val set loss: ', 43825.50757598877)\n",
      "Loss in 1000 steps  95389.3064194\n",
      "Saved Model, step is 56000\n",
      "Loss in 1000 steps  95269.1362076\n",
      "Saved Model, step is 57000\n",
      "Loss in 1000 steps  95242.7719727\n",
      "Saved Model, step is 58000\n",
      "Loss in 1000 steps  95576.6357574\n",
      "Saved Model, step is 59000\n",
      "Loss in 1000 steps  95665.4874268\n",
      "Saved Model, step is 60000\n",
      "Test on validation set\n",
      "('Processing val set indx: ', 0)\n",
      "('Val set loss: ', 43381.059562683105)\n",
      "Loss in 1000 steps  95039.8966446\n",
      "Saved Model, step is 61000\n",
      "Loss in 1000 steps  94859.2882538\n",
      "Saved Model, step is 62000\n",
      "Loss in 1000 steps  94961.784317\n",
      "Saved Model, step is 63000\n",
      "Loss in 1000 steps  95146.8288574\n",
      "Saved Model, step is 64000\n",
      "Loss in 1000 steps  94843.5111084\n",
      "Saved Model, step is 65000\n",
      "Test on validation set\n",
      "('Processing val set indx: ', 0)\n",
      "('Val set loss: ', 43714.91544342041)\n",
      "Loss in 1000 steps  94571.9046707\n",
      "Saved Model, step is 66000\n",
      "Loss in 1000 steps  94524.7551804\n",
      "Saved Model, step is 67000\n",
      "Loss in 1000 steps  94349.3627014\n",
      "Saved Model, step is 68000\n",
      "Loss in 1000 steps  94565.5579834\n",
      "Saved Model, step is 69000\n",
      "Loss in 1000 steps  94390.9510994\n",
      "Saved Model, step is 70000\n",
      "Test on validation set\n",
      "('Processing val set indx: ', 0)\n",
      "('Val set loss: ', 44464.68009185791)\n",
      "Loss in 1000 steps  94356.5508041\n",
      "Saved Model, step is 71000\n",
      "Loss in 1000 steps  94430.7152786\n",
      "Saved Model, step is 72000\n",
      "Loss in 1000 steps  94524.7754669\n",
      "Saved Model, step is 73000\n",
      "Loss in 1000 steps  94289.9775696\n",
      "Saved Model, step is 74000\n",
      "Loss in 1000 steps  94496.2133026\n",
      "Saved Model, step is 75000\n",
      "Test on validation set\n",
      "('Processing val set indx: ', 0)\n",
      "('Val set loss: ', 45750.707481384277)\n",
      "Loss in 1000 steps  94494.9500504\n",
      "Saved Model, step is 76000\n",
      "Loss in 1000 steps  94395.2599106\n",
      "Saved Model, step is 77000\n",
      "Loss in 1000 steps  94031.4764023\n",
      "Saved Model, step is 78000\n",
      "Loss in 1000 steps  94157.9856949\n",
      "Saved Model, step is 79000\n",
      "('Processing indx: ', 0)\n"
     ]
    }
   ],
   "source": [
    "# The main training loop is here\n",
    "num_steps = 80000 # How many steps to train for\n",
    "load_model = False #Whether to load a saved model.\n",
    "save_dir = \"./mix_density/\"\n",
    "save_path = \"./mix_density/ckpt\"#The path to save our model to\n",
    "tf.reset_default_graph()\n",
    "mdn = MDN()\n",
    "do_analysis = False\n",
    "\n",
    "saver = tf.train.Saver(tf.global_variables())\n",
    "\n",
    "init = tf.global_variables_initializer()\n",
    "\n",
    "trainables = tf.trainable_variables()\n",
    "\n",
    "#Make a path for our model to be saved in.\n",
    "if not os.path.exists(save_dir):\n",
    "    os.makedirs(save_dir)\n",
    "\n",
    "with tf.Session(config=config) as sess:\n",
    "    if load_model == True:\n",
    "        print('Trying to load model...')\n",
    "        try:\n",
    "            restorer = tf.train.import_meta_graph(save_path + '.meta')\n",
    "            restorer.restore(sess, tf.train.latest_checkpoint(save_dir))\n",
    "            print \"Model restored\"\n",
    "        except IOError:\n",
    "            print \"No previous model found, running default init\"\n",
    "            sess.run(init)\n",
    "    else:\n",
    "        print(\"Running default init\")\n",
    "        sess.run(init)\n",
    "    print(\"Init done\")    \n",
    "    \n",
    "    net_loss = 0.0\n",
    "    for i in range(num_steps):\n",
    "        \n",
    "        if do_analysis:\n",
    "            marginal_lik, cond_lik = get_probs_for_analysis('val', sess, mdn)\n",
    "            break\n",
    "\n",
    "        feat, labels = batch_sample(batch_size, train_feat, train_labels)\n",
    "        _, neg_log_lik = sess.run([mdn.train_step, mdn.neg_log_lik], \n",
    "                                  feed_dict={mdn.input_feat : feat, mdn.actions: labels, mdn.phase: 1})\n",
    "        net_loss += neg_log_lik\n",
    "        if i > 0 and i % 1000 == 0:\n",
    "            print \"Loss in 1000 steps \", net_loss\n",
    "            net_loss = 0\n",
    "            saver.save(sess,save_path)\n",
    "            print(\"Saved Model, step is \" + str(i))\n",
    "        \n",
    "        if i % 5000 == 0 and i > 0:\n",
    "            print \"Test on validation set\"\n",
    "            val_loss = run_eval('val', sess, mdn)\n",
    "            print('Val set loss: ', val_loss)      \n",
    "    marginal_lik, cond_lik = get_probs_for_analysis('val', sess, mdn)"
   ]
  },
  {
   "cell_type": "code",
   "execution_count": 60,
   "metadata": {
    "collapsed": true
   },
   "outputs": [],
   "source": [
    "np.save('./mix_density/marginal_lik_val.npy', marginal_lik)\n",
    "np.save('./mix_density/cond_lik_val.npy', cond_lik)"
   ]
  },
  {
   "cell_type": "code",
   "execution_count": null,
   "metadata": {
    "collapsed": true
   },
   "outputs": [],
   "source": [
    "# FIRSTLY, ARGMAX PLOTS"
   ]
  },
  {
   "cell_type": "code",
   "execution_count": 61,
   "metadata": {
    "collapsed": true
   },
   "outputs": [],
   "source": [
    "# get the argmaxes for the first analysis\n",
    "actions_chosen = np.argmax(marginal_lik, axis=1)\n",
    "val_labels_asvec = np.argmax(val_labels, axis=1)\n",
    "mix_actions_chosen = np.argmax(cond_lik, axis=2)"
   ]
  },
  {
   "cell_type": "code",
   "execution_count": 62,
   "metadata": {},
   "outputs": [
    {
     "data": {
      "text/plain": [
       "<matplotlib.axes._subplots.AxesSubplot at 0x7f00bc057e50>"
      ]
     },
     "execution_count": 62,
     "metadata": {},
     "output_type": "execute_result"
    },
    {
     "data": {
      "image/png": "[encoded data removed]",
      "text/plain": [
       "<matplotlib.figure.Figure at 0x7f00bc057c10>"
      ]
     },
     "metadata": {},
     "output_type": "display_data"
    }
   ],
   "source": [
    "pd.Series(actions_chosen).hist(bins=25)"
   ]
  },
  {
   "cell_type": "code",
   "execution_count": 63,
   "metadata": {},
   "outputs": [
    {
     "data": {
      "text/plain": [
       "<matplotlib.axes._subplots.AxesSubplot at 0x7f00bc0579d0>"
      ]
     },
     "execution_count": 63,
     "metadata": {},
     "output_type": "execute_result"
    },
    {
     "data": {
      "image/png": "[encoded data removed]",
      "text/plain": [
       "<matplotlib.figure.Figure at 0x7f00bc089990>"
      ]
     },
     "metadata": {},
     "output_type": "display_data"
    }
   ],
   "source": [
    "pd.Series(val_labels_asvec).hist(bins=25)"
   ]
  },
  {
   "cell_type": "code",
   "execution_count": 64,
   "metadata": {},
   "outputs": [
    {
     "name": "stdout",
     "output_type": "stream",
     "text": [
      "6366\n"
     ]
    },
    {
     "data": {
      "image/png": "[encoded data removed]",
      "text/plain": [
       "<matplotlib.figure.Figure at 0x7f00e403df10>"
      ]
     },
     "metadata": {},
     "output_type": "display_data"
    },
    {
     "name": "stdout",
     "output_type": "stream",
     "text": [
      "5222\n"
     ]
    },
    {
     "data": {
      "image/png": "[encoded data removed]",
      "text/plain": [
       "<matplotlib.figure.Figure at 0x7f00ac172690>"
      ]
     },
     "metadata": {},
     "output_type": "display_data"
    },
    {
     "name": "stdout",
     "output_type": "stream",
     "text": [
      "5827\n"
     ]
    },
    {
     "data": {
      "image/png": "[encoded data removed]",
      "text/plain": [
       "<matplotlib.figure.Figure at 0x7f00ac0c2550>"
      ]
     },
     "metadata": {},
     "output_type": "display_data"
    },
    {
     "name": "stdout",
     "output_type": "stream",
     "text": [
      "7075\n"
     ]
    },
    {
     "data": {
      "image/png": "[encoded data removed]",
      "text/plain": [
       "<matplotlib.figure.Figure at 0x7f0099fe4410>"
      ]
     },
     "metadata": {},
     "output_type": "display_data"
    },
    {
     "name": "stdout",
     "output_type": "stream",
     "text": [
      "6119\n"
     ]
    },
    {
     "data": {
      "image/png": "[encoded data removed]",
      "text/plain": [
       "<matplotlib.figure.Figure at 0x7f0099f1bc50>"
      ]
     },
     "metadata": {},
     "output_type": "display_data"
    }
   ],
   "source": [
    "for i in range(num_mix_comp):\n",
    "    pd.Series(mix_actions_chosen[:,i]).hist(bins=25)\n",
    "    print sum(mix_actions_chosen[:,i] == val_labels_asvec)\n",
    "    plt.show()"
   ]
  },
  {
   "cell_type": "code",
   "execution_count": 71,
   "metadata": {
    "collapsed": true
   },
   "outputs": [],
   "source": [
    "# get the means for the second analysis\n",
    "ml_mean = np.mean(marginal_lik, axis=0)\n",
    "cl_mean = np.mean(cond_lik, axis=0)"
   ]
  },
  {
   "cell_type": "code",
   "execution_count": 73,
   "metadata": {},
   "outputs": [
    {
     "data": {
      "image/png": "[encoded data removed]",
      "text/plain": [
       "<matplotlib.figure.Figure at 0x7f0099bc4bd0>"
      ]
     },
     "metadata": {},
     "output_type": "display_data"
    }
   ],
   "source": [
    "_ = plt.bar(range(25), ml_mean)"
   ]
  },
  {
   "cell_type": "code",
   "execution_count": 74,
   "metadata": {
    "scrolled": true
   },
   "outputs": [
    {
     "data": {
      "image/png": "[encoded data removed]",
      "text/plain": [
       "<matplotlib.figure.Figure at 0x7f0099bcf190>"
      ]
     },
     "metadata": {},
     "output_type": "display_data"
    },
    {
     "data": {
      "image/png": "[encoded data removed]",
      "text/plain": [
       "<matplotlib.figure.Figure at 0x7f0099aad9d0>"
      ]
     },
     "metadata": {},
     "output_type": "display_data"
    },
    {
     "data": {
      "image/png": "[encoded data removed]",
      "text/plain": [
       "<matplotlib.figure.Figure at 0x7f0099911f10>"
      ]
     },
     "metadata": {},
     "output_type": "display_data"
    },
    {
     "data": {
      "image/png": "[encoded data removed]",
      "text/plain": [
       "<matplotlib.figure.Figure at 0x7f0099836cd0>"
      ]
     },
     "metadata": {},
     "output_type": "display_data"
    },
    {
     "data": {
      "image/png": "[encoded data removed]",
      "text/plain": [
       "<matplotlib.figure.Figure at 0x7f00998f2ad0>"
      ]
     },
     "metadata": {},
     "output_type": "display_data"
    }
   ],
   "source": [
    "for i in range(num_mix_comp):\n",
    "    _ = plt.bar(range(25), cl_mean[i,:])\n",
    "    plt.show()"
   ]
  },
  {
   "cell_type": "code",
   "execution_count": 89,
   "metadata": {
    "collapsed": true
   },
   "outputs": [],
   "source": [
    "# the ones above are for all patients.\n",
    "# Now consider when we stratify by severity -- select entries that have SOFA scores in certain ranges\n",
    "# consider the argmax actions\n",
    "df_orig = pd.read_csv('../data/MKdataset07Feb17.csv')\n",
    "df_orig_val = df_orig.loc[df_orig['icustayid'].isin(val_df['icustayid'].unique())]\n",
    "del df_orig"
   ]
  },
  {
   "cell_type": "code",
   "execution_count": 91,
   "metadata": {
    "collapsed": true
   },
   "outputs": [],
   "source": [
    "low_sofa = np.array(df_orig_val['SOFA'] <= 5)\n",
    "med_sofa = np.array(df_orig_val['SOFA'] > 5)\n",
    "med_sofa[(df_orig_val['SOFA']) > 15] = False\n",
    "high_sofa = np.array(df_orig_val['SOFA'] > 15)"
   ]
  },
  {
   "cell_type": "code",
   "execution_count": 96,
   "metadata": {
    "collapsed": true
   },
   "outputs": [],
   "source": [
    "# get the means for the third analysis for all three regimes\n",
    "ml_mean_lowsofa = np.mean(marginal_lik[low_sofa], axis=0)\n",
    "cl_mean_lowsofa= np.mean(cond_lik[low_sofa], axis=0)\n",
    "\n",
    "ml_mean_medsofa = np.mean(marginal_lik[med_sofa], axis=0)\n",
    "cl_mean_medsofa= np.mean(cond_lik[med_sofa], axis=0)\n",
    "\n",
    "ml_mean_highsofa = np.mean(marginal_lik[high_sofa], axis=0)\n",
    "cl_mean_highsofa= np.mean(cond_lik[high_sofa], axis=0)"
   ]
  },
  {
   "cell_type": "code",
   "execution_count": 98,
   "metadata": {},
   "outputs": [
    {
     "data": {
      "image/png": "[encoded data removed]",
      "text/plain": [
       "<matplotlib.figure.Figure at 0x7f0099e5ad10>"
      ]
     },
     "metadata": {},
     "output_type": "display_data"
    },
    {
     "data": {
      "image/png": "[encoded data removed]",
      "text/plain": [
       "<matplotlib.figure.Figure at 0x7f00e41c4dd0>"
      ]
     },
     "metadata": {},
     "output_type": "display_data"
    },
    {
     "data": {
      "image/png": "[encoded data removed]",
      "text/plain": [
       "<matplotlib.figure.Figure at 0x7f00e5ef3690>"
      ]
     },
     "metadata": {},
     "output_type": "display_data"
    }
   ],
   "source": [
    "for m in [ml_mean_lowsofa, ml_mean_medsofa, ml_mean_highsofa]:\n",
    "    _ = plt.bar(range(25), m)\n",
    "    plt.show()"
   ]
  },
  {
   "cell_type": "code",
   "execution_count": 100,
   "metadata": {
    "scrolled": false
   },
   "outputs": [
    {
     "name": "stdout",
     "output_type": "stream",
     "text": [
      "LOW SOFA\n"
     ]
    },
    {
     "data": {
      "image/png": "[encoded data removed]",
      "text/plain": [
       "<matplotlib.figure.Figure at 0x7f0104026110>"
      ]
     },
     "metadata": {},
     "output_type": "display_data"
    },
    {
     "data": {
      "image/png": "[encoded data removed]",
      "text/plain": [
       "<matplotlib.figure.Figure at 0x7f00e5ef3ad0>"
      ]
     },
     "metadata": {},
     "output_type": "display_data"
    },
    {
     "data": {
      "image/png": "[encoded data removed]",
      "text/plain": [
       "<matplotlib.figure.Figure at 0x7f00e41d0350>"
      ]
     },
     "metadata": {},
     "output_type": "display_data"
    },
    {
     "data": {
      "image/png": "[encoded data removed]",
      "text/plain": [
       "<matplotlib.figure.Figure at 0x7f01dc2ba610>"
      ]
     },
     "metadata": {},
     "output_type": "display_data"
    },
    {
     "data": {
      "image/png": "[encoded data removed]",
      "text/plain": [
       "<matplotlib.figure.Figure at 0x7f0104679590>"
      ]
     },
     "metadata": {},
     "output_type": "display_data"
    },
    {
     "name": "stdout",
     "output_type": "stream",
     "text": [
      "MED SOFA\n"
     ]
    },
    {
     "data": {
      "image/png": "[encoded data removed]",
      "text/plain": [
       "<matplotlib.figure.Figure at 0x7f0174700090>"
      ]
     },
     "metadata": {},
     "output_type": "display_data"
    },
    {
     "data": {
      "image/png": "[encoded data removed]",
      "text/plain": [
       "<matplotlib.figure.Figure at 0x7f0104662050>"
      ]
     },
     "metadata": {},
     "output_type": "display_data"
    },
    {
     "data": {
      "image/png": "[encoded data removed]",
      "text/plain": [
       "<matplotlib.figure.Figure at 0x7f0174714f10>"
      ]
     },
     "metadata": {},
     "output_type": "display_data"
    },
    {
     "data": {
      "image/png": "[encoded data removed]",
      "text/plain": [
       "<matplotlib.figure.Figure at 0x7f00999f05d0>"
      ]
     },
     "metadata": {},
     "output_type": "display_data"
    },
    {
     "data": {
      "image/png": "[encoded data removed]",
      "text/plain": [
       "<matplotlib.figure.Figure at 0x7f01040a6f10>"
      ]
     },
     "metadata": {},
     "output_type": "display_data"
    },
    {
     "name": "stdout",
     "output_type": "stream",
     "text": [
      "HIGH SOFA\n"
     ]
    },
    {
     "data": {
      "image/png": "[encoded data removed]",
      "text/plain": [
       "<matplotlib.figure.Figure at 0x7f0104785490>"
      ]
     },
     "metadata": {},
     "output_type": "display_data"
    },
    {
     "data": {
      "image/png": "[encoded data removed]",
      "text/plain": [
       "<matplotlib.figure.Figure at 0x7f00ac017ed0>"
      ]
     },
     "metadata": {},
     "output_type": "display_data"
    },
    {
     "data": {
      "image/png": "[encoded data removed]",
      "text/plain": [
       "<matplotlib.figure.Figure at 0x7f020404dc90>"
      ]
     },
     "metadata": {},
     "output_type": "display_data"
    },
    {
     "data": {
      "image/png": "[encoded data removed]",
      "text/plain": [
       "<matplotlib.figure.Figure at 0x7f00ac01e610>"
      ]
     },
     "metadata": {},
     "output_type": "display_data"
    },
    {
     "data": {
      "image/png": "[encoded data removed]",
      "text/plain": [
       "<matplotlib.figure.Figure at 0x7f00ac10b950>"
      ]
     },
     "metadata": {},
     "output_type": "display_data"
    }
   ],
   "source": [
    "for ind, c in enumerate([cl_mean_lowsofa, cl_mean_medsofa, cl_mean_highsofa]):\n",
    "    if ind == 0:\n",
    "        print \"LOW SOFA\"\n",
    "    elif ind == 1:\n",
    "        print \"MED SOFA\"\n",
    "    elif ind == 2:\n",
    "        print \"HIGH SOFA\"\n",
    "    for i in range(num_mix_comp):\n",
    "        _ = plt.bar(range(25), c[i,:])\n",
    "        plt.show()"
   ]
  },
  {
   "cell_type": "code",
   "execution_count": null,
   "metadata": {
    "collapsed": true
   },
   "outputs": [],
   "source": []
  }
 ],
 "metadata": {
  "kernelspec": {
   "display_name": "Python 2",
   "language": "python",
   "name": "python2"
  },
  "language_info": {
   "codemirror_mode": {
    "name": "ipython",
    "version": 2
   },
   "file_extension": ".py",
   "mimetype": "text/x-python",
   "name": "python",
   "nbconvert_exporter": "python",
   "pygments_lexer": "ipython2",
   "version": "2.7.6"
  }
 },
 "nbformat": 4,
 "nbformat_minor": 2
}
