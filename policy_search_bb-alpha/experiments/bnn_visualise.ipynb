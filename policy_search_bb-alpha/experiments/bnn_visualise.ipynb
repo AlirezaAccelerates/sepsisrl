{
 "cells": [
  {
   "cell_type": "code",
   "execution_count": 2,
   "metadata": {
    "collapsed": true
   },
   "outputs": [],
   "source": [
    "%matplotlib inline\n",
    "import matplotlib.pyplot as plt\n",
    "import numpy as np\n",
    "import pandas as pd\n",
    "import cPickle as pickle\n",
    "import lasagne\n",
    "import sys\n",
    "sys.path.append('../')\n",
    "\n",
    "from models.AD import AD"
   ]
  },
  {
   "cell_type": "code",
   "execution_count": 3,
   "metadata": {
    "collapsed": true
   },
   "outputs": [],
   "source": [
    "# some initial stuff\n",
    "seed = 3\n",
    "np.random.seed(seed)\n",
    "params_task = {}\n",
    "params_task['task'] = 'sepsis_controller'\n",
    "params_task['seed'] = seed"
   ]
  },
  {
   "cell_type": "code",
   "execution_count": 4,
   "metadata": {
    "collapsed": true
   },
   "outputs": [],
   "source": [
    "# load the data\n",
    "dire = '../environment/out/' \n",
    "\n",
    "X_train = np.loadtxt(dire+'X_train.txt')\n",
    "Y_train = np.loadtxt(dire+'Y_train.txt')\n",
    "X_test = np.loadtxt(dire+'X_val.txt')\n",
    "Y_test = np.loadtxt(dire+'Y_val.txt')"
   ]
  },
  {
   "cell_type": "code",
   "execution_count": 5,
   "metadata": {
    "collapsed": true
   },
   "outputs": [],
   "source": [
    "# load in the saved factors for the rewards\n",
    "sofa_mean = float(np.load('../../data/sofa_mean.npy'))\n",
    "sofa_std = float(np.load('../../data/sofa_std.npy'))\n",
    "lact_mean = float(np.load('../../data/lact_mean.npy'))\n",
    "lact_std = float(np.load('../../data/lact_std.npy'))\n",
    "\n",
    "# load in the state vector so we know what indices SOFA and lactate are stored at\n",
    "state_vec = list(np.loadtxt('../../data/state_features.txt', dtype=str))\n",
    "\n",
    "sofa_index = state_vec.index('SOFA')\n",
    "lact_index = state_vec.index('Arterial_lactate')"
   ]
  },
  {
   "cell_type": "code",
   "execution_count": 6,
   "metadata": {},
   "outputs": [
    {
     "name": "stdout",
     "output_type": "stream",
     "text": [
      "6.32323667365 3.49480112336 2.01549668201 1.52264007734\n"
     ]
    }
   ],
   "source": [
    "print sofa_mean, sofa_std, lact_mean, lact_std"
   ]
  },
  {
   "cell_type": "code",
   "execution_count": 8,
   "metadata": {},
   "outputs": [
    {
     "name": "stdout",
     "output_type": "stream",
     "text": [
      "models/AD_0.5.p\n",
      "[51, 100, 100, 42]\n"
     ]
    }
   ],
   "source": [
    "# restore the saved BNN model\n",
    "dire = 'models/'\n",
    "alpha = \"0.5\"\n",
    "fstr = 'AD_'+alpha+ '.p'\n",
    "params_model = pickle.load(open(dire+fstr,'rb'))['params_model']\n",
    "params_model['saved'] = dire+fstr\n",
    "\n",
    "# load the model\n",
    "print params_model['saved']\n",
    "model = AD(params_model,params_task,X_train,Y_train, X_test, Y_test)\n",
    "model.loadWeights() "
   ]
  },
  {
   "cell_type": "code",
   "execution_count": 9,
   "metadata": {
    "collapsed": true
   },
   "outputs": [],
   "source": [
    "# roughly, code:\n",
    "# Run the BNN for X steps, resample noise. Grab predicted means for each sample for each timestep for each feature\n",
    "# Extract SOFA and lactate -- the two important features\n",
    "# Compute NEW VALUES; the output is the CHANGE IN THE VALUES!!!!!\n",
    "# Unscale these two: val * std_dev + mean\n",
    "# Compute the mean of the unscaled samples on a per timestep basis (average across draws from the posterior)\n",
    "# Resample on a per timestep basis from the collection of draws from the posterior. N draws from posterior -->\n",
    "# each resample has N elems\n",
    "# For each resample, compute delta_star = mean(resample, per_timestep) - mean(orig samples). \n",
    "# Sort delta_star; take elem 9499 and elem 499 on a per-timestep basis to form the CI bounds\n",
    "# For each timestep, plot: mean_orig, mean_orig-delta_95, mean_orig-delta_5."
   ]
  },
  {
   "cell_type": "code",
   "execution_count": 10,
   "metadata": {
    "collapsed": true
   },
   "outputs": [],
   "source": [
    "# as test: extract first 14 rows of train -- X_train[:14] and first 11 points of X_val: X_val[:11]"
   ]
  },
  {
   "cell_type": "code",
   "execution_count": 11,
   "metadata": {
    "collapsed": true
   },
   "outputs": [],
   "source": [
    "train_batch = X_train[:14]\n",
    "val_batch = X_test[:11]"
   ]
  },
  {
   "cell_type": "code",
   "execution_count": 12,
   "metadata": {
    "collapsed": true
   },
   "outputs": [],
   "source": [
    "df = pd.read_csv('../../data/rl_train_set_unscaled.csv')"
   ]
  },
  {
   "cell_type": "code",
   "execution_count": 13,
   "metadata": {
    "collapsed": true
   },
   "outputs": [],
   "source": [
    "df = df.iloc[:14]"
   ]
  },
  {
   "cell_type": "code",
   "execution_count": 14,
   "metadata": {},
   "outputs": [
    {
     "data": {
      "text/plain": [
       "29"
      ]
     },
     "execution_count": 14,
     "metadata": {},
     "output_type": "execute_result"
    }
   ],
   "source": [
    "sofa_index"
   ]
  },
  {
   "cell_type": "code",
   "execution_count": 15,
   "metadata": {},
   "outputs": [
    {
     "data": {
      "text/plain": [
       "(14, 50)"
      ]
     },
     "execution_count": 15,
     "metadata": {},
     "output_type": "execute_result"
    }
   ],
   "source": [
    "train_batch.shape"
   ]
  },
  {
   "cell_type": "code",
   "execution_count": 16,
   "metadata": {
    "collapsed": true
   },
   "outputs": [],
   "source": [
    "def sofa_evolution_plot_per_timestep(df_batch, batch):\n",
    "    n_samples = 1\n",
    "    model.bb_alpha.network.update_randomness(n_samples)\n",
    "    \n",
    "    # NOTE: model predicts change from timestep t to timestep t+1 \n",
    "    # need to add these on to the actual data points!\n",
    "    m,_ = model.predict(np.tile(batch,[n_samples,1,1]))\n",
    "    \n",
    "    # extract predicted change in sofa, unscale\n",
    "    m_sofa = m[:, :, sofa_index]*sofa_std\n",
    "    \n",
    "    # These are the points in the actual dataset\n",
    "    sofa_scores = df_batch['SOFA'].values\n",
    "    sofa_scores = sofa_scores*sofa_std + sofa_mean\n",
    "    \n",
    "    # after line below, m_sofa is the predicted sofa at the next timestep\n",
    "    m_sofa += sofa_scores\n",
    "    \n",
    "    # calculate the mean across the BNN samples\n",
    "    m_sofa_mean = np.mean(m_sofa, axis=0)\n",
    "    for i in zip( np.mean(m[:, :, sofa_index], axis=0), Y_train[:14, sofa_index]):\n",
    "        print i\n",
    "#     return\n",
    "    deltas = []\n",
    "    for t in range(m_sofa.shape[1]):\n",
    "        resampled = np.random.choice(m_sofa[:,t], size=(10000,n_samples))\n",
    "        resampled_mean = np.mean(resampled, axis=1)\n",
    "        dstar = resampled_mean - m_sofa_mean[t]\n",
    "        deltas.append(dstar)\n",
    "    deltas = np.array(deltas)\n",
    "    deltas_05 = deltas[:, 9499]\n",
    "    deltas_95 = deltas[:, 499]\n",
    "    \n",
    "    # for confidence intervals\n",
    "    lb = m_sofa_mean - deltas_05\n",
    "    ub = m_sofa_mean - deltas_95\n",
    "    \n",
    "    # m_sofa_mean, lb, ub all go from timestep t=1 to t=Traj_end+1\n",
    "    # sofa_scores go from t=0 to t=Traj_end\n",
    "    # plot accordingly\n",
    "    pred_index = range(1,len(batch)+1)\n",
    "    actual_index = range(0,len(batch))\n",
    "    \n",
    "    real_targets = sofa_scores + (sofa_std*Y_train[:14, sofa_index])\n",
    "    \n",
    "    plt.plot(pred_index, m_sofa_mean)\n",
    "    plt.fill_between(pred_index, lb,  \n",
    "                     ub, color='#ADD8E6')\n",
    "    plt.plot(actual_index, sofa_scores) \n",
    "    plt.plot(pred_index, real_targets)\n",
    "    \n",
    "    for i in zip(m_sofa_mean, sofa_scores, real_targets):\n",
    "        print i\n"
   ]
  },
  {
   "cell_type": "code",
   "execution_count": 17,
   "metadata": {
    "scrolled": true
   },
   "outputs": [
    {
     "name": "stdout",
     "output_type": "stream",
     "text": [
      "HERE\n",
      "(0.14618953496523379, -0.28610000000000002)\n",
      "(0.16579169756884549, -0.28610000000000002)\n",
      "(1.3257705000001434, -0.28610000000000002)\n",
      "(0.11612789819564033, -0.28610000000000002)\n",
      "(-0.12468530326411353, 0.85840000000000005)\n",
      "(-0.34638844086991261, 1.4307000000000001)\n",
      "(-0.22358357736781856, -0.57230000000000003)\n",
      "(0.15687385792772218, -0.85840000000000005)\n",
      "(-0.036781239697837788, 0.85840000000000005)\n",
      "(-0.14030727712648791, 0.0)\n",
      "(-0.19110367065772407, 0.0)\n",
      "(-0.14147766137079912, 0.0)\n",
      "(-0.11632410257866427, 0.0)\n",
      "(0.22733494431483894, -0.28610000000000002)\n",
      "(9.5109033510199286, 8.9999999999995097, 8.0001373986053466)\n",
      "(8.5794090109072894, 7.9999999999994245, 7.0001373986052604)\n",
      "(11.633304232721411, 6.9999999999993392, 6.0001373986051751)\n",
      "(6.4058439090678645, 5.9999999999999529, 5.0001373986057889)\n",
      "(4.564249662084884, 4.9999999999991687, 7.9999372842939964)\n",
      "(6.7894412877272838, 7.9999999999994245, 13.000011967194915)\n",
      "(12.218619862635295, 12.999999999985873, 10.999925317085209)\n",
      "(11.548242934918767, 11.00000000000667, 8.0000627157118416)\n",
      "(7.8714568821847362, 7.9999999999994245, 10.999937284294251)\n",
      "(10.509653970289012, 11.00000000000667, 11.00000000000667)\n",
      "(10.332130677113257, 11.00000000000667, 11.00000000000667)\n",
      "(10.505563710117226, 11.00000000000667, 11.00000000000667)\n",
      "(10.593470395640558, 11.00000000000667, 11.00000000000667)\n",
      "(11.794490418777842, 11.00000000000667, 10.000137398612507)\n"
     ]
    },
    {
     "data": {
      "image/png": "[encoded data removed]",
      "text/plain": [
       "<matplotlib.figure.Figure at 0x7ff5912d18d0>"
      ]
     },
     "metadata": {},
     "output_type": "display_data"
    }
   ],
   "source": [
    "sofa_evolution_plot_per_timestep(df,train_batch)"
   ]
  },
  {
   "cell_type": "code",
   "execution_count": 248,
   "metadata": {},
   "outputs": [
    {
     "name": "stdout",
     "output_type": "stream",
     "text": [
      "7.00013739861\n"
     ]
    }
   ],
   "source": [
    "print df.loc[1, 'SOFA']*sofa_std + Y_train[1,sofa_index]*sofa_std + sofa_mean"
   ]
  },
  {
   "cell_type": "code",
   "execution_count": 249,
   "metadata": {},
   "outputs": [
    {
     "name": "stdout",
     "output_type": "stream",
     "text": [
      "[-0.3477 -1.0931  2.0258 -0.3647 -0.0616 -1.3743 -0.9994 -0.3279 -0.3174\n",
      "  0.1119  2.4003  0.7711 -0.5605 -0.3157  2.0355  0.6278  1.5671 -0.8719\n",
      " -2.3569 -0.9913  1.1483 -0.2031 -1.0304 -0.8884 -1.7178  2.0418 -0.0818\n",
      "  0.4111  2.2784  0.7659  2.4987  0.2603 -0.1879 -1.142   1.9456  1.3176\n",
      "  0.3345 -0.2181 -0.9736 -1.8038 -0.5    -0.5     0.4229 -0.3765 -0.7665\n",
      " -0.5879 -0.5    -2.3116  0.8    -0.8   ]\n"
     ]
    }
   ],
   "source": [
    "print X_train[0]"
   ]
  },
  {
   "cell_type": "code",
   "execution_count": 254,
   "metadata": {
    "scrolled": true
   },
   "outputs": [
    {
     "name": "stdout",
     "output_type": "stream",
     "text": [
      "[-0.34769535 -1.09309218  2.02575997 -0.36474368 -0.06160668 -1.37431257\n",
      " -0.99938172 -0.32791879 -0.31735819  0.11191742  2.40025873  0.77113175\n",
      " -0.56047275 -0.31567671  2.03549534  0.6278409   1.56711666 -0.87188875\n",
      " -2.35693612 -0.99129205  1.14829258 -0.20312503 -1.03042843 -0.88836621\n",
      " -1.7177655   2.041844   -0.08180852  0.41109717  2.27842128  0.76592723\n",
      "  2.49873352  0.26034904 -0.18793172 -1.14202951  1.94561009  1.31756146\n",
      "  0.33446219 -0.21812426 -0.97355177 -1.80382573 -0.5        -0.5\n",
      "  0.42293671 -0.37647854 -0.76647805 -0.58790611 -0.5        -2.31157255]\n"
     ]
    }
   ],
   "source": [
    "print df[state_vec].values[0]"
   ]
  },
  {
   "cell_type": "code",
   "execution_count": 244,
   "metadata": {},
   "outputs": [
    {
     "name": "stdout",
     "output_type": "stream",
     "text": [
      "[  9.   8.   7.   6.   5.   8.  13.  11.   8.  11.  11.  11.  11.  11.]\n"
     ]
    }
   ],
   "source": [
    "sofa_scores = df['SOFA'].values\n",
    "sofa_scores = sofa_scores*sofa_std + sofa_mean\n",
    "print sofa_scores"
   ]
  },
  {
   "cell_type": "code",
   "execution_count": 256,
   "metadata": {},
   "outputs": [
    {
     "name": "stdout",
     "output_type": "stream",
     "text": [
      "[-0.3477 -1.0931  2.0258 -0.3647 -0.0616 -1.3743 -0.9994 -0.3279 -0.3174\n",
      "  0.2469  2.4003  0.7711 -0.5605 -0.3157  1.5108  0.6278  1.5671 -0.8719\n",
      " -2.3569 -0.8434  1.1483 -0.2031 -1.0304 -0.8884 -1.7178  2.3798 -0.0818\n",
      "  0.4111  1.3348  0.4798  2.2732  0.2603 -1.2355 -1.3144  0.6021  1.3176\n",
      "  0.3345 -0.2181 -0.9736 -1.8038 -0.5    -0.5     0.6456 -0.0375 -0.7665\n",
      " -0.5879 -0.5    -1.4723]\n"
     ]
    }
   ],
   "source": [
    "print Y_train[0][:-1] + X_train[0][:-2]"
   ]
  },
  {
   "cell_type": "code",
   "execution_count": 255,
   "metadata": {},
   "outputs": [
    {
     "name": "stdout",
     "output_type": "stream",
     "text": [
      "[-0.3477 -1.0931  2.0258 -0.3647 -0.0616 -1.3743 -0.9994 -0.3279 -0.3174\n",
      "  0.2469  2.4003  0.7711 -0.5605 -0.3157  1.5108  0.6278  1.5671 -0.8719\n",
      " -2.3569 -0.8433  1.1483 -0.2031 -1.0304 -0.8884 -1.7178  2.3799 -0.0818\n",
      "  0.4111  1.3348  0.4798  2.2733  0.2603 -1.2355 -1.3144  0.6021  1.3176\n",
      "  0.3345 -0.2181 -0.9736 -1.8038 -0.5    -0.5     0.6457 -0.0375 -0.7665\n",
      " -0.5879 -0.5    -1.4723  0.8    -0.8   ]\n"
     ]
    }
   ],
   "source": [
    "print X_train[1]"
   ]
  },
  {
   "cell_type": "code",
   "execution_count": 175,
   "metadata": {
    "scrolled": true
   },
   "outputs": [
    {
     "data": {
      "text/html": [
       "<div>\n",
       "<style>\n",
       "    .dataframe thead tr:only-child th {\n",
       "        text-align: right;\n",
       "    }\n",
       "\n",
       "    .dataframe thead th {\n",
       "        text-align: left;\n",
       "    }\n",
       "\n",
       "    .dataframe tbody tr th {\n",
       "        vertical-align: top;\n",
       "    }\n",
       "</style>\n",
       "<table border=\"1\" class=\"dataframe\">\n",
       "  <thead>\n",
       "    <tr style=\"text-align: right;\">\n",
       "      <th></th>\n",
       "      <th>bloc</th>\n",
       "      <th>icustayid</th>\n",
       "      <th>charttime</th>\n",
       "      <th>gender</th>\n",
       "      <th>age</th>\n",
       "      <th>elixhauser</th>\n",
       "      <th>re_admission</th>\n",
       "      <th>died_in_hosp</th>\n",
       "      <th>mortality_90d</th>\n",
       "      <th>Weight_kg</th>\n",
       "      <th>...</th>\n",
       "      <th>median_dose_vaso</th>\n",
       "      <th>max_dose_vaso</th>\n",
       "      <th>input_total_tev</th>\n",
       "      <th>input_4hourly_tev</th>\n",
       "      <th>output_total</th>\n",
       "      <th>output_4hourly</th>\n",
       "      <th>cumulated_balance_tev</th>\n",
       "      <th>vaso_input</th>\n",
       "      <th>iv_input</th>\n",
       "      <th>reward</th>\n",
       "    </tr>\n",
       "  </thead>\n",
       "  <tbody>\n",
       "    <tr>\n",
       "      <th>0</th>\n",
       "      <td>-2.311573</td>\n",
       "      <td>3</td>\n",
       "      <td>7245052800</td>\n",
       "      <td>-0.5</td>\n",
       "      <td>-0.973552</td>\n",
       "      <td>-1.803826</td>\n",
       "      <td>-0.5</td>\n",
       "      <td>0</td>\n",
       "      <td>1</td>\n",
       "      <td>-0.218124</td>\n",
       "      <td>...</td>\n",
       "      <td>0.0</td>\n",
       "      <td>-0.378832</td>\n",
       "      <td>0.139523</td>\n",
       "      <td>1.257985</td>\n",
       "      <td>-0.376479</td>\n",
       "      <td>0.422937</td>\n",
       "      <td>0.097512</td>\n",
       "      <td>0.0</td>\n",
       "      <td>4.0</td>\n",
       "      <td>0</td>\n",
       "    </tr>\n",
       "    <tr>\n",
       "      <th>1</th>\n",
       "      <td>-1.472264</td>\n",
       "      <td>3</td>\n",
       "      <td>7245067200</td>\n",
       "      <td>-0.5</td>\n",
       "      <td>-0.973552</td>\n",
       "      <td>-1.803826</td>\n",
       "      <td>-0.5</td>\n",
       "      <td>0</td>\n",
       "      <td>1</td>\n",
       "      <td>-0.218124</td>\n",
       "      <td>...</td>\n",
       "      <td>0.0</td>\n",
       "      <td>-0.378832</td>\n",
       "      <td>0.324790</td>\n",
       "      <td>1.243446</td>\n",
       "      <td>-0.037480</td>\n",
       "      <td>0.645655</td>\n",
       "      <td>0.326743</td>\n",
       "      <td>0.0</td>\n",
       "      <td>4.0</td>\n",
       "      <td>0</td>\n",
       "    </tr>\n",
       "    <tr>\n",
       "      <th>2</th>\n",
       "      <td>-0.966747</td>\n",
       "      <td>3</td>\n",
       "      <td>7245081600</td>\n",
       "      <td>-0.5</td>\n",
       "      <td>-0.973552</td>\n",
       "      <td>-1.803826</td>\n",
       "      <td>-0.5</td>\n",
       "      <td>0</td>\n",
       "      <td>1</td>\n",
       "      <td>-0.218124</td>\n",
       "      <td>...</td>\n",
       "      <td>0.0</td>\n",
       "      <td>-0.378832</td>\n",
       "      <td>0.332546</td>\n",
       "      <td>0.374560</td>\n",
       "      <td>0.327893</td>\n",
       "      <td>1.033948</td>\n",
       "      <td>0.102300</td>\n",
       "      <td>0.0</td>\n",
       "      <td>2.0</td>\n",
       "      <td>0</td>\n",
       "    </tr>\n",
       "    <tr>\n",
       "      <th>3</th>\n",
       "      <td>-0.603852</td>\n",
       "      <td>3</td>\n",
       "      <td>7245096000</td>\n",
       "      <td>-0.5</td>\n",
       "      <td>-0.973552</td>\n",
       "      <td>-1.803826</td>\n",
       "      <td>-0.5</td>\n",
       "      <td>0</td>\n",
       "      <td>1</td>\n",
       "      <td>-0.218124</td>\n",
       "      <td>...</td>\n",
       "      <td>0.0</td>\n",
       "      <td>-0.378832</td>\n",
       "      <td>0.336913</td>\n",
       "      <td>0.209693</td>\n",
       "      <td>0.400830</td>\n",
       "      <td>0.734782</td>\n",
       "      <td>0.018508</td>\n",
       "      <td>0.0</td>\n",
       "      <td>2.0</td>\n",
       "      <td>0</td>\n",
       "    </tr>\n",
       "    <tr>\n",
       "      <th>4</th>\n",
       "      <td>-0.320563</td>\n",
       "      <td>3</td>\n",
       "      <td>7245110400</td>\n",
       "      <td>-0.5</td>\n",
       "      <td>-0.973552</td>\n",
       "      <td>-1.803826</td>\n",
       "      <td>-0.5</td>\n",
       "      <td>0</td>\n",
       "      <td>1</td>\n",
       "      <td>-0.218124</td>\n",
       "      <td>...</td>\n",
       "      <td>0.0</td>\n",
       "      <td>-0.378832</td>\n",
       "      <td>0.341234</td>\n",
       "      <td>0.209693</td>\n",
       "      <td>0.442817</td>\n",
       "      <td>0.619696</td>\n",
       "      <td>-0.036855</td>\n",
       "      <td>0.0</td>\n",
       "      <td>2.0</td>\n",
       "      <td>0</td>\n",
       "    </tr>\n",
       "  </tbody>\n",
       "</table>\n",
       "<p>5 rows × 60 columns</p>\n",
       "</div>"
      ],
      "text/plain": [
       "       bloc  icustayid   charttime  gender       age  elixhauser  \\\n",
       "0 -2.311573          3  7245052800    -0.5 -0.973552   -1.803826   \n",
       "1 -1.472264          3  7245067200    -0.5 -0.973552   -1.803826   \n",
       "2 -0.966747          3  7245081600    -0.5 -0.973552   -1.803826   \n",
       "3 -0.603852          3  7245096000    -0.5 -0.973552   -1.803826   \n",
       "4 -0.320563          3  7245110400    -0.5 -0.973552   -1.803826   \n",
       "\n",
       "   re_admission  died_in_hosp  mortality_90d  Weight_kg   ...    \\\n",
       "0          -0.5             0              1  -0.218124   ...     \n",
       "1          -0.5             0              1  -0.218124   ...     \n",
       "2          -0.5             0              1  -0.218124   ...     \n",
       "3          -0.5             0              1  -0.218124   ...     \n",
       "4          -0.5             0              1  -0.218124   ...     \n",
       "\n",
       "   median_dose_vaso  max_dose_vaso  input_total_tev  input_4hourly_tev  \\\n",
       "0               0.0      -0.378832         0.139523           1.257985   \n",
       "1               0.0      -0.378832         0.324790           1.243446   \n",
       "2               0.0      -0.378832         0.332546           0.374560   \n",
       "3               0.0      -0.378832         0.336913           0.209693   \n",
       "4               0.0      -0.378832         0.341234           0.209693   \n",
       "\n",
       "   output_total  output_4hourly  cumulated_balance_tev  vaso_input  iv_input  \\\n",
       "0     -0.376479        0.422937               0.097512         0.0       4.0   \n",
       "1     -0.037480        0.645655               0.326743         0.0       4.0   \n",
       "2      0.327893        1.033948               0.102300         0.0       2.0   \n",
       "3      0.400830        0.734782               0.018508         0.0       2.0   \n",
       "4      0.442817        0.619696              -0.036855         0.0       2.0   \n",
       "\n",
       "   reward  \n",
       "0       0  \n",
       "1       0  \n",
       "2       0  \n",
       "3       0  \n",
       "4       0  \n",
       "\n",
       "[5 rows x 60 columns]"
      ]
     },
     "execution_count": 175,
     "metadata": {},
     "output_type": "execute_result"
    }
   ],
   "source": [
    "df.head()"
   ]
  },
  {
   "cell_type": "code",
   "execution_count": 180,
   "metadata": {
    "collapsed": true
   },
   "outputs": [],
   "source": [
    "df_orig = pd.read_csv('../../data/MKdataset07Feb17.csv')"
   ]
  },
  {
   "cell_type": "code",
   "execution_count": 181,
   "metadata": {},
   "outputs": [
    {
     "data": {
      "text/plain": [
       "0      9\n",
       "1      8\n",
       "2      7\n",
       "3      6\n",
       "4      5\n",
       "5      8\n",
       "6     13\n",
       "7     11\n",
       "8      8\n",
       "9     11\n",
       "10    11\n",
       "11    11\n",
       "12    11\n",
       "13    11\n",
       "Name: SOFA, dtype: int64"
      ]
     },
     "execution_count": 181,
     "metadata": {},
     "output_type": "execute_result"
    }
   ],
   "source": [
    "df_orig_icu3 = df_orig[df_orig['icustayid']==3]\n",
    "df_orig_icu3['SOFA']"
   ]
  },
  {
   "cell_type": "code",
   "execution_count": 179,
   "metadata": {
    "collapsed": true
   },
   "outputs": [],
   "source": [
    "df_train = pd.read_csv('../../data/rl_train_set_unscaled.csv')"
   ]
  },
  {
   "cell_type": "code",
   "execution_count": 182,
   "metadata": {
    "collapsed": true
   },
   "outputs": [],
   "source": [
    "df_orig_tmp = df_orig[df_orig['icustayid'].isin(df_train['icustayid'].unique())]"
   ]
  },
  {
   "cell_type": "code",
   "execution_count": null,
   "metadata": {
    "collapsed": true
   },
   "outputs": [],
   "source": []
  }
 ],
 "metadata": {
  "kernelspec": {
   "display_name": "Python 2",
   "language": "python",
   "name": "python2"
  },
  "language_info": {
   "codemirror_mode": {
    "name": "ipython",
    "version": 2
   },
   "file_extension": ".py",
   "mimetype": "text/x-python",
   "name": "python",
   "nbconvert_exporter": "python",
   "pygments_lexer": "ipython2",
   "version": "2.7.6"
  }
 },
 "nbformat": 4,
 "nbformat_minor": 2
}
